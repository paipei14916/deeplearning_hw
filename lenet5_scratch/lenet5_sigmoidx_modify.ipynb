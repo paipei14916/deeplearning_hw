{
 "cells": [
  {
   "cell_type": "code",
   "execution_count": 1,
   "id": "2f9ad0c9-8bab-4b4e-b410-fdaf79b03952",
   "metadata": {
    "tags": []
   },
   "outputs": [],
   "source": [
    "import pickle\n",
    "import random\n",
    "import numpy as np\n",
    "import matplotlib.pyplot as plt\n",
    "from abc import ABCMeta, abstractmethod\n",
    "import cv2\n",
    "import multiprocessing\n",
    "import math\n",
    "import time\n",
    "from tqdm import tqdm"
   ]
  },
  {
   "cell_type": "markdown",
   "id": "a42c936a-14c7-4908-8130-9f59b56c1075",
   "metadata": {},
   "source": [
    "# Define Function"
   ]
  },
  {
   "cell_type": "code",
   "execution_count": 2,
   "id": "416784b2-7432-425a-8ada-27636d498a99",
   "metadata": {
    "tags": []
   },
   "outputs": [],
   "source": [
    "def MakeOneHot(Y, D_out):\n",
    "    N = Y.shape[0]\n",
    "    Z = np.zeros((N, D_out))\n",
    "    Z[np.arange(N), Y] = 1\n",
    "    return Z"
   ]
  },
  {
   "cell_type": "code",
   "execution_count": 3,
   "id": "a5d11496-365f-494a-bb83-d5ce59322383",
   "metadata": {
    "tags": []
   },
   "outputs": [],
   "source": [
    "class FC():\n",
    "    \"\"\"\n",
    "    Fully connected layer\n",
    "    \"\"\"\n",
    "    def __init__(self, D_in, D_out):\n",
    "        #print(\"Build FC\")\n",
    "        self.cache = None\n",
    "        #self.W = {'val': np.random.randn(D_in, D_out), 'grad': 0}\n",
    "        self.W = {'val': np.random.normal(0.0, np.sqrt(2/D_in), (D_in,D_out)), 'grad': 0}\n",
    "        self.b = {'val': np.random.randn(D_out), 'grad': 0}\n",
    "\n",
    "    def _forward(self, X):\n",
    "        #print(\"FC: _forward\")\n",
    "        out = np.dot(X, self.W['val']) + self.b['val']\n",
    "        self.cache = X\n",
    "        return out\n",
    "\n",
    "    def _backward(self, dout):\n",
    "        #print(\"FC: _backward\")\n",
    "        X = self.cache\n",
    "        dX = np.dot(dout, self.W['val'].T).reshape(X.shape)\n",
    "        self.W['grad'] = np.dot(X.reshape(X.shape[0], np.prod(X.shape[1:])).T, dout)\n",
    "        self.b['grad'] = np.sum(dout, axis=0)\n",
    "        #self._update_params()\n",
    "        return dX\n",
    "\n",
    "    def _update_params(self, lr=0.001):\n",
    "        # Update the parameters\n",
    "        self.W['val'] -= lr*self.W['grad']\n",
    "        self.b['val'] -= lr*self.b['grad']"
   ]
  },
  {
   "cell_type": "code",
   "execution_count": 4,
   "id": "a92a2e18-efbe-4039-86cb-5a2138ff0371",
   "metadata": {
    "tags": []
   },
   "outputs": [],
   "source": [
    "class Conv():\n",
    "    \"\"\"\n",
    "    Conv layer\n",
    "    \"\"\"\n",
    "    def __init__(self, Cin, Cout, F, stride=1, padding=0, bias=True):\n",
    "        self.Cin = Cin\n",
    "        self.Cout = Cout\n",
    "        self.F = F\n",
    "        self.S = stride\n",
    "        #self.W = {'val': np.random.randn(Cout, Cin, F, F), 'grad': 0}\n",
    "        self.W = {'val': np.random.normal(0.0,np.sqrt(2/Cin),(Cout,Cin,F,F)), 'grad': 0} # Xavier Initialization\n",
    "        self.b = {'val': np.random.randn(Cout), 'grad': 0}\n",
    "        self.cache = None\n",
    "        self.pad = padding\n",
    "\n",
    "    def _forward(self, X):\n",
    "        X = np.pad(X, ((0,0),(0,0),(self.pad,self.pad),(self.pad,self.pad)), 'constant')\n",
    "        (N, Cin, H, W) = X.shape\n",
    "        H_ = H - self.F + self.S \n",
    "        W_ = W - self.F + self.S \n",
    "        Y = np.zeros((N, self.Cout, H_, W_))\n",
    "\n",
    "        for n in range(N):\n",
    "            for c in range(self.Cout):\n",
    "                for h in range(H_):\n",
    "                    for w in range(W_):\n",
    "                        Y[n, c, h, w] = np.sum(X[n, :, h:h+self.F, w:w+self.F] * self.W['val'][c, :, :, :]) + self.b['val'][c]\n",
    "\n",
    "        self.cache = X\n",
    "        return Y\n",
    "\n",
    "    def _backward(self, dout):\n",
    "        # dout (N,Cout,H_,W_)\n",
    "        # W (Cout, Cin, F, F)\n",
    "        X = self.cache\n",
    "        (N, Cin, H, W) = X.shape\n",
    "        H_ = H - self.F + self.S \n",
    "        W_ = W - self.F + self.S \n",
    "        W_rot = np.rot90(np.rot90(self.W['val']))\n",
    "\n",
    "        dX = np.zeros(X.shape)\n",
    "        dW = np.zeros(self.W['val'].shape)\n",
    "        db = np.zeros(self.b['val'].shape)\n",
    "\n",
    "        # dW\n",
    "        for co in range(self.Cout):\n",
    "            for ci in range(Cin):\n",
    "                for h in range(self.F):\n",
    "                    for w in range(self.F):\n",
    "                        dW[co, ci, h, w] = np.sum(X[:,ci,h:h+H_,w:w+W_] * dout[:,co,:,:])\n",
    "\n",
    "        # db\n",
    "        for co in range(self.Cout):\n",
    "            db[co] = np.sum(dout[:,co,:,:])\n",
    "\n",
    "        dout_pad = np.pad(dout, ((0,0),(0,0),(self.F,self.F),(self.F,self.F)), 'constant')\n",
    "        #print(\"dout_pad.shape: \" + str(dout_pad.shape))\n",
    "        # dX\n",
    "        for n in range(N):\n",
    "            for ci in range(Cin):\n",
    "                for h in range(H):\n",
    "                    for w in range(W):\n",
    "                        #print(\"self.F.shape: %s\", self.F)\n",
    "                        #print(\"%s, W_rot[:,ci,:,:].shape: %s, dout_pad[n,:,h:h+self.F,w:w+self.F].shape: %s\" % ((n,ci,h,w),W_rot[:,ci,:,:].shape, dout_pad[n,:,h:h+self.F,w:w+self.F].shape))\n",
    "                        dX[n, ci, h, w] = np.sum(W_rot[:,ci,:,:] * dout_pad[n, :, h:h+self.F,w:w+self.F])\n",
    "\n",
    "        return dX\n",
    "\n",
    "class MaxPool():\n",
    "    def __init__(self, F, stride):\n",
    "        self.F = F\n",
    "        self.S = stride\n",
    "        self.cache = None\n",
    "\n",
    "    def _forward(self, X):\n",
    "        # X: (N, Cin, H, W): maxpool along 3rd, 4th dim\n",
    "        (N,Cin,H,W) = X.shape\n",
    "        F = self.F\n",
    "        W_ = int(float(W)/F)\n",
    "        H_ = int(float(H)/F)\n",
    "        Y = np.zeros((N,Cin,W_,H_))\n",
    "        M = np.zeros(X.shape) # mask\n",
    "        for n in range(N):\n",
    "            for cin in range(Cin):\n",
    "                for w_ in range(W_):\n",
    "                    for h_ in range(H_):\n",
    "                        Y[n,cin,w_,h_] = np.max(X[n,cin,F*w_:F*(w_+1),F*h_:F*(h_+1)])\n",
    "                        i,j = np.unravel_index(X[n,cin,F*w_:F*(w_+1),F*h_:F*(h_+1)].argmax(), (F,F))\n",
    "                        M[n,cin,F*w_+i,F*h_+j] = 1\n",
    "        self.cache = M\n",
    "        return Y\n",
    "\n",
    "    def _backward(self, dout):\n",
    "        M = self.cache\n",
    "        (N,Cin,H,W) = M.shape\n",
    "        dout = np.array(dout)\n",
    "        #print(\"dout.shape: %s, M.shape: %s\" % (dout.shape, M.shape))\n",
    "        dX = np.zeros(M.shape)\n",
    "        for n in range(N):\n",
    "            for c in range(Cin):\n",
    "                #print(\"(n,c): (%s,%s)\" % (n,c))\n",
    "                dX[n,c,:,:] = dout[n,c,:,:].repeat(2, axis=0).repeat(2, axis=1)\n",
    "        return dX*M"
   ]
  },
  {
   "cell_type": "code",
   "execution_count": 5,
   "id": "0c8ee7aa-9bfb-44bc-83cc-21f91f25babe",
   "metadata": {
    "tags": []
   },
   "outputs": [],
   "source": [
    "class Sigmoid():\n",
    "    \"\"\"\n",
    "    Sigmoid activation layer\n",
    "    \"\"\"\n",
    "    def __init__(self):\n",
    "        self.cache = None\n",
    "\n",
    "    def _forward(self, X):\n",
    "        self.cache = X\n",
    "        return X * self._sigmoid(X)\n",
    "\n",
    "    def _backward(self, dout):\n",
    "        X = self.cache\n",
    "        dX = dout * self._sigmoid(X) * (1 - self._sigmoid(X))\n",
    "        return dX\n",
    "\n",
    "    def _sigmoid(self, X):\n",
    "        # Clip the input values between -500 and 500\n",
    "        X = np.clip(X, -500, 500)\n",
    "        return 1 / (1 + np.exp(-X))"
   ]
  },
  {
   "cell_type": "code",
   "execution_count": 6,
   "id": "df0a4f93-18cd-4ec4-92e6-f6f71238f9a8",
   "metadata": {
    "tags": []
   },
   "outputs": [],
   "source": [
    "class Softmax():\n",
    "    \"\"\"\n",
    "    Softmax activation layer\n",
    "    \"\"\"\n",
    "    def __init__(self):\n",
    "        #print(\"Build Softmax\")\n",
    "        self.cache = None\n",
    "\n",
    "    def _forward(self, X):\n",
    "        #print(\"Softmax: _forward\")\n",
    "        maxes = np.amax(X, axis=1)\n",
    "        maxes = maxes.reshape(maxes.shape[0], 1)\n",
    "        Y = np.exp(X - maxes)\n",
    "        Z = Y / np.sum(Y, axis=1).reshape(Y.shape[0], 1)\n",
    "        self.cache = (X, Y, Z)\n",
    "        return Z # distribution\n",
    "\n",
    "    def _backward(self, dout):\n",
    "        X, Y, Z = self.cache\n",
    "        dZ = np.zeros(X.shape)\n",
    "        dY = np.zeros(X.shape)\n",
    "        dX = np.zeros(X.shape)\n",
    "        N = X.shape[0]\n",
    "        for n in range(N):\n",
    "            i = np.argmax(Z[n])\n",
    "            dZ[n,:] = np.diag(Z[n]) - np.outer(Z[n],Z[n])\n",
    "            M = np.zeros((N,N))\n",
    "            M[:,i] = 1\n",
    "            dY[n,:] = np.eye(N) - M\n",
    "        dX = np.dot(dout,dZ)\n",
    "        dX = np.dot(dX,dY)\n",
    "        return dX"
   ]
  },
  {
   "cell_type": "code",
   "execution_count": 7,
   "id": "f515168c-0c34-4f90-b39f-2b297f27dae6",
   "metadata": {
    "tags": []
   },
   "outputs": [],
   "source": [
    "class Softmax():\n",
    "    \"\"\"\n",
    "    Softmax activation layer\n",
    "    \"\"\"\n",
    "    def __init__(self):\n",
    "        #print(\"Build Softmax\")\n",
    "        self.cache = None\n",
    "\n",
    "    def _forward(self, X):\n",
    "        #print(\"Softmax: _forward\")\n",
    "        maxes = np.amax(X, axis=1)\n",
    "        maxes = maxes.reshape(maxes.shape[0], 1)\n",
    "        Y = np.exp(X - maxes)\n",
    "        Z = Y / np.sum(Y, axis=1).reshape(Y.shape[0], 1)\n",
    "        self.cache = (X, Y, Z)\n",
    "        return Z # distribution\n",
    "\n",
    "    def _backward(self, dout):\n",
    "        X, Y, Z = self.cache\n",
    "        dZ = np.zeros(X.shape)\n",
    "        dY = np.zeros(X.shape)\n",
    "        dX = np.zeros(X.shape)\n",
    "        N = X.shape[0]\n",
    "        for n in range(N):\n",
    "            i = np.argmax(Z[n])\n",
    "            dZ[n,:] = np.diag(Z[n]) - np.outer(Z[n],Z[n])\n",
    "            M = np.zeros((N,N))\n",
    "            M[:,i] = 1\n",
    "            dY[n,:] = np.eye(N) - M\n",
    "        dX = np.dot(dout,dZ)\n",
    "        dX = np.dot(dX,dY)\n",
    "        return dX"
   ]
  },
  {
   "cell_type": "code",
   "execution_count": 8,
   "id": "a6e3a802-bc99-45a3-82d3-ec50b9ae4693",
   "metadata": {
    "tags": []
   },
   "outputs": [],
   "source": [
    "def NLLLoss(Y_pred, Y_true):\n",
    "    \"\"\"\n",
    "    Negative log likelihood loss\n",
    "    \"\"\"\n",
    "    loss = 0.0\n",
    "    N = Y_pred.shape[0]\n",
    "    M = np.sum(Y_pred*Y_true, axis=1)\n",
    "    for e in M:\n",
    "        #print(e)\n",
    "        if e == 0:\n",
    "            loss += 500\n",
    "        else:\n",
    "            loss += -np.log(e)\n",
    "    return loss/N\n",
    "\n",
    "class CrossEntropyLoss():\n",
    "    def __init__(self):\n",
    "        pass\n",
    "\n",
    "    def get(self, Y_pred, Y_true):\n",
    "        N = Y_pred.shape[0]\n",
    "        softmax = Softmax()\n",
    "        prob = softmax._forward(Y_pred)\n",
    "        loss = NLLLoss(prob, Y_true)\n",
    "        Y_serial = np.argmax(Y_true, axis=1)\n",
    "        # dout = prob.copy()\n",
    "        # dout[np.arange(N), Y_serial] -= 1\n",
    "        dout = prob - Y_true\n",
    "        return loss, dout"
   ]
  },
  {
   "cell_type": "code",
   "execution_count": 9,
   "id": "3ace15f7-3b83-471d-9cda-eb075163ce1c",
   "metadata": {
    "tags": []
   },
   "outputs": [],
   "source": [
    "class Net(metaclass=ABCMeta):\n",
    "    # Neural network super class\n",
    "\n",
    "    @abstractmethod\n",
    "    def __init__(self):\n",
    "        pass\n",
    "\n",
    "    @abstractmethod\n",
    "    def forward(self, X):\n",
    "        pass\n",
    "\n",
    "    @abstractmethod\n",
    "    def backward(self, dout):\n",
    "        pass\n",
    "\n",
    "    @abstractmethod\n",
    "    def get_params(self):\n",
    "        pass\n",
    "\n",
    "    @abstractmethod\n",
    "    def set_params(self, params):\n",
    "        pass"
   ]
  },
  {
   "cell_type": "code",
   "execution_count": 10,
   "id": "e3fccbaa-c3a3-4d3a-9c88-e0a45ff09b14",
   "metadata": {
    "tags": []
   },
   "outputs": [],
   "source": [
    "class SGDMomentum():\n",
    "    def __init__(self, params, lr=0.001, momentum=0.99, reg=0):\n",
    "        self.l = len(params)\n",
    "        self.parameters = params\n",
    "        self.velocities = []\n",
    "        for param in self.parameters:\n",
    "            self.velocities.append(np.zeros(param['val'].shape))\n",
    "        self.lr = lr\n",
    "        self.rho = momentum\n",
    "        self.reg = reg\n",
    "\n",
    "    def step(self):\n",
    "        for i in range(self.l):\n",
    "            self.velocities[i] = self.rho*self.velocities[i] + (1-self.rho)*self.parameters[i]['grad']\n",
    "            self.parameters[i]['val'] -= (self.lr*self.velocities[i] + self.reg*self.parameters[i]['val'])"
   ]
  },
  {
   "cell_type": "code",
   "execution_count": 11,
   "id": "3f2d9016-8b99-4829-9109-6e01baca6f7e",
   "metadata": {
    "tags": []
   },
   "outputs": [],
   "source": [
    "def create_mini_batches(image, label, mini_batch_size = 64):\n",
    "    dataset_size = image.shape[0] # number of training examples\n",
    "    mini_batches = []\n",
    "    # partition (image, label). Minus the end case.\n",
    "    complete_minibatches_number = math.floor(dataset_size / mini_batch_size) # number of mini batches of size mini_batch_size in your partitionning\n",
    "    for k in range(0, complete_minibatches_number):\n",
    "        mini_batch_image = image[k * mini_batch_size: k * mini_batch_size + mini_batch_size, :, :, :]\n",
    "        mini_batch_label = label[k * mini_batch_size: k * mini_batch_size + mini_batch_size]\n",
    "        mini_batch = (mini_batch_image, mini_batch_label)\n",
    "        mini_batches.append(mini_batch)\n",
    "    # handle the end case (last mini-batch < mini_batch_size)\n",
    "    if dataset_size % mini_batch_size != 0:\n",
    "        mini_batch_image = image[complete_minibatches_number * mini_batch_size: dataset_size, :, :, :]\n",
    "        mini_batch_label = label[complete_minibatches_number * mini_batch_size: dataset_size]\n",
    "        mini_batch = (mini_batch_image, mini_batch_label)\n",
    "        mini_batches.append(mini_batch)\n",
    "    return mini_batches"
   ]
  },
  {
   "cell_type": "code",
   "execution_count": 12,
   "id": "b171846b-cc60-49ed-bd3e-8c65e2b3c8da",
   "metadata": {
    "tags": []
   },
   "outputs": [],
   "source": [
    "def readDataset(image_path):\n",
    "    num_processes = 16\n",
    "    with multiprocessing.Pool(processes=num_processes) as pool:\n",
    "        results = pool.map(process_image, image_path)\n",
    "    return results\n",
    "\n",
    "def process_image(image_path):\n",
    "    im = cv2.imread(image_path)\n",
    "    # gray = cv2.cvtColor(im, cv2.COLOR_BGR2GRAY)\n",
    "    resized = cv2.resize(im, (32, 32), interpolation=cv2.INTER_AREA)\n",
    "    return resized\n",
    "\n",
    "def load_dataset(train_image, train_label):\n",
    "    train_image = readDataset(train_image)\n",
    "    train_image = np.array(train_image)\n",
    "    train_image = train_image/float(255)\n",
    "    train_image -= np.mean(train_image)\n",
    "    train_label = np.array(train_label)\n",
    "    return (train_image, train_label)\n",
    "\n",
    "\n",
    "def read_dataset(img_filename):\n",
    "    filename = []\n",
    "    label = []\n",
    "    with open(img_filename, 'r') as f:\n",
    "        for line in f.readlines():\n",
    "            s = line.split(' ')\n",
    "            filename.append(s[0])\n",
    "            label.append(int(s[1]))\n",
    "    dataset = []\n",
    "    for i in range(len(filename)):\n",
    "        dataset.append((filename[i],label[i]))   \n",
    "    random.shuffle(dataset)    \n",
    "    return dataset"
   ]
  },
  {
   "cell_type": "markdown",
   "id": "7a98c77d-89d6-45d2-aea7-496b4504ca36",
   "metadata": {},
   "source": [
    "# Load Data"
   ]
  },
  {
   "cell_type": "code",
   "execution_count": 13,
   "id": "5eeb5110-5065-4bff-ae74-be3f98a5bd40",
   "metadata": {
    "tags": []
   },
   "outputs": [],
   "source": [
    "dataset_train = read_dataset('train.txt')\n",
    "dataset_test = read_dataset('test.txt')\n",
    "dataset_val  = read_dataset('val.txt')\n",
    "\n",
    "image_paths_train, Y_train = zip(*dataset_train[::20])\n",
    "image_paths_test, Y_test = zip(*dataset_test)\n",
    "image_paths_val, Y_val = zip(*dataset_val)\n",
    "\n",
    "X_train = load_dataset(image_paths_train, Y_train)\n",
    "X_test  = load_dataset(image_paths_test, Y_test)\n",
    "X_val   = load_dataset(image_paths_val, Y_val)"
   ]
  },
  {
   "cell_type": "markdown",
   "id": "8d4f1bb5-94f9-401d-8126-dd77d703880f",
   "metadata": {},
   "source": [
    "# Model Setting"
   ]
  },
  {
   "cell_type": "code",
   "execution_count": 17,
   "id": "b75358db-224d-48a8-a691-61c587807535",
   "metadata": {
    "tags": []
   },
   "outputs": [],
   "source": [
    "class LeNet5(Net):\n",
    "    # LeNet5\n",
    "\n",
    "    def __init__(self):\n",
    "        self.conv1 = Conv(3, 6, 3, stride=1)\n",
    "        self.Sigmoid1 = Sigmoid()\n",
    "        self.pool1 = MaxPool(2,2)\n",
    "        self.conv2 = Conv(6, 16, 3, stride=0)\n",
    "        self.Sigmoid2 = Sigmoid()\n",
    "        self.pool2 = MaxPool(2,2)\n",
    "        self.conv3 = Conv(16, 32, 3, stride=1)\n",
    "        self.Sigmoid3 = Sigmoid()\n",
    "        self.pool3 = MaxPool(2,2)\n",
    "        self.FC1 = FC(32*2*2, 120) #(16*5*5, 120)\n",
    "        self.Sigmoid4 = Sigmoid()\n",
    "        self.FC2 = FC(120, 84)\n",
    "        self.Sigmoid5 = Sigmoid()\n",
    "        self.FC3 = FC(84, 50)\n",
    "        self.Softmax = Softmax()\n",
    "\n",
    "        self.p2_shape = None\n",
    "\n",
    "    def forward(self, X):\n",
    "        h1 = self.conv1._forward(X)\n",
    "        a1 = self.Sigmoid1._forward(h1)\n",
    "        p1 = self.pool1._forward(a1)\n",
    "        h2 = self.conv2._forward(p1)\n",
    "        a2 = self.Sigmoid2._forward(h2)\n",
    "        p2 = self.pool2._forward(a2)\n",
    "        h3 = self.conv3._forward(p2)\n",
    "        a3 = self.Sigmoid3._forward(h3)\n",
    "        p3 = self.pool3._forward(a3)\n",
    "        self.p3_shape = p3.shape\n",
    "        fl = p3.reshape(X.shape[0],-1) # Flatten\n",
    "        h4 = self.FC1._forward(fl)\n",
    "        a4 = self.Sigmoid4._forward(h4)\n",
    "        h5 = self.FC2._forward(a4)\n",
    "        a5 = self.Sigmoid5._forward(h5)\n",
    "        h6 = self.FC3._forward(a5)\n",
    "        a6 = self.Softmax._forward(h6)\n",
    "        return a6\n",
    "\n",
    "    def backward(self, dout):\n",
    "        #dout = self.Softmax._backward(dout)\n",
    "        dout = self.FC3._backward(dout)\n",
    "        dout = self.Sigmoid5._backward(dout)\n",
    "        dout = self.FC2._backward(dout)\n",
    "        dout = self.Sigmoid4._backward(dout)\n",
    "        dout = self.FC1._backward(dout)\n",
    "        dout = dout.reshape(self.p3_shape) # reshape\n",
    "        dout = self.pool3._backward(dout)\n",
    "        dout = self.Sigmoid3._backward(dout)\n",
    "        dout = self.conv3._backward(dout)\n",
    "        dout = self.pool2._backward(dout)\n",
    "        dout = self.Sigmoid2._backward(dout)\n",
    "        dout = self.conv2._backward(dout)\n",
    "        dout = self.pool1._backward(dout)\n",
    "        dout = self.Sigmoid1._backward(dout)\n",
    "        dout = self.conv1._backward(dout)\n",
    "        \n",
    "    def get_params(self):\n",
    "        return [self.conv1.W, self.conv1.b, self.conv2.W, self.conv2.b, self.conv3.W, self.conv3.b, self.FC1.W, self.FC1.b, self.FC2.W, self.FC2.b, self.FC3.W, self.FC3.b]\n",
    "\n",
    "    def set_params(self, params):\n",
    "        [self.conv1.W, self.conv1.b, self.conv2.W, self.conv2.b, self.conv3.W, self.conv3.b, self.FC1.W, self.FC1.b, self.FC2.W, self.FC2.b, self.FC3.W, self.FC3.b] = params"
   ]
  },
  {
   "cell_type": "code",
   "execution_count": 18,
   "id": "409740cf-0355-47fe-ba79-d008a0964c8b",
   "metadata": {
    "tags": []
   },
   "outputs": [
    {
     "name": "stdout",
     "output_type": "stream",
     "text": [
      "batch_size: 32, Input shape: (3167, 32, 32, 3)\n"
     ]
    }
   ],
   "source": [
    "batch_size = 32\n",
    "D_in = X_train[0].shape\n",
    "D_out = 50\n",
    "print(\"batch_size: \" + str(batch_size) + \", Input shape: \" + str(D_in))\n",
    "model = LeNet5()\n",
    "optim = SGDMomentum(model.get_params(), lr=0.001, momentum=0.80, reg=0.00003)\n",
    "criterion = CrossEntropyLoss()"
   ]
  },
  {
   "cell_type": "code",
   "execution_count": 19,
   "id": "4394d257-039d-4379-a7ad-26ae84277ce0",
   "metadata": {
    "tags": []
   },
   "outputs": [
    {
     "name": "stdout",
     "output_type": "stream",
     "text": [
      "---------- epoch 1 begin ----------\n",
      "Training:\n"
     ]
    },
    {
     "name": "stderr",
     "output_type": "stream",
     "text": [
      "100%|███████████████████████████████████████████| 99/99 [04:30<00:00,  2.73s/it]\n"
     ]
    },
    {
     "name": "stdout",
     "output_type": "stream",
     "text": [
      "Validation:\n"
     ]
    },
    {
     "name": "stderr",
     "output_type": "stream",
     "text": [
      "100%|███████████████████████████████████████████| 15/15 [00:25<00:00,  1.67s/it]\n"
     ]
    },
    {
     "name": "stdout",
     "output_type": "stream",
     "text": [
      "epoch: 1 / 10, Training loss: 3.962, Validation loss: 4.192\n",
      "Accuracy of Training Data    : 2.3050%\n",
      "Accuracy of Validation Data  : 3.1111%\n",
      "Time used: 295.47441363334656 sec\n",
      "---------- epoch 2 begin ----------\n",
      "Training:\n"
     ]
    },
    {
     "name": "stderr",
     "output_type": "stream",
     "text": [
      "100%|███████████████████████████████████████████| 99/99 [04:27<00:00,  2.71s/it]\n"
     ]
    },
    {
     "name": "stdout",
     "output_type": "stream",
     "text": [
      "Validation:\n"
     ]
    },
    {
     "name": "stderr",
     "output_type": "stream",
     "text": [
      "100%|███████████████████████████████████████████| 15/15 [00:25<00:00,  1.68s/it]\n"
     ]
    },
    {
     "name": "stdout",
     "output_type": "stream",
     "text": [
      "epoch: 2 / 10, Training loss: 3.956, Validation loss: 4.194\n",
      "Accuracy of Training Data    : 2.7471%\n",
      "Accuracy of Validation Data  : 3.3333%\n",
      "Time used: 293.0005033016205 sec\n",
      "---------- epoch 3 begin ----------\n",
      "Training:\n"
     ]
    },
    {
     "name": "stderr",
     "output_type": "stream",
     "text": [
      "100%|███████████████████████████████████████████| 99/99 [04:26<00:00,  2.70s/it]\n"
     ]
    },
    {
     "name": "stdout",
     "output_type": "stream",
     "text": [
      "Validation:\n"
     ]
    },
    {
     "name": "stderr",
     "output_type": "stream",
     "text": [
      "100%|███████████████████████████████████████████| 15/15 [00:25<00:00,  1.72s/it]\n"
     ]
    },
    {
     "name": "stdout",
     "output_type": "stream",
     "text": [
      "epoch: 3 / 10, Training loss: 3.949, Validation loss: 4.191\n",
      "Accuracy of Training Data    : 3.4733%\n",
      "Accuracy of Validation Data  : 3.3333%\n",
      "Time used: 292.70090794563293 sec\n",
      "---------- epoch 4 begin ----------\n",
      "Training:\n"
     ]
    },
    {
     "name": "stderr",
     "output_type": "stream",
     "text": [
      "100%|███████████████████████████████████████████| 99/99 [04:28<00:00,  2.71s/it]\n"
     ]
    },
    {
     "name": "stdout",
     "output_type": "stream",
     "text": [
      "Validation:\n"
     ]
    },
    {
     "name": "stderr",
     "output_type": "stream",
     "text": [
      "100%|███████████████████████████████████████████| 15/15 [00:25<00:00,  1.68s/it]\n"
     ]
    },
    {
     "name": "stdout",
     "output_type": "stream",
     "text": [
      "epoch: 4 / 10, Training loss: 3.946, Validation loss: 4.178\n",
      "Accuracy of Training Data    : 3.8522%\n",
      "Accuracy of Validation Data  : 5.1111%\n",
      "Time used: 293.8326334953308 sec\n",
      "---------- epoch 5 begin ----------\n",
      "Training:\n"
     ]
    },
    {
     "name": "stderr",
     "output_type": "stream",
     "text": [
      "100%|███████████████████████████████████████████| 99/99 [04:26<00:00,  2.69s/it]\n"
     ]
    },
    {
     "name": "stdout",
     "output_type": "stream",
     "text": [
      "Validation:\n"
     ]
    },
    {
     "name": "stderr",
     "output_type": "stream",
     "text": [
      "100%|███████████████████████████████████████████| 15/15 [00:25<00:00,  1.67s/it]\n"
     ]
    },
    {
     "name": "stdout",
     "output_type": "stream",
     "text": [
      "epoch: 5 / 10, Training loss: 3.945, Validation loss: 4.182\n",
      "Accuracy of Training Data    : 4.0101%\n",
      "Accuracy of Validation Data  : 4.2222%\n",
      "Time used: 291.3775050640106 sec\n",
      "---------- epoch 6 begin ----------\n",
      "Training:\n"
     ]
    },
    {
     "name": "stderr",
     "output_type": "stream",
     "text": [
      "100%|███████████████████████████████████████████| 99/99 [04:27<00:00,  2.71s/it]\n"
     ]
    },
    {
     "name": "stdout",
     "output_type": "stream",
     "text": [
      "Validation:\n"
     ]
    },
    {
     "name": "stderr",
     "output_type": "stream",
     "text": [
      "100%|███████████████████████████████████████████| 15/15 [00:25<00:00,  1.70s/it]\n"
     ]
    },
    {
     "name": "stdout",
     "output_type": "stream",
     "text": [
      "epoch: 6 / 10, Training loss: 3.942, Validation loss: 4.187\n",
      "Accuracy of Training Data    : 4.1680%\n",
      "Accuracy of Validation Data  : 4.0000%\n",
      "Time used: 293.32449674606323 sec\n",
      "---------- epoch 7 begin ----------\n",
      "Training:\n"
     ]
    },
    {
     "name": "stderr",
     "output_type": "stream",
     "text": [
      "100%|███████████████████████████████████████████| 99/99 [04:28<00:00,  2.71s/it]\n"
     ]
    },
    {
     "name": "stdout",
     "output_type": "stream",
     "text": [
      "Validation:\n"
     ]
    },
    {
     "name": "stderr",
     "output_type": "stream",
     "text": [
      "100%|███████████████████████████████████████████| 15/15 [00:25<00:00,  1.68s/it]\n"
     ]
    },
    {
     "name": "stdout",
     "output_type": "stream",
     "text": [
      "epoch: 7 / 10, Training loss: 3.939, Validation loss: 4.186\n",
      "Accuracy of Training Data    : 4.6100%\n",
      "Accuracy of Validation Data  : 4.2222%\n",
      "Time used: 293.1918361186981 sec\n",
      "---------- epoch 8 begin ----------\n",
      "Training:\n"
     ]
    },
    {
     "name": "stderr",
     "output_type": "stream",
     "text": [
      "100%|███████████████████████████████████████████| 99/99 [04:29<00:00,  2.73s/it]\n"
     ]
    },
    {
     "name": "stdout",
     "output_type": "stream",
     "text": [
      "Validation:\n"
     ]
    },
    {
     "name": "stderr",
     "output_type": "stream",
     "text": [
      "100%|███████████████████████████████████████████| 15/15 [00:25<00:00,  1.67s/it]\n"
     ]
    },
    {
     "name": "stdout",
     "output_type": "stream",
     "text": [
      "epoch: 8 / 10, Training loss: 3.943, Validation loss: 4.185\n",
      "Accuracy of Training Data    : 4.2943%\n",
      "Accuracy of Validation Data  : 4.2222%\n",
      "Time used: 294.96088576316833 sec\n",
      "---------- epoch 9 begin ----------\n",
      "Training:\n"
     ]
    },
    {
     "name": "stderr",
     "output_type": "stream",
     "text": [
      "100%|███████████████████████████████████████████| 99/99 [04:27<00:00,  2.70s/it]\n"
     ]
    },
    {
     "name": "stdout",
     "output_type": "stream",
     "text": [
      "Validation:\n"
     ]
    },
    {
     "name": "stderr",
     "output_type": "stream",
     "text": [
      "100%|███████████████████████████████████████████| 15/15 [00:25<00:00,  1.71s/it]\n"
     ]
    },
    {
     "name": "stdout",
     "output_type": "stream",
     "text": [
      "epoch: 9 / 10, Training loss: 3.945, Validation loss: 4.175\n",
      "Accuracy of Training Data    : 4.0733%\n",
      "Accuracy of Validation Data  : 5.1111%\n",
      "Time used: 293.31423783302307 sec\n",
      "---------- epoch 10 begin ----------\n",
      "Training:\n"
     ]
    },
    {
     "name": "stderr",
     "output_type": "stream",
     "text": [
      "100%|███████████████████████████████████████████| 99/99 [04:28<00:00,  2.71s/it]\n"
     ]
    },
    {
     "name": "stdout",
     "output_type": "stream",
     "text": [
      "Validation:\n"
     ]
    },
    {
     "name": "stderr",
     "output_type": "stream",
     "text": [
      "100%|███████████████████████████████████████████| 15/15 [00:25<00:00,  1.67s/it]"
     ]
    },
    {
     "name": "stdout",
     "output_type": "stream",
     "text": [
      "epoch: 10 / 10, Training loss: 3.946, Validation loss: 4.180\n",
      "Accuracy of Training Data    : 3.8522%\n",
      "Accuracy of Validation Data  : 4.6667%\n",
      "Time used: 293.57965087890625 sec\n",
      "Total time used: 2934.7575602531433 sec\n"
     ]
    },
    {
     "name": "stderr",
     "output_type": "stream",
     "text": [
      "\n"
     ]
    }
   ],
   "source": [
    "# TRAIN\n",
    "epoch = 10\n",
    "start_time = time.time()\n",
    "error_acc_list = []\n",
    "for j in range(epoch):    \n",
    "    start_time_epoch = time.time()\n",
    "    loss_train = 0\n",
    "    loss_val   = 0\n",
    "    train_accuracy = 0\n",
    "    val_accuracy   = 0\n",
    "    \n",
    "    mini_batches_train = create_mini_batches(X_train[0], X_train[1], batch_size)\n",
    "    mini_batches_val   = create_mini_batches(X_val[0], X_val[1], batch_size)\n",
    "    print(\"---------- epoch\", j + 1, \"begin ----------\")\n",
    "    print(\"Training:\")\n",
    "    \n",
    "    for i in tqdm(range(len(mini_batches_train))):\n",
    "        X_batch, Y_batch = mini_batches_train[i]\n",
    "        Y_batch = MakeOneHot(Y_batch, D_out)\n",
    "        X_batch = X_batch.transpose(0, 3, 1, 2)\n",
    "        Y_pred = model.forward(X_batch)\n",
    "        loss, dout = criterion.get(Y_pred, Y_batch)\n",
    "        accuracy = np.sum(np.argmax(Y_pred, axis=1) == np.argmax(Y_batch, axis=1))\n",
    "        loss_train += loss\n",
    "        train_accuracy += accuracy  \n",
    "        model.backward(dout)\n",
    "        optim.step()\n",
    "        \n",
    "    print(\"Validation:\")\n",
    "    for ii in tqdm(range(len(mini_batches_val))):\n",
    "        X_batch, Y_batch = mini_batches_val[ii]\n",
    "        Y_batch = MakeOneHot(Y_batch, D_out)\n",
    "        X_batch = X_batch.transpose(0, 3, 1, 2)\n",
    "        Y_pred = model.forward(X_batch)\n",
    "        loss, dout = criterion.get(Y_pred, Y_batch)\n",
    "        accuracy = np.sum(np.argmax(Y_pred, axis=1) == np.argmax(Y_batch, axis=1))\n",
    "        loss_val += loss\n",
    "        val_accuracy += accuracy  \n",
    "        \n",
    "    loss_train = loss_train/i\n",
    "    loss_val   = loss_val/ii\n",
    "    train_accuracy = train_accuracy/len(X_train[1])*100\n",
    "    val_accuracy   = val_accuracy/len(X_val[1])*100\n",
    "\n",
    "    print(\"epoch: %s / %s, Training loss: %.3f, Validation loss: %.3f\" % (j+1,epoch, loss_train, loss_val))\n",
    "    print(\"Accuracy of Training Data    : %.4f%%\" % (train_accuracy))\n",
    "    print(\"Accuracy of Validation Data  : %.4f%%\" % (val_accuracy))\n",
    "    print(\"Time used:\", time.time() - start_time_epoch, \"sec\")\n",
    "    error_acc_list.append([loss_train, loss_val, train_accuracy, val_accuracy])\n",
    "    \n",
    "print(\"Total time used:\", time.time() - start_time, \"sec\")\n",
    "\n",
    "error_acc_list = np.array(error_acc_list).T"
   ]
  },
  {
   "cell_type": "code",
   "execution_count": 20,
   "id": "90983681-e272-4df8-936b-d36b7598a8ff",
   "metadata": {
    "tags": []
   },
   "outputs": [],
   "source": [
    "# save params\n",
    "weights = model.get_params()\n",
    "with open(\"./params/lenet5_sigmoidx_mod_weights.pkl\",\"wb\") as f:\n",
    "\tpickle.dump(weights, f)"
   ]
  },
  {
   "cell_type": "markdown",
   "id": "8c13a38c-4aff-4859-8081-ccd313ef3463",
   "metadata": {
    "tags": []
   },
   "source": [
    "# Plot Results "
   ]
  },
  {
   "cell_type": "code",
   "execution_count": 21,
   "id": "a5050f80-3eb9-45c9-b561-b4aa69b78a99",
   "metadata": {
    "tags": []
   },
   "outputs": [
    {
     "data": {
      "image/png": "[encoded data removed]",
      "text/plain": [
       "<Figure size 700x400 with 1 Axes>"
      ]
     },
     "metadata": {},
     "output_type": "display_data"
    }
   ],
   "source": [
    "x = np.arange(1, epoch + 1)\n",
    "plt.figure(figsize=(7,4), dpi=100)\n",
    "plt.xlabel(\"epoches\")\n",
    "plt.ylabel(\"loss\")\n",
    "plt.plot(x, error_acc_list[0])\n",
    "plt.plot(x, error_acc_list[1])\n",
    "# plt.ylim([0, 6])\n",
    "plt.legend([\"training data\", \"validation data\"], loc = \"upper right\")\n",
    "plt.savefig('./img/lenet5_sigmoidx_mod_loss.png')"
   ]
  },
  {
   "cell_type": "code",
   "execution_count": 27,
   "id": "8854bcfe-5127-430f-9679-0d35acec0663",
   "metadata": {
    "tags": []
   },
   "outputs": [
    {
     "data": {
      "image/png": "[encoded data removed]",
      "text/plain": [
       "<Figure size 400x500 with 2 Axes>"
      ]
     },
     "metadata": {},
     "output_type": "display_data"
    }
   ],
   "source": [
    "f = plt.figure(figsize=(4,5), dpi=100)\n",
    "ax = f.add_subplot(211)\n",
    "plt.title(\"Training Data\")\n",
    "plt.plot(x, error_acc_list[0])\n",
    "plt.ylabel(\"Loss\")\n",
    "plt.xticks([])\n",
    "ax = f.add_subplot(212)\n",
    "plt.plot(x, error_acc_list[1])\n",
    "plt.title(\"Validation Data\")\n",
    "plt.xlabel(\"Epoch\")\n",
    "plt.ylabel(\"Loss\")\n",
    "plt.savefig('./img/lenet5_sigmoidx_mod_loss_seg.png')"
   ]
  },
  {
   "cell_type": "code",
   "execution_count": 26,
   "id": "46156fe8-8f13-4931-98e5-95655c029312",
   "metadata": {
    "tags": []
   },
   "outputs": [
    {
     "data": {
      "image/png": "[encoded data removed]",
      "text/plain": [
       "<Figure size 400x400 with 1 Axes>"
      ]
     },
     "metadata": {},
     "output_type": "display_data"
    }
   ],
   "source": [
    "plt.figure(figsize=(4,4), dpi=100)\n",
    "plt.xlabel(\"epoches\")\n",
    "plt.ylabel(\"accuracy\")\n",
    "plt.plot(x, error_acc_list[2])\n",
    "plt.plot(x, error_acc_list[3])\n",
    "plt.legend([\"training data\", \"validation data\"], loc = \"lower right\")\n",
    "plt.savefig('./img/lenet5_sigmoidx_mod_acc.png')"
   ]
  },
  {
   "cell_type": "code",
   "execution_count": 24,
   "id": "1eb02e9b-547e-486d-8784-80c6e85b9be1",
   "metadata": {
    "tags": []
   },
   "outputs": [
    {
     "name": "stdout",
     "output_type": "stream",
     "text": [
      "Test --> Correct: 13 out of 450, acc=0.028888888888888888\n"
     ]
    }
   ],
   "source": [
    "# TEST SET ACC\n",
    "Y_pred = model.forward(X_test[0].transpose(0, 3, 1, 2))\n",
    "result = np.argmax(Y_pred, axis=1) - Y_test\n",
    "result = list(result)\n",
    "print(\"Test --> Correct: \" + str(result.count(0)) + \" out of \" + str(X_test[0].shape[0]) + \", acc=\" + str(result.count(0)/X_test[0].shape[0]))"
   ]
  },
  {
   "cell_type": "code",
   "execution_count": 25,
   "id": "171ac629-ddcd-4e71-b9d5-89e969087031",
   "metadata": {
    "tags": []
   },
   "outputs": [
    {
     "name": "stdout",
     "output_type": "stream",
     "text": [
      "Training Accuracy   = 3.8522260814651093%\n",
      "Validation Accuracy = 4.666666666666667%\n"
     ]
    }
   ],
   "source": [
    "print(\"Training Accuracy   = \"+ str(error_acc_list[2][-1]) + \"%\")\n",
    "print(\"Validation Accuracy = \"+ str(error_acc_list[3][-1]) + \"%\")"
   ]
  },
  {
   "cell_type": "code",
   "execution_count": null,
   "id": "11ffcced-5af9-4490-8097-de8e6347a597",
   "metadata": {},
   "outputs": [],
   "source": []
  }
 ],
 "metadata": {
  "kernelspec": {
   "display_name": "Python 3 (ipykernel)",
   "language": "python",
   "name": "python3"
  },
  "language_info": {
   "codemirror_mode": {
    "name": "ipython",
    "version": 3
   },
   "file_extension": ".py",
   "mimetype": "text/x-python",
   "name": "python",
   "nbconvert_exporter": "python",
   "pygments_lexer": "ipython3",
   "version": "3.8.10"
  }
 },
 "nbformat": 4,
 "nbformat_minor": 5
}
