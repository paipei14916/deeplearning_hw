{
 "cells": [
  {
   "cell_type": "code",
   "execution_count": 28,
   "id": "9334f2dd-0296-446e-966f-4604bb5b70ba",
   "metadata": {
    "tags": []
   },
   "outputs": [],
   "source": [
    "import pickle\n",
    "import random\n",
    "import numpy as np\n",
    "import matplotlib.pyplot as plt\n",
    "from abc import ABCMeta, abstractmethod\n",
    "import cv2\n",
    "import multiprocessing\n",
    "import math\n",
    "import time\n",
    "from tqdm import tqdm"
   ]
  },
  {
   "cell_type": "markdown",
   "id": "73f1baf2-d243-45fe-a1e4-ba3e5ef04edc",
   "metadata": {},
   "source": [
    "# Define Function"
   ]
  },
  {
   "cell_type": "code",
   "execution_count": 2,
   "id": "a466c57e-e48f-49b5-a8b7-d65a1728b1da",
   "metadata": {
    "tags": []
   },
   "outputs": [],
   "source": [
    "def MakeOneHot(Y, D_out):\n",
    "    N = Y.shape[0]\n",
    "    Z = np.zeros((N, D_out))\n",
    "    Z[np.arange(N), Y] = 1\n",
    "    return Z"
   ]
  },
  {
   "cell_type": "code",
   "execution_count": 3,
   "id": "767a17da-838b-4e72-b284-8a5418f1073e",
   "metadata": {
    "tags": []
   },
   "outputs": [],
   "source": [
    "class FC():\n",
    "    \"\"\"\n",
    "    Fully connected layer\n",
    "    \"\"\"\n",
    "    def __init__(self, D_in, D_out):\n",
    "        #print(\"Build FC\")\n",
    "        self.cache = None\n",
    "        #self.W = {'val': np.random.randn(D_in, D_out), 'grad': 0}\n",
    "        self.W = {'val': np.random.normal(0.0, np.sqrt(2/D_in), (D_in,D_out)), 'grad': 0}\n",
    "        self.b = {'val': np.random.randn(D_out), 'grad': 0}\n",
    "\n",
    "    def _forward(self, X):\n",
    "        #print(\"FC: _forward\")\n",
    "        out = np.dot(X, self.W['val']) + self.b['val']\n",
    "        self.cache = X\n",
    "        return out\n",
    "\n",
    "    def _backward(self, dout):\n",
    "        #print(\"FC: _backward\")\n",
    "        X = self.cache\n",
    "        dX = np.dot(dout, self.W['val'].T).reshape(X.shape)\n",
    "        self.W['grad'] = np.dot(X.reshape(X.shape[0], np.prod(X.shape[1:])).T, dout)\n",
    "        self.b['grad'] = np.sum(dout, axis=0)\n",
    "        #self._update_params()\n",
    "        return dX\n",
    "\n",
    "    def _update_params(self, lr=0.001):\n",
    "        # Update the parameters\n",
    "        self.W['val'] -= lr*self.W['grad']\n",
    "        self.b['val'] -= lr*self.b['grad']"
   ]
  },
  {
   "cell_type": "code",
   "execution_count": 4,
   "id": "2494722e-0cce-4155-9e0a-e96ae1520a18",
   "metadata": {
    "tags": []
   },
   "outputs": [],
   "source": [
    "class Sigmoid():\n",
    "    \"\"\"\n",
    "    Sigmoid activation layer\n",
    "    \"\"\"\n",
    "    def __init__(self):\n",
    "        self.cache = None\n",
    "\n",
    "    def _forward(self, X):\n",
    "        self.cache = X\n",
    "        return X * self._sigmoid(X)\n",
    "\n",
    "    def _backward(self, dout):\n",
    "        X = self.cache\n",
    "        dX = dout * self._sigmoid(X) * (1 - self._sigmoid(X))\n",
    "        return dX\n",
    "\n",
    "    def _sigmoid(self, X):\n",
    "        # Clip the input values between -500 and 500\n",
    "        X = np.clip(X, -500, 500)\n",
    "        return 1 / (1 + np.exp(-X))"
   ]
  },
  {
   "cell_type": "code",
   "execution_count": 5,
   "id": "3b45dd57-5ca9-4c14-8d87-14ead21db8a3",
   "metadata": {
    "tags": []
   },
   "outputs": [],
   "source": [
    "# class Sigmoid():\n",
    "#     \"\"\"\n",
    "#     Sigmoid activation layer\n",
    "#     \"\"\"\n",
    "#     def __init__(self):\n",
    "#         self.cache = None\n",
    "\n",
    "#     def _forward(self, X):\n",
    "#         X = np.clip(X, -500, 500)  # 限制X的範圍，避免exp計算時出現溢出\n",
    "#         self.cache = X\n",
    "#         return 1 / (1 + np.exp(-X))\n",
    "\n",
    "#     def _backward(self, dout):\n",
    "#         X = self.cache\n",
    "#         dX = dout*X*(1-X)\n",
    "#         return dX"
   ]
  },
  {
   "cell_type": "code",
   "execution_count": 6,
   "id": "857a4fff-b452-4d59-a853-46e2da445e12",
   "metadata": {
    "tags": []
   },
   "outputs": [],
   "source": [
    "class Softmax():\n",
    "    \"\"\"\n",
    "    Softmax activation layer\n",
    "    \"\"\"\n",
    "    def __init__(self):\n",
    "        #print(\"Build Softmax\")\n",
    "        self.cache = None\n",
    "\n",
    "    def _forward(self, X):\n",
    "        #print(\"Softmax: _forward\")\n",
    "        maxes = np.amax(X, axis=1)\n",
    "        maxes = maxes.reshape(maxes.shape[0], 1)\n",
    "        Y = np.exp(X - maxes)\n",
    "        Z = Y / np.sum(Y, axis=1).reshape(Y.shape[0], 1)\n",
    "        self.cache = (X, Y, Z)\n",
    "        return Z # distribution\n",
    "\n",
    "    def _backward(self, dout):\n",
    "        X, Y, Z = self.cache\n",
    "        dZ = np.zeros(X.shape)\n",
    "        dY = np.zeros(X.shape)\n",
    "        dX = np.zeros(X.shape)\n",
    "        N = X.shape[0]\n",
    "        for n in range(N):\n",
    "            i = np.argmax(Z[n])\n",
    "            dZ[n,:] = np.diag(Z[n]) - np.outer(Z[n],Z[n])\n",
    "            M = np.zeros((N,N))\n",
    "            M[:,i] = 1\n",
    "            dY[n,:] = np.eye(N) - M\n",
    "        dX = np.dot(dout,dZ)\n",
    "        dX = np.dot(dX,dY)\n",
    "        return dX"
   ]
  },
  {
   "cell_type": "code",
   "execution_count": 7,
   "id": "8270426b-6459-4bf7-b61f-07a6e8534076",
   "metadata": {
    "tags": []
   },
   "outputs": [],
   "source": [
    "class Conv():\n",
    "    \"\"\"\n",
    "    Conv layer\n",
    "    \"\"\"\n",
    "    def __init__(self, Cin, Cout, F, stride=1, padding=0, bias=True):\n",
    "        self.Cin = Cin\n",
    "        self.Cout = Cout\n",
    "        self.F = F\n",
    "        self.S = stride\n",
    "        #self.W = {'val': np.random.randn(Cout, Cin, F, F), 'grad': 0}\n",
    "        self.W = {'val': np.random.normal(0.0,np.sqrt(2/Cin),(Cout,Cin,F,F)), 'grad': 0} # Xavier Initialization\n",
    "        self.b = {'val': np.random.randn(Cout), 'grad': 0}\n",
    "        self.cache = None\n",
    "        self.pad = padding\n",
    "\n",
    "    def _forward(self, X):\n",
    "        X = np.pad(X, ((0,0),(0,0),(self.pad,self.pad),(self.pad,self.pad)), 'constant')\n",
    "        (N, Cin, H, W) = X.shape\n",
    "        H_ = H - self.F + 1\n",
    "        W_ = W - self.F + 1\n",
    "        Y = np.zeros((N, self.Cout, H_, W_))\n",
    "\n",
    "        for n in range(N):\n",
    "            for c in range(self.Cout):\n",
    "                for h in range(H_):\n",
    "                    for w in range(W_):\n",
    "                        Y[n, c, h, w] = np.sum(X[n, :, h:h+self.F, w:w+self.F] * self.W['val'][c, :, :, :]) + self.b['val'][c]\n",
    "\n",
    "        self.cache = X\n",
    "        return Y\n",
    "\n",
    "    def _backward(self, dout):\n",
    "        # dout (N,Cout,H_,W_)\n",
    "        # W (Cout, Cin, F, F)\n",
    "        X = self.cache\n",
    "        (N, Cin, H, W) = X.shape\n",
    "        H_ = H - self.F + 1\n",
    "        W_ = W - self.F + 1\n",
    "        W_rot = np.rot90(np.rot90(self.W['val']))\n",
    "\n",
    "        dX = np.zeros(X.shape)\n",
    "        dW = np.zeros(self.W['val'].shape)\n",
    "        db = np.zeros(self.b['val'].shape)\n",
    "\n",
    "        # dW\n",
    "        for co in range(self.Cout):\n",
    "            for ci in range(Cin):\n",
    "                for h in range(self.F):\n",
    "                    for w in range(self.F):\n",
    "                        dW[co, ci, h, w] = np.sum(X[:,ci,h:h+H_,w:w+W_] * dout[:,co,:,:])\n",
    "\n",
    "        # db\n",
    "        for co in range(self.Cout):\n",
    "            db[co] = np.sum(dout[:,co,:,:])\n",
    "\n",
    "        dout_pad = np.pad(dout, ((0,0),(0,0),(self.F,self.F),(self.F,self.F)), 'constant')\n",
    "        #print(\"dout_pad.shape: \" + str(dout_pad.shape))\n",
    "        # dX\n",
    "        for n in range(N):\n",
    "            for ci in range(Cin):\n",
    "                for h in range(H):\n",
    "                    for w in range(W):\n",
    "                        #print(\"self.F.shape: %s\", self.F)\n",
    "                        #print(\"%s, W_rot[:,ci,:,:].shape: %s, dout_pad[n,:,h:h+self.F,w:w+self.F].shape: %s\" % ((n,ci,h,w),W_rot[:,ci,:,:].shape, dout_pad[n,:,h:h+self.F,w:w+self.F].shape))\n",
    "                        dX[n, ci, h, w] = np.sum(W_rot[:,ci,:,:] * dout_pad[n, :, h:h+self.F,w:w+self.F])\n",
    "\n",
    "        return dX\n",
    "\n",
    "class MaxPool():\n",
    "    def __init__(self, F, stride):\n",
    "        self.F = F\n",
    "        self.S = stride\n",
    "        self.cache = None\n",
    "\n",
    "    def _forward(self, X):\n",
    "        # X: (N, Cin, H, W): maxpool along 3rd, 4th dim\n",
    "        (N,Cin,H,W) = X.shape\n",
    "        F = self.F\n",
    "        W_ = int(float(W)/F)\n",
    "        H_ = int(float(H)/F)\n",
    "        Y = np.zeros((N,Cin,W_,H_))\n",
    "        M = np.zeros(X.shape) # mask\n",
    "        for n in range(N):\n",
    "            for cin in range(Cin):\n",
    "                for w_ in range(W_):\n",
    "                    for h_ in range(H_):\n",
    "                        Y[n,cin,w_,h_] = np.max(X[n,cin,F*w_:F*(w_+1),F*h_:F*(h_+1)])\n",
    "                        i,j = np.unravel_index(X[n,cin,F*w_:F*(w_+1),F*h_:F*(h_+1)].argmax(), (F,F))\n",
    "                        M[n,cin,F*w_+i,F*h_+j] = 1\n",
    "        self.cache = M\n",
    "        return Y\n",
    "\n",
    "    def _backward(self, dout):\n",
    "        M = self.cache\n",
    "        (N,Cin,H,W) = M.shape\n",
    "        dout = np.array(dout)\n",
    "        #print(\"dout.shape: %s, M.shape: %s\" % (dout.shape, M.shape))\n",
    "        dX = np.zeros(M.shape)\n",
    "        for n in range(N):\n",
    "            for c in range(Cin):\n",
    "                #print(\"(n,c): (%s,%s)\" % (n,c))\n",
    "                dX[n,c,:,:] = dout[n,c,:,:].repeat(2, axis=0).repeat(2, axis=1)\n",
    "        return dX*M\n"
   ]
  },
  {
   "cell_type": "code",
   "execution_count": 8,
   "id": "a81d7225-e7d2-45e0-8542-07ebd9a12cd5",
   "metadata": {
    "tags": []
   },
   "outputs": [],
   "source": [
    "def NLLLoss(Y_pred, Y_true):\n",
    "    \"\"\"\n",
    "    Negative log likelihood loss\n",
    "    \"\"\"\n",
    "    loss = 0.0\n",
    "    N = Y_pred.shape[0]\n",
    "    M = np.sum(Y_pred*Y_true, axis=1)\n",
    "    for e in M:\n",
    "        #print(e)\n",
    "        if e == 0:\n",
    "            loss += 500\n",
    "        else:\n",
    "            loss += -np.log(e)\n",
    "    return loss/N\n",
    "\n",
    "class CrossEntropyLoss():\n",
    "    def __init__(self):\n",
    "        pass\n",
    "\n",
    "    def get(self, Y_pred, Y_true):\n",
    "        N = Y_pred.shape[0]\n",
    "        softmax = Softmax()\n",
    "        prob = softmax._forward(Y_pred)\n",
    "        loss = NLLLoss(prob, Y_true)\n",
    "        Y_serial = np.argmax(Y_true, axis=1)\n",
    "        # dout = prob.copy()\n",
    "        # dout[np.arange(N), Y_serial] -= 1\n",
    "        dout = prob - Y_true\n",
    "        return loss, dout"
   ]
  },
  {
   "cell_type": "code",
   "execution_count": 9,
   "id": "ab81c51b-5b5e-4110-bf05-11a2afb1ba57",
   "metadata": {
    "tags": []
   },
   "outputs": [],
   "source": [
    "class Net(metaclass=ABCMeta):\n",
    "    # Neural network super class\n",
    "\n",
    "    @abstractmethod\n",
    "    def __init__(self):\n",
    "        pass\n",
    "\n",
    "    @abstractmethod\n",
    "    def forward(self, X):\n",
    "        pass\n",
    "\n",
    "    @abstractmethod\n",
    "    def backward(self, dout):\n",
    "        pass\n",
    "\n",
    "    @abstractmethod\n",
    "    def get_params(self):\n",
    "        pass\n",
    "\n",
    "    @abstractmethod\n",
    "    def set_params(self, params):\n",
    "        pass"
   ]
  },
  {
   "cell_type": "code",
   "execution_count": 10,
   "id": "307e6023-9a0f-461a-b384-88073a687748",
   "metadata": {
    "tags": []
   },
   "outputs": [],
   "source": [
    "class SGDMomentum():\n",
    "    def __init__(self, params, lr=0.001, momentum=0.99, reg=0):\n",
    "        self.l = len(params)\n",
    "        self.parameters = params\n",
    "        self.velocities = []\n",
    "        for param in self.parameters:\n",
    "            self.velocities.append(np.zeros(param['val'].shape))\n",
    "        self.lr = lr\n",
    "        self.rho = momentum\n",
    "        self.reg = reg\n",
    "\n",
    "    def step(self):\n",
    "        for i in range(self.l):\n",
    "            self.velocities[i] = self.rho*self.velocities[i] + (1-self.rho)*self.parameters[i]['grad']\n",
    "            self.parameters[i]['val'] -= (self.lr*self.velocities[i] + self.reg*self.parameters[i]['val'])"
   ]
  },
  {
   "cell_type": "code",
   "execution_count": 11,
   "id": "939aafa7-17c3-4953-879a-40bc2f2cb63a",
   "metadata": {
    "tags": []
   },
   "outputs": [],
   "source": [
    "def create_mini_batches(image, label, mini_batch_size = 64):\n",
    "    dataset_size = image.shape[0] # number of training examples\n",
    "    mini_batches = []\n",
    "    # partition (image, label). Minus the end case.\n",
    "    complete_minibatches_number = math.floor(dataset_size / mini_batch_size) # number of mini batches of size mini_batch_size in your partitionning\n",
    "    for k in range(0, complete_minibatches_number):\n",
    "        mini_batch_image = image[k * mini_batch_size: k * mini_batch_size + mini_batch_size, :, :, :]\n",
    "        mini_batch_label = label[k * mini_batch_size: k * mini_batch_size + mini_batch_size]\n",
    "        mini_batch = (mini_batch_image, mini_batch_label)\n",
    "        mini_batches.append(mini_batch)\n",
    "    # handle the end case (last mini-batch < mini_batch_size)\n",
    "    if dataset_size % mini_batch_size != 0:\n",
    "        mini_batch_image = image[complete_minibatches_number * mini_batch_size: dataset_size, :, :, :]\n",
    "        mini_batch_label = label[complete_minibatches_number * mini_batch_size: dataset_size]\n",
    "        mini_batch = (mini_batch_image, mini_batch_label)\n",
    "        mini_batches.append(mini_batch)\n",
    "    return mini_batches"
   ]
  },
  {
   "cell_type": "code",
   "execution_count": 39,
   "id": "63262f0a-e457-4467-8829-10031850c781",
   "metadata": {
    "tags": []
   },
   "outputs": [],
   "source": [
    "def readDataset(image_path):\n",
    "    num_processes = 16\n",
    "    with multiprocessing.Pool(processes=num_processes) as pool:\n",
    "        results = pool.map(process_image, image_path)\n",
    "    return results\n",
    "\n",
    "def process_image(image_path):\n",
    "    im = cv2.imread(image_path)\n",
    "    # gray = cv2.cvtColor(im, cv2.COLOR_BGR2GRAY)\n",
    "    resized = cv2.resize(im, (32, 32), interpolation=cv2.INTER_AREA)\n",
    "    plt.imshow(im)\n",
    "    return resized\n",
    "\n",
    "def load_dataset(train_image, train_label):\n",
    "    train_image = readDataset(train_image)\n",
    "    train_image = np.array(train_image)\n",
    "    train_image = train_image/float(255)\n",
    "    train_image -= np.mean(train_image)\n",
    "    train_label = np.array(train_label)\n",
    "    return (train_image, train_label)\n",
    "\n",
    "\n",
    "def read_dataset(img_filename):\n",
    "    filename = []\n",
    "    label = []\n",
    "    with open(img_filename, 'r') as f:\n",
    "        for line in f.readlines():\n",
    "            s = line.split(' ')\n",
    "            filename.append(s[0])\n",
    "            label.append(int(s[1]))\n",
    "    dataset = []\n",
    "    for i in range(len(filename)):\n",
    "        dataset.append((filename[i],label[i]))   \n",
    "    random.shuffle(dataset)    \n",
    "    return dataset"
   ]
  },
  {
   "cell_type": "markdown",
   "id": "1b623177-8097-49d5-8c1a-d9758b764b54",
   "metadata": {},
   "source": [
    "# Load Data"
   ]
  },
  {
   "cell_type": "code",
   "execution_count": 13,
   "id": "fe3f6041-fe70-4159-b60d-5aadecbc8354",
   "metadata": {
    "tags": []
   },
   "outputs": [],
   "source": [
    "dataset_train = read_dataset('train.txt')\n",
    "dataset_test = read_dataset('test.txt')\n",
    "dataset_val  = read_dataset('val.txt')\n",
    "\n",
    "image_paths_train, Y_train = zip(*dataset_train[::20])\n",
    "image_paths_test, Y_test = zip(*dataset_test)\n",
    "image_paths_val, Y_val = zip(*dataset_val)\n",
    "\n",
    "X_train = load_dataset(image_paths_train, Y_train)\n",
    "X_test  = load_dataset(image_paths_test, Y_test)\n",
    "X_val   = load_dataset(image_paths_val, Y_val)"
   ]
  },
  {
   "cell_type": "markdown",
   "id": "1972c453-e312-4bab-b7cb-0fc1947b971d",
   "metadata": {},
   "source": [
    "# Model Setting"
   ]
  },
  {
   "cell_type": "code",
   "execution_count": 14,
   "id": "e4277849-7109-43b5-bc58-77ddb656c9d5",
   "metadata": {
    "tags": []
   },
   "outputs": [],
   "source": [
    "class LeNet5(Net):\n",
    "    # LeNet5\n",
    "\n",
    "    def __init__(self):\n",
    "        self.conv1 = Conv(3, 6, 5)\n",
    "        self.Sigmoid1 = Sigmoid()\n",
    "        self.pool1 = MaxPool(2,2)\n",
    "        self.conv2 = Conv(6, 16, 5)\n",
    "        self.Sigmoid2 = Sigmoid()\n",
    "        self.pool2 = MaxPool(2,2)\n",
    "        # self.FC1 = FC(16*13*13, 120) #(16*5*5, 120)\n",
    "        self.FC1 = FC(16*5*5, 120) #(16*5*5, 120)\n",
    "        self.Sigmoid3 = Sigmoid()\n",
    "        self.FC2 = FC(120, 84)\n",
    "        self.Sigmoid4 = Sigmoid()\n",
    "        self.FC3 = FC(84, 50)\n",
    "        self.Softmax = Softmax()\n",
    "\n",
    "        self.p2_shape = None\n",
    "\n",
    "    def forward(self, X):\n",
    "        h1 = self.conv1._forward(X)\n",
    "        a1 = self.Sigmoid1._forward(h1)\n",
    "        p1 = self.pool1._forward(a1)\n",
    "        h2 = self.conv2._forward(p1)\n",
    "        a2 = self.Sigmoid2._forward(h2)\n",
    "        p2 = self.pool2._forward(a2)\n",
    "        self.p2_shape = p2.shape\n",
    "        fl = p2.reshape(X.shape[0],-1) # Flatten\n",
    "        h3 = self.FC1._forward(fl)\n",
    "        a3 = self.Sigmoid3._forward(h3)\n",
    "        h4 = self.FC2._forward(a3)\n",
    "        a5 = self.Sigmoid4._forward(h4)\n",
    "        h5 = self.FC3._forward(a5)\n",
    "        a5 = self.Softmax._forward(h5)\n",
    "        return a5\n",
    "\n",
    "    def backward(self, dout):\n",
    "        #dout = self.Softmax._backward(dout)\n",
    "        dout = self.FC3._backward(dout)\n",
    "        dout = self.Sigmoid4._backward(dout)\n",
    "        dout = self.FC2._backward(dout)\n",
    "        dout = self.Sigmoid3._backward(dout)\n",
    "        dout = self.FC1._backward(dout)\n",
    "        dout = dout.reshape(self.p2_shape) # reshape\n",
    "        dout = self.pool2._backward(dout)\n",
    "        dout = self.Sigmoid2._backward(dout)\n",
    "        dout = self.conv2._backward(dout)\n",
    "        dout = self.pool1._backward(dout)\n",
    "        dout = self.Sigmoid1._backward(dout)\n",
    "        dout = self.conv1._backward(dout)\n",
    "\n",
    "    def get_params(self):\n",
    "        return [self.conv1.W, self.conv1.b, self.conv2.W, self.conv2.b, self.FC1.W, self.FC1.b, self.FC2.W, self.FC2.b, self.FC3.W, self.FC3.b]\n",
    "\n",
    "    def set_params(self, params):\n",
    "        [self.conv1.W, self.conv1.b, self.conv2.W, self.conv2.b, self.FC1.W, self.FC1.b, self.FC2.W, self.FC2.b, self.FC3.W, self.FC3.b] = params"
   ]
  },
  {
   "cell_type": "code",
   "execution_count": 15,
   "id": "5c28aa73-e514-4aea-83fe-fdc5749cbc51",
   "metadata": {
    "tags": []
   },
   "outputs": [
    {
     "name": "stdout",
     "output_type": "stream",
     "text": [
      "batch_size: 32, Input shape: (3167, 32, 32, 3)\n"
     ]
    }
   ],
   "source": [
    "batch_size = 32\n",
    "D_in = X_train[0].shape\n",
    "D_out = 50\n",
    "print(\"batch_size: \" + str(batch_size) + \", Input shape: \" + str(D_in))\n",
    "model = LeNet5()\n",
    "optim = SGDMomentum(model.get_params(), lr=0.001, momentum=0.80, reg=0.00003)\n",
    "criterion = CrossEntropyLoss()"
   ]
  },
  {
   "cell_type": "code",
   "execution_count": 16,
   "id": "238dc4bf-d7a3-44ff-a80c-dd4cd5790f46",
   "metadata": {
    "tags": []
   },
   "outputs": [
    {
     "name": "stdout",
     "output_type": "stream",
     "text": [
      "---------- epoch 1 begin ----------\n",
      "Training:\n"
     ]
    },
    {
     "name": "stderr",
     "output_type": "stream",
     "text": [
      "100%|███████████████████████████████████████████| 99/99 [03:32<00:00,  2.14s/it]\n"
     ]
    },
    {
     "name": "stdout",
     "output_type": "stream",
     "text": [
      "Validation:\n"
     ]
    },
    {
     "name": "stderr",
     "output_type": "stream",
     "text": [
      "100%|███████████████████████████████████████████| 15/15 [00:19<00:00,  1.28s/it]\n"
     ]
    },
    {
     "name": "stdout",
     "output_type": "stream",
     "text": [
      "epoch: 1 / 15, Training loss: 3.956, Validation loss: 4.203\n",
      "Accuracy of Training Data    : 2.5260%\n",
      "Accuracy of Validation Data  : 2.2222%\n",
      "Time used: 231.34817457199097 sec\n",
      "---------- epoch 2 begin ----------\n",
      "Training:\n"
     ]
    },
    {
     "name": "stderr",
     "output_type": "stream",
     "text": [
      "100%|███████████████████████████████████████████| 99/99 [03:35<00:00,  2.17s/it]\n"
     ]
    },
    {
     "name": "stdout",
     "output_type": "stream",
     "text": [
      "Validation:\n"
     ]
    },
    {
     "name": "stderr",
     "output_type": "stream",
     "text": [
      "100%|███████████████████████████████████████████| 15/15 [00:19<00:00,  1.28s/it]\n"
     ]
    },
    {
     "name": "stdout",
     "output_type": "stream",
     "text": [
      "epoch: 2 / 15, Training loss: 3.941, Validation loss: 4.189\n",
      "Accuracy of Training Data    : 4.1996%\n",
      "Accuracy of Validation Data  : 3.7778%\n",
      "Time used: 234.49301195144653 sec\n",
      "---------- epoch 3 begin ----------\n",
      "Training:\n"
     ]
    },
    {
     "name": "stderr",
     "output_type": "stream",
     "text": [
      "100%|███████████████████████████████████████████| 99/99 [03:30<00:00,  2.13s/it]\n"
     ]
    },
    {
     "name": "stdout",
     "output_type": "stream",
     "text": [
      "Validation:\n"
     ]
    },
    {
     "name": "stderr",
     "output_type": "stream",
     "text": [
      "100%|███████████████████████████████████████████| 15/15 [00:19<00:00,  1.28s/it]\n"
     ]
    },
    {
     "name": "stdout",
     "output_type": "stream",
     "text": [
      "epoch: 3 / 15, Training loss: 3.929, Validation loss: 4.194\n",
      "Accuracy of Training Data    : 5.4626%\n",
      "Accuracy of Validation Data  : 3.1111%\n",
      "Time used: 230.0583736896515 sec\n",
      "---------- epoch 4 begin ----------\n",
      "Training:\n"
     ]
    },
    {
     "name": "stderr",
     "output_type": "stream",
     "text": [
      "100%|███████████████████████████████████████████| 99/99 [03:33<00:00,  2.16s/it]\n"
     ]
    },
    {
     "name": "stdout",
     "output_type": "stream",
     "text": [
      "Validation:\n"
     ]
    },
    {
     "name": "stderr",
     "output_type": "stream",
     "text": [
      "100%|███████████████████████████████████████████| 15/15 [00:19<00:00,  1.27s/it]\n"
     ]
    },
    {
     "name": "stdout",
     "output_type": "stream",
     "text": [
      "epoch: 4 / 15, Training loss: 3.927, Validation loss: 4.191\n",
      "Accuracy of Training Data    : 5.6520%\n",
      "Accuracy of Validation Data  : 3.5556%\n",
      "Time used: 233.06938481330872 sec\n",
      "---------- epoch 5 begin ----------\n",
      "Training:\n"
     ]
    },
    {
     "name": "stderr",
     "output_type": "stream",
     "text": [
      "100%|███████████████████████████████████████████| 99/99 [03:34<00:00,  2.16s/it]\n"
     ]
    },
    {
     "name": "stdout",
     "output_type": "stream",
     "text": [
      "Validation:\n"
     ]
    },
    {
     "name": "stderr",
     "output_type": "stream",
     "text": [
      "100%|███████████████████████████████████████████| 15/15 [00:19<00:00,  1.28s/it]\n"
     ]
    },
    {
     "name": "stdout",
     "output_type": "stream",
     "text": [
      "epoch: 5 / 15, Training loss: 3.926, Validation loss: 4.189\n",
      "Accuracy of Training Data    : 5.8731%\n",
      "Accuracy of Validation Data  : 3.7778%\n",
      "Time used: 233.42661952972412 sec\n",
      "---------- epoch 6 begin ----------\n",
      "Training:\n"
     ]
    },
    {
     "name": "stderr",
     "output_type": "stream",
     "text": [
      "100%|███████████████████████████████████████████| 99/99 [03:33<00:00,  2.16s/it]\n"
     ]
    },
    {
     "name": "stdout",
     "output_type": "stream",
     "text": [
      "Validation:\n"
     ]
    },
    {
     "name": "stderr",
     "output_type": "stream",
     "text": [
      "100%|███████████████████████████████████████████| 15/15 [00:19<00:00,  1.28s/it]\n"
     ]
    },
    {
     "name": "stdout",
     "output_type": "stream",
     "text": [
      "epoch: 6 / 15, Training loss: 3.932, Validation loss: 4.192\n",
      "Accuracy of Training Data    : 5.2416%\n",
      "Accuracy of Validation Data  : 3.3333%\n",
      "Time used: 233.0360963344574 sec\n",
      "---------- epoch 7 begin ----------\n",
      "Training:\n"
     ]
    },
    {
     "name": "stderr",
     "output_type": "stream",
     "text": [
      "100%|███████████████████████████████████████████| 99/99 [03:32<00:00,  2.15s/it]\n"
     ]
    },
    {
     "name": "stdout",
     "output_type": "stream",
     "text": [
      "Validation:\n"
     ]
    },
    {
     "name": "stderr",
     "output_type": "stream",
     "text": [
      "100%|███████████████████████████████████████████| 15/15 [00:19<00:00,  1.28s/it]\n"
     ]
    },
    {
     "name": "stdout",
     "output_type": "stream",
     "text": [
      "epoch: 7 / 15, Training loss: 3.931, Validation loss: 4.185\n",
      "Accuracy of Training Data    : 5.2416%\n",
      "Accuracy of Validation Data  : 4.2222%\n",
      "Time used: 231.8398199081421 sec\n",
      "---------- epoch 8 begin ----------\n",
      "Training:\n"
     ]
    },
    {
     "name": "stderr",
     "output_type": "stream",
     "text": [
      "100%|███████████████████████████████████████████| 99/99 [03:32<00:00,  2.14s/it]\n"
     ]
    },
    {
     "name": "stdout",
     "output_type": "stream",
     "text": [
      "Validation:\n"
     ]
    },
    {
     "name": "stderr",
     "output_type": "stream",
     "text": [
      "100%|███████████████████████████████████████████| 15/15 [00:19<00:00,  1.29s/it]\n"
     ]
    },
    {
     "name": "stdout",
     "output_type": "stream",
     "text": [
      "epoch: 8 / 15, Training loss: 3.929, Validation loss: 4.185\n",
      "Accuracy of Training Data    : 5.5889%\n",
      "Accuracy of Validation Data  : 4.2222%\n",
      "Time used: 231.29626893997192 sec\n",
      "---------- epoch 9 begin ----------\n",
      "Training:\n"
     ]
    },
    {
     "name": "stderr",
     "output_type": "stream",
     "text": [
      "100%|███████████████████████████████████████████| 99/99 [03:29<00:00,  2.12s/it]\n"
     ]
    },
    {
     "name": "stdout",
     "output_type": "stream",
     "text": [
      "Validation:\n"
     ]
    },
    {
     "name": "stderr",
     "output_type": "stream",
     "text": [
      "100%|███████████████████████████████████████████| 15/15 [00:18<00:00,  1.26s/it]\n"
     ]
    },
    {
     "name": "stdout",
     "output_type": "stream",
     "text": [
      "epoch: 9 / 15, Training loss: 3.931, Validation loss: 4.185\n",
      "Accuracy of Training Data    : 5.3994%\n",
      "Accuracy of Validation Data  : 4.2222%\n",
      "Time used: 228.48380589485168 sec\n",
      "---------- epoch 10 begin ----------\n",
      "Training:\n"
     ]
    },
    {
     "name": "stderr",
     "output_type": "stream",
     "text": [
      "100%|███████████████████████████████████████████| 99/99 [03:30<00:00,  2.13s/it]\n"
     ]
    },
    {
     "name": "stdout",
     "output_type": "stream",
     "text": [
      "Validation:\n"
     ]
    },
    {
     "name": "stderr",
     "output_type": "stream",
     "text": [
      "100%|███████████████████████████████████████████| 15/15 [00:18<00:00,  1.26s/it]\n"
     ]
    },
    {
     "name": "stdout",
     "output_type": "stream",
     "text": [
      "epoch: 10 / 15, Training loss: 3.930, Validation loss: 4.181\n",
      "Accuracy of Training Data    : 5.4942%\n",
      "Accuracy of Validation Data  : 4.6667%\n",
      "Time used: 229.539715051651 sec\n",
      "---------- epoch 11 begin ----------\n",
      "Training:\n"
     ]
    },
    {
     "name": "stderr",
     "output_type": "stream",
     "text": [
      "100%|███████████████████████████████████████████| 99/99 [03:33<00:00,  2.15s/it]\n"
     ]
    },
    {
     "name": "stdout",
     "output_type": "stream",
     "text": [
      "Validation:\n"
     ]
    },
    {
     "name": "stderr",
     "output_type": "stream",
     "text": [
      "100%|███████████████████████████████████████████| 15/15 [00:19<00:00,  1.28s/it]\n"
     ]
    },
    {
     "name": "stdout",
     "output_type": "stream",
     "text": [
      "epoch: 11 / 15, Training loss: 3.929, Validation loss: 4.182\n",
      "Accuracy of Training Data    : 5.6205%\n",
      "Accuracy of Validation Data  : 4.4444%\n",
      "Time used: 232.21738076210022 sec\n",
      "---------- epoch 12 begin ----------\n",
      "Training:\n"
     ]
    },
    {
     "name": "stderr",
     "output_type": "stream",
     "text": [
      "100%|███████████████████████████████████████████| 99/99 [03:33<00:00,  2.15s/it]\n"
     ]
    },
    {
     "name": "stdout",
     "output_type": "stream",
     "text": [
      "Validation:\n"
     ]
    },
    {
     "name": "stderr",
     "output_type": "stream",
     "text": [
      "100%|███████████████████████████████████████████| 15/15 [00:19<00:00,  1.28s/it]\n"
     ]
    },
    {
     "name": "stdout",
     "output_type": "stream",
     "text": [
      "epoch: 12 / 15, Training loss: 3.933, Validation loss: 4.178\n",
      "Accuracy of Training Data    : 5.2100%\n",
      "Accuracy of Validation Data  : 4.8889%\n",
      "Time used: 232.19042420387268 sec\n",
      "---------- epoch 13 begin ----------\n",
      "Training:\n"
     ]
    },
    {
     "name": "stderr",
     "output_type": "stream",
     "text": [
      "100%|███████████████████████████████████████████| 99/99 [03:33<00:00,  2.16s/it]\n"
     ]
    },
    {
     "name": "stdout",
     "output_type": "stream",
     "text": [
      "Validation:\n"
     ]
    },
    {
     "name": "stderr",
     "output_type": "stream",
     "text": [
      "100%|███████████████████████████████████████████| 15/15 [00:19<00:00,  1.28s/it]\n"
     ]
    },
    {
     "name": "stdout",
     "output_type": "stream",
     "text": [
      "epoch: 13 / 15, Training loss: 3.934, Validation loss: 4.178\n",
      "Accuracy of Training Data    : 5.1784%\n",
      "Accuracy of Validation Data  : 4.8889%\n",
      "Time used: 232.93881130218506 sec\n",
      "---------- epoch 14 begin ----------\n",
      "Training:\n"
     ]
    },
    {
     "name": "stderr",
     "output_type": "stream",
     "text": [
      "100%|███████████████████████████████████████████| 99/99 [03:33<00:00,  2.16s/it]\n"
     ]
    },
    {
     "name": "stdout",
     "output_type": "stream",
     "text": [
      "Validation:\n"
     ]
    },
    {
     "name": "stderr",
     "output_type": "stream",
     "text": [
      "100%|███████████████████████████████████████████| 15/15 [00:19<00:00,  1.28s/it]\n"
     ]
    },
    {
     "name": "stdout",
     "output_type": "stream",
     "text": [
      "epoch: 14 / 15, Training loss: 3.934, Validation loss: 4.179\n",
      "Accuracy of Training Data    : 5.0521%\n",
      "Accuracy of Validation Data  : 4.8889%\n",
      "Time used: 232.60781455039978 sec\n",
      "---------- epoch 15 begin ----------\n",
      "Training:\n"
     ]
    },
    {
     "name": "stderr",
     "output_type": "stream",
     "text": [
      "100%|███████████████████████████████████████████| 99/99 [03:30<00:00,  2.12s/it]\n"
     ]
    },
    {
     "name": "stdout",
     "output_type": "stream",
     "text": [
      "Validation:\n"
     ]
    },
    {
     "name": "stderr",
     "output_type": "stream",
     "text": [
      "100%|███████████████████████████████████████████| 15/15 [00:18<00:00,  1.25s/it]"
     ]
    },
    {
     "name": "stdout",
     "output_type": "stream",
     "text": [
      "epoch: 15 / 15, Training loss: 3.937, Validation loss: 4.178\n",
      "Accuracy of Training Data    : 4.8626%\n",
      "Accuracy of Validation Data  : 4.8889%\n",
      "Time used: 228.9917483329773 sec\n",
      "Total time used: 3475.5378403663635 sec\n"
     ]
    },
    {
     "name": "stderr",
     "output_type": "stream",
     "text": [
      "\n"
     ]
    }
   ],
   "source": [
    "# TRAIN\n",
    "epoch = 15\n",
    "start_time = time.time()\n",
    "error_acc_list = []\n",
    "for j in range(epoch):    \n",
    "    start_time_epoch = time.time()\n",
    "    loss_train = 0\n",
    "    loss_val   = 0\n",
    "    train_accuracy = 0\n",
    "    val_accuracy   = 0\n",
    "    \n",
    "    mini_batches_train = create_mini_batches(X_train[0], X_train[1], batch_size)\n",
    "    mini_batches_val   = create_mini_batches(X_val[0], X_val[1], batch_size)\n",
    "    print(\"---------- epoch\", j + 1, \"begin ----------\")\n",
    "    print(\"Training:\")\n",
    "    \n",
    "    for i in tqdm(range(len(mini_batches_train))):\n",
    "        X_batch, Y_batch = mini_batches_train[i]\n",
    "        Y_batch = MakeOneHot(Y_batch, D_out)\n",
    "        X_batch = X_batch.transpose(0, 3, 1, 2)\n",
    "        Y_pred = model.forward(X_batch)\n",
    "        loss, dout = criterion.get(Y_pred, Y_batch)\n",
    "        accuracy = np.sum(np.argmax(Y_pred, axis=1) == np.argmax(Y_batch, axis=1))\n",
    "        loss_train += loss\n",
    "        train_accuracy += accuracy  \n",
    "        model.backward(dout)\n",
    "        optim.step()\n",
    "        \n",
    "    print(\"Validation:\")\n",
    "    for ii in tqdm(range(len(mini_batches_val))):\n",
    "        X_batch, Y_batch = mini_batches_val[ii]\n",
    "        Y_batch = MakeOneHot(Y_batch, D_out)\n",
    "        X_batch = X_batch.transpose(0, 3, 1, 2)\n",
    "        Y_pred = model.forward(X_batch)\n",
    "        loss, dout = criterion.get(Y_pred, Y_batch)\n",
    "        accuracy = np.sum(np.argmax(Y_pred, axis=1) == np.argmax(Y_batch, axis=1))\n",
    "        loss_val += loss\n",
    "        val_accuracy += accuracy  \n",
    "        \n",
    "    loss_train = loss_train/i\n",
    "    loss_val   = loss_val/ii\n",
    "    train_accuracy = train_accuracy/len(X_train[1])*100\n",
    "    val_accuracy   = val_accuracy/len(X_val[1])*100\n",
    "\n",
    "    print(\"epoch: %s / %s, Training loss: %.3f, Validation loss: %.3f\" % (j+1,epoch, loss_train, loss_val))\n",
    "    print(\"Accuracy of Training Data    : %.4f%%\" % (train_accuracy))\n",
    "    print(\"Accuracy of Validation Data  : %.4f%%\" % (val_accuracy))\n",
    "    print(\"Time used:\", time.time() - start_time_epoch, \"sec\")\n",
    "    error_acc_list.append([loss_train, loss_val, train_accuracy, val_accuracy])\n",
    "    \n",
    "print(\"Total time used:\", time.time() - start_time, \"sec\")\n",
    "\n",
    "error_acc_list = np.array(error_acc_list).T"
   ]
  },
  {
   "cell_type": "code",
   "execution_count": 17,
   "id": "273849fc-e94f-4006-9c42-b7609e0d5644",
   "metadata": {
    "tags": []
   },
   "outputs": [],
   "source": [
    "# save params\n",
    "weights = model.get_params()\n",
    "with open(\"./params/lenet5_sigmoidx_lr1em3_weights.pkl\",\"wb\") as f:\n",
    "\tpickle.dump(weights, f)"
   ]
  },
  {
   "cell_type": "markdown",
   "id": "d9d8dc58-18e9-49bb-8b3b-d97d18bcacb0",
   "metadata": {
    "tags": []
   },
   "source": [
    "# Plot Results "
   ]
  },
  {
   "cell_type": "code",
   "execution_count": 23,
   "id": "e72dcc57-d441-406d-b36d-42b5575e904a",
   "metadata": {
    "tags": []
   },
   "outputs": [
    {
     "data": {
      "image/png": "[encoded data removed]",
      "text/plain": [
       "<Figure size 700x400 with 1 Axes>"
      ]
     },
     "metadata": {
      "needs_background": "light"
     },
     "output_type": "display_data"
    }
   ],
   "source": [
    "x = np.arange(1, epoch + 1)\n",
    "plt.figure(figsize=(7,4), dpi=100)\n",
    "plt.xlabel(\"epoches\")\n",
    "plt.ylabel(\"loss\")\n",
    "plt.plot(x[:10], error_acc_list[0][:10])\n",
    "plt.plot(x[:10], error_acc_list[1][:10])\n",
    "# plt.ylim([0, 6])\n",
    "plt.legend([\"training data\", \"validation data\"], loc = \"upper right\")\n",
    "plt.savefig('./img/lenet5_sigmoidx_lr1em3_loss.png')"
   ]
  },
  {
   "cell_type": "code",
   "execution_count": 69,
   "id": "6c795664-95d9-418d-8924-5d7bd0013d12",
   "metadata": {
    "tags": []
   },
   "outputs": [
    {
     "data": {
      "image/png": "[encoded data removed]",
      "text/plain": [
       "<Figure size 400x500 with 2 Axes>"
      ]
     },
     "metadata": {
      "needs_background": "light"
     },
     "output_type": "display_data"
    }
   ],
   "source": [
    "f = plt.figure(figsize=(4,5), dpi=100)\n",
    "ax = f.add_subplot(211)\n",
    "plt.title(\"Training Data\")\n",
    "plt.plot(x[:10], error_acc_list[0][:10])\n",
    "plt.ylabel(\"Loss\")\n",
    "plt.xticks([])\n",
    "ax = f.add_subplot(212)\n",
    "plt.plot(x[:10], error_acc_list[1][:10])\n",
    "plt.title(\"Validation Data\")\n",
    "plt.xlabel(\"Epoch\")\n",
    "plt.ylabel(\"Loss\")\n",
    "plt.savefig('./img/lenet5_sigmoidx_lr1em3_loss_seg.png')"
   ]
  },
  {
   "cell_type": "code",
   "execution_count": 71,
   "id": "0befe8f3-6d9a-4c77-abbe-eb340d257261",
   "metadata": {
    "tags": []
   },
   "outputs": [
    {
     "data": {
      "image/png": "[encoded data removed]",
      "text/plain": [
       "<Figure size 400x400 with 1 Axes>"
      ]
     },
     "metadata": {
      "needs_background": "light"
     },
     "output_type": "display_data"
    }
   ],
   "source": [
    "plt.figure(figsize=(4,4), dpi=100)\n",
    "plt.xlabel(\"epoches\")\n",
    "plt.ylabel(\"accuracy\")\n",
    "plt.plot(x[:10], error_acc_list[2][:10])\n",
    "plt.plot(x[:10], error_acc_list[3][:10])\n",
    "plt.legend([\"training data\", \"validation data\"], loc = \"lower right\")\n",
    "plt.savefig('./img/lenet5_sigmoidx_lr1em3_acc.png')"
   ]
  },
  {
   "cell_type": "code",
   "execution_count": 21,
   "id": "ae61dc4b-d484-4149-a269-badd05f75b91",
   "metadata": {
    "tags": []
   },
   "outputs": [
    {
     "name": "stdout",
     "output_type": "stream",
     "text": [
      "Test --> Correct: 20 out of 450, acc=0.044444444444444446\n"
     ]
    }
   ],
   "source": [
    "# TEST SET ACC\n",
    "Y_pred = model.forward(X_test[0].transpose(0, 3, 1, 2))\n",
    "result = np.argmax(Y_pred, axis=1) - Y_test\n",
    "result = list(result)\n",
    "print(\"Test --> Correct: \" + str(result.count(0)) + \" out of \" + str(X_test[0].shape[0]) + \", acc=\" + str(result.count(0)/X_test[0].shape[0]))"
   ]
  },
  {
   "cell_type": "code",
   "execution_count": 27,
   "id": "9a270f23-2cb5-4fde-beb8-c2cbf74fa537",
   "metadata": {},
   "outputs": [
    {
     "name": "stdout",
     "output_type": "stream",
     "text": [
      "Training Accuracy   = 5.620461004104831%\n",
      "Validation Accuracy = 4.444444444444445%\n"
     ]
    }
   ],
   "source": [
    "print(\"Training Accuracy   = \"+ str(error_acc_list[2][10]) + \"%\")\n",
    "print(\"Validation Accuracy = \"+ str(error_acc_list[3][10]) + \"%\")"
   ]
  },
  {
   "cell_type": "code",
   "execution_count": null,
   "id": "9ab0a8b4-b3f2-4c22-8089-1fc06c39f8bc",
   "metadata": {},
   "outputs": [],
   "source": []
  }
 ],
 "metadata": {
  "kernelspec": {
   "display_name": "Python 3 (ipykernel)",
   "language": "python",
   "name": "python3"
  },
  "language_info": {
   "codemirror_mode": {
    "name": "ipython",
    "version": 3
   },
   "file_extension": ".py",
   "mimetype": "text/x-python",
   "name": "python",
   "nbconvert_exporter": "python",
   "pygments_lexer": "ipython3",
   "version": "3.7.16"
  }
 },
 "nbformat": 4,
 "nbformat_minor": 5
}
