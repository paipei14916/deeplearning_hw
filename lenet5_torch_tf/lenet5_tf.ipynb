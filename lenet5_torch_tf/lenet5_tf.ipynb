{
 "cells": [
  {
   "cell_type": "code",
   "execution_count": 1,
   "metadata": {
    "tags": []
   },
   "outputs": [
    {
     "name": "stderr",
     "output_type": "stream",
     "text": [
      "2023-05-22 02:37:28.270178: I tensorflow/tsl/cuda/cudart_stub.cc:28] Could not find cuda drivers on your machine, GPU will not be used.\n",
      "2023-05-22 02:37:28.306351: I tensorflow/tsl/cuda/cudart_stub.cc:28] Could not find cuda drivers on your machine, GPU will not be used.\n",
      "2023-05-22 02:37:28.307013: I tensorflow/core/platform/cpu_feature_guard.cc:182] This TensorFlow binary is optimized to use available CPU instructions in performance-critical operations.\n",
      "To enable the following instructions: AVX2 FMA, in other operations, rebuild TensorFlow with the appropriate compiler flags.\n",
      "2023-05-22 02:37:28.845404: W tensorflow/compiler/tf2tensorrt/utils/py_utils.cc:38] TF-TRT Warning: Could not find TensorRT\n"
     ]
    },
    {
     "name": "stdout",
     "output_type": "stream",
     "text": [
      "2.12.0\n",
      "Num GPUs Available:  0\n"
     ]
    },
    {
     "name": "stderr",
     "output_type": "stream",
     "text": [
      "2023-05-22 02:37:29.679036: I tensorflow/compiler/xla/stream_executor/cuda/cuda_gpu_executor.cc:996] successful NUMA node read from SysFS had negative value (-1), but there must be at least one NUMA node, so returning NUMA node zero. See more at https://github.com/torvalds/linux/blob/v6.0/Documentation/ABI/testing/sysfs-bus-pci#L344-L355\n",
      "2023-05-22 02:37:29.679241: I tensorflow/compiler/xla/stream_executor/cuda/cuda_gpu_executor.cc:996] successful NUMA node read from SysFS had negative value (-1), but there must be at least one NUMA node, so returning NUMA node zero. See more at https://github.com/torvalds/linux/blob/v6.0/Documentation/ABI/testing/sysfs-bus-pci#L344-L355\n",
      "2023-05-22 02:37:29.680722: W tensorflow/core/common_runtime/gpu/gpu_device.cc:1956] Cannot dlopen some GPU libraries. Please make sure the missing libraries mentioned above are installed properly if you would like to use GPU. Follow the guide at https://www.tensorflow.org/install/gpu for how to download and setup the required libraries for your platform.\n",
      "Skipping registering GPU devices...\n"
     ]
    }
   ],
   "source": [
    "import tensorflow as tf\n",
    "import matplotlib.pyplot as plt\n",
    "from tensorflow.keras import datasets, layers, models, losses\n",
    "import cv2\n",
    "import multiprocessing\n",
    "import numpy as np\n",
    "import random\n",
    "from tensorflow.keras import backend as K\n",
    "import time\n",
    "# import IPython\n",
    "print(tf.__version__)\n",
    "print(\"Num GPUs Available: \", len(tf.config.experimental.list_physical_devices('GPU')))"
   ]
  },
  {
   "cell_type": "markdown",
   "metadata": {},
   "source": [
    "# Load Datasets"
   ]
  },
  {
   "cell_type": "code",
   "execution_count": 2,
   "metadata": {
    "tags": []
   },
   "outputs": [],
   "source": [
    "def readDataset(image_path):\n",
    "    num_processes = 16\n",
    "    with multiprocessing.Pool(processes=num_processes) as pool:\n",
    "        results = pool.map(process_image, image_path)\n",
    "    return results\n",
    "\n",
    "def process_image(image_path):\n",
    "    im = cv2.imread(image_path)\n",
    "    # gray = cv2.cvtColor(im, cv2.COLOR_BGR2GRAY)\n",
    "    resized = cv2.resize(im, (32, 32), interpolation=cv2.INTER_AREA)\n",
    "    return resized\n",
    "\n",
    "def load_dataset(train_image, train_label):\n",
    "    train_image = readDataset(train_image)\n",
    "    train_image = np.array(train_image)\n",
    "    train_image = train_image/float(255)\n",
    "    train_image -= np.mean(train_image)\n",
    "    train_label = np.array(train_label)\n",
    "    return (train_image, train_label)\n",
    "\n",
    "\n",
    "def read_dataset(img_filename):\n",
    "    filename = []\n",
    "    label = []\n",
    "    with open(img_filename, 'r') as f:\n",
    "        for line in f.readlines():\n",
    "            s = line.split(' ')\n",
    "            filename.append(s[0])\n",
    "            label.append(int(s[1]))\n",
    "    dataset = []\n",
    "    for i in range(len(filename)):\n",
    "        dataset.append((filename[i],label[i]))   \n",
    "    random.shuffle(dataset)    \n",
    "    return dataset"
   ]
  },
  {
   "cell_type": "code",
   "execution_count": 3,
   "metadata": {
    "tags": []
   },
   "outputs": [],
   "source": [
    "dataset_train = read_dataset('train.txt')\n",
    "dataset_test = read_dataset('test.txt')\n",
    "dataset_val  = read_dataset('val.txt')\n",
    "\n",
    "image_paths_train, Y_train = zip(*dataset_train)\n",
    "image_paths_test, Y_test = zip(*dataset_test)\n",
    "image_paths_val, Y_val = zip(*dataset_val)\n",
    "\n",
    "(x_train, y_train) = load_dataset(image_paths_train, Y_train)\n",
    "(x_test, y_test)   = load_dataset(image_paths_test, Y_test)\n",
    "(x_valid, y_valid) = load_dataset(image_paths_val, Y_val)"
   ]
  },
  {
   "cell_type": "code",
   "execution_count": 4,
   "metadata": {
    "tags": []
   },
   "outputs": [
    {
     "data": {
      "text/plain": [
       "TensorShape([63325, 32, 32, 3])"
      ]
     },
     "execution_count": 4,
     "metadata": {},
     "output_type": "execute_result"
    }
   ],
   "source": [
    "x_train = tf.convert_to_tensor(x_train, dtype=tf.float32)\n",
    "x_test  = tf.convert_to_tensor(x_test,  dtype=tf.float32)\n",
    "x_valid = tf.convert_to_tensor(x_valid, dtype=tf.float32)\n",
    "x_train.shape"
   ]
  },
  {
   "cell_type": "code",
   "execution_count": 5,
   "metadata": {
    "tags": []
   },
   "outputs": [
    {
     "name": "stdout",
     "output_type": "stream",
     "text": [
      "Model: \"sequential\"\n",
      "_________________________________________________________________\n",
      " Layer (type)                Output Shape              Param #   \n",
      "=================================================================\n",
      " conv2d (Conv2D)             (None, 28, 28, 6)         456       \n",
      "                                                                 \n",
      " average_pooling2d (AverageP  (None, 14, 14, 6)        0         \n",
      " ooling2D)                                                       \n",
      "                                                                 \n",
      " activation (Activation)     (None, 14, 14, 6)         0         \n",
      "                                                                 \n",
      " conv2d_1 (Conv2D)           (None, 10, 10, 16)        2416      \n",
      "                                                                 \n",
      " average_pooling2d_1 (Averag  (None, 5, 5, 16)         0         \n",
      " ePooling2D)                                                     \n",
      "                                                                 \n",
      " activation_1 (Activation)   (None, 5, 5, 16)          0         \n",
      "                                                                 \n",
      " conv2d_2 (Conv2D)           (None, 1, 1, 120)         48120     \n",
      "                                                                 \n",
      " flatten (Flatten)           (None, 120)               0         \n",
      "                                                                 \n",
      " dense (Dense)               (None, 84)                10164     \n",
      "                                                                 \n",
      " dense_1 (Dense)             (None, 50)                4250      \n",
      "                                                                 \n",
      "=================================================================\n",
      "Total params: 65,406\n",
      "Trainable params: 65,406\n",
      "Non-trainable params: 0\n",
      "_________________________________________________________________\n"
     ]
    }
   ],
   "source": [
    "model = models.Sequential()\n",
    "model.add(layers.Conv2D(6, 5, activation='tanh', input_shape=x_train.shape[1:]))\n",
    "model.add(layers.AveragePooling2D(2))\n",
    "model.add(layers.Activation('sigmoid'))\n",
    "model.add(layers.Conv2D(16, 5, activation='tanh'))\n",
    "model.add(layers.AveragePooling2D(2))\n",
    "model.add(layers.Activation('sigmoid'))\n",
    "model.add(layers.Conv2D(120, 5, activation='tanh'))\n",
    "model.add(layers.Flatten())\n",
    "model.add(layers.Dense(84, activation='tanh'))\n",
    "model.add(layers.Dense(50, activation='softmax'))\n",
    "model.summary()"
   ]
  },
  {
   "cell_type": "code",
   "execution_count": 6,
   "metadata": {
    "tags": []
   },
   "outputs": [
    {
     "name": "stdout",
     "output_type": "stream",
     "text": [
      "Epoch 1/10\n",
      "31/31 [==============================] - 4s 110ms/step - loss: 3.9230 - accuracy: 0.0205 - val_loss: 3.9240 - val_accuracy: 0.0200\n",
      "Epoch 2/10\n",
      "31/31 [==============================] - 3s 105ms/step - loss: 3.9143 - accuracy: 0.0207 - val_loss: 3.9180 - val_accuracy: 0.0156\n",
      "Epoch 3/10\n",
      "31/31 [==============================] - 3s 102ms/step - loss: 3.9078 - accuracy: 0.0230 - val_loss: 3.9026 - val_accuracy: 0.0444\n",
      "Epoch 4/10\n",
      "31/31 [==============================] - 3s 104ms/step - loss: 3.8514 - accuracy: 0.0353 - val_loss: 3.8139 - val_accuracy: 0.0422\n",
      "Epoch 5/10\n",
      "31/31 [==============================] - 3s 101ms/step - loss: 3.7724 - accuracy: 0.0468 - val_loss: 3.7457 - val_accuracy: 0.0600\n",
      "Epoch 6/10\n",
      "31/31 [==============================] - 3s 105ms/step - loss: 3.7426 - accuracy: 0.0537 - val_loss: 3.7143 - val_accuracy: 0.0644\n",
      "Epoch 7/10\n",
      "31/31 [==============================] - 3s 103ms/step - loss: 3.7202 - accuracy: 0.0589 - val_loss: 3.6841 - val_accuracy: 0.0867\n",
      "Epoch 8/10\n",
      "31/31 [==============================] - 3s 104ms/step - loss: 3.7029 - accuracy: 0.0638 - val_loss: 3.6626 - val_accuracy: 0.0711\n",
      "Epoch 9/10\n",
      "31/31 [==============================] - 3s 103ms/step - loss: 3.6709 - accuracy: 0.0687 - val_loss: 3.6197 - val_accuracy: 0.0933\n",
      "Epoch 10/10\n",
      "31/31 [==============================] - 3s 105ms/step - loss: 3.6288 - accuracy: 0.0776 - val_loss: 3.5912 - val_accuracy: 0.0911\n",
      "Total training time: 32.99 seconds\n",
      "Average time per epoch: 3.30 seconds\n"
     ]
    }
   ],
   "source": [
    "start_time = time.time()\n",
    "\n",
    "# compile and fit your model\n",
    "model.compile(optimizer='adam', loss=losses.sparse_categorical_crossentropy, metrics=['accuracy'])\n",
    "history = model.fit(x_train, y_train, batch_size=2048, epochs=30, validation_data=(x_valid, y_valid))\n",
    "\n",
    "end_time = time.time()\n",
    "\n",
    "# calculate the total training time\n",
    "total_time = end_time - start_time\n",
    "\n",
    "# calculate the average time per epoch\n",
    "avg_time_per_epoch = total_time / len(history.history['loss'])\n",
    "\n",
    "print(f'Total training time: {total_time:.2f} seconds')\n",
    "print(f'Average time per epoch: {avg_time_per_epoch:.2f} seconds')"
   ]
  },
  {
   "cell_type": "code",
   "execution_count": 11,
   "metadata": {
    "tags": []
   },
   "outputs": [
    {
     "data": {
      "image/png": "[encoded data removed]",
      "text/plain": [
       "<Figure size 500x700 with 2 Axes>"
      ]
     },
     "metadata": {},
     "output_type": "display_data"
    }
   ],
   "source": [
    "f = plt.figure(figsize=(4,6), dpi=100)\n",
    "ax = f.add_subplot(211)\n",
    "plt.title(\"TensorFlow\")\n",
    "plt.plot(history.history['loss'])\n",
    "plt.plot(history.history['val_loss'])\n",
    "plt.ylabel(\"Loss\")\n",
    "plt.xticks([])\n",
    "plt.legend(['Train', 'Valid'])\n",
    "\n",
    "ax = f.add_subplot(212)\n",
    "plt.plot(np.array(history.history['accuracy'])*100)\n",
    "plt.plot(np.array(history.history['val_accuracy'])*100)\n",
    "# plt.title(\"Accuracy\")\n",
    "plt.xlabel(\"Epoch\")\n",
    "plt.ylabel(\"Accuracy (%)\")\n",
    "plt.ylim([0, 14])\n",
    "\n",
    "plt.savefig('./pic/lenet5_tf.png')"
   ]
  },
  {
   "cell_type": "code",
   "execution_count": 10,
   "metadata": {},
   "outputs": [
    {
     "name": "stdout",
     "output_type": "stream",
     "text": [
      "\n",
      "=========================Options=============================\n",
      "-max_depth                  10000\n",
      "-min_bytes                  0\n",
      "-min_peak_bytes             0\n",
      "-min_residual_bytes         0\n",
      "-min_output_bytes           0\n",
      "-min_micros                 0\n",
      "-min_accelerator_micros     0\n",
      "-min_cpu_micros             0\n",
      "-min_params                 0\n",
      "-min_float_ops              1\n",
      "-min_occurrence             0\n",
      "-step                       -1\n",
      "-order_by                   float_ops\n",
      "-account_type_regexes       .*\n",
      "-start_name_regexes         .*\n",
      "-trim_name_regexes          \n",
      "-show_name_regexes          .*\n",
      "-hide_name_regexes          \n",
      "-account_displayed_op_only  true\n",
      "-select                     float_ops\n",
      "-output                     stdout:\n",
      "\n",
      "==================Model Analysis Report======================\n",
      "\n",
      "Doc:\n",
      "scope: The nodes in the model graph are organized by their names, which is hierarchical like filesystem.\n",
      "flops: Number of float operations. Note: Please read the implementation for the math behind it.\n",
      "\n",
      "ProfiFLOPS: 0.1323272 G\n",
      "le:\n",
      "node name | # float_ops\n",
      "_TFProfRoot (--/1.32m flops)\n",
      "  sequential/conv2d/Conv2D (705.60k/705.60k flops)\n",
      "  sequential/conv2d_1/Conv2D (480.00k/480.00k flops)\n",
      "  sequential/conv2d_2/Conv2D (96.00k/96.00k flops)\n",
      "  sequential/dense/MatMul (20.16k/20.16k flops)\n",
      "  sequential/dense_1/MatMul (8.40k/8.40k flops)\n",
      "  sequential/average_pooling2d/AvgPool (4.70k/4.70k flops)\n",
      "  sequential/conv2d/BiasAdd (4.70k/4.70k flops)\n",
      "  sequential/average_pooling2d_1/AvgPool (1.60k/1.60k flops)\n",
      "  sequential/conv2d_1/BiasAdd (1.60k/1.60k flops)\n",
      "  sequential/dense_1/Softmax (250/250 flops)\n",
      "  sequential/conv2d_2/BiasAdd (120/120 flops)\n",
      "  sequential/dense/BiasAdd (84/84 flops)\n",
      "  sequential/dense_1/BiasAdd (50/50 flops)\n",
      "\n",
      "======================End of Report==========================\n"
     ]
    },
    {
     "name": "stderr",
     "output_type": "stream",
     "text": [
      "2023-05-22 02:40:13.685509: I tensorflow/compiler/xla/stream_executor/cuda/cuda_gpu_executor.cc:996] successful NUMA node read from SysFS had negative value (-1), but there must be at least one NUMA node, so returning NUMA node zero. See more at https://github.com/torvalds/linux/blob/v6.0/Documentation/ABI/testing/sysfs-bus-pci#L344-L355\n",
      "2023-05-22 02:40:13.685748: I tensorflow/compiler/xla/stream_executor/cuda/cuda_gpu_executor.cc:996] successful NUMA node read from SysFS had negative value (-1), but there must be at least one NUMA node, so returning NUMA node zero. See more at https://github.com/torvalds/linux/blob/v6.0/Documentation/ABI/testing/sysfs-bus-pci#L344-L355\n",
      "2023-05-22 02:40:13.685894: I tensorflow/core/grappler/devices.cc:66] Number of eligible GPUs (core count >= 8, compute capability >= 0.0): 2\n",
      "2023-05-22 02:40:13.685956: I tensorflow/core/grappler/clusters/single_machine.cc:358] Starting new session\n",
      "2023-05-22 02:40:13.686252: I tensorflow/compiler/xla/stream_executor/cuda/cuda_gpu_executor.cc:996] successful NUMA node read from SysFS had negative value (-1), but there must be at least one NUMA node, so returning NUMA node zero. See more at https://github.com/torvalds/linux/blob/v6.0/Documentation/ABI/testing/sysfs-bus-pci#L344-L355\n",
      "2023-05-22 02:40:13.686420: I tensorflow/compiler/xla/stream_executor/cuda/cuda_gpu_executor.cc:996] successful NUMA node read from SysFS had negative value (-1), but there must be at least one NUMA node, so returning NUMA node zero. See more at https://github.com/torvalds/linux/blob/v6.0/Documentation/ABI/testing/sysfs-bus-pci#L344-L355\n",
      "2023-05-22 02:40:13.686553: W tensorflow/core/common_runtime/gpu/gpu_device.cc:1956] Cannot dlopen some GPU libraries. Please make sure the missing libraries mentioned above are installed properly if you would like to use GPU. Follow the guide at https://www.tensorflow.org/install/gpu for how to download and setup the required libraries for your platform.\n",
      "Skipping registering GPU devices...\n"
     ]
    }
   ],
   "source": [
    "from keras_flops import get_flops\n",
    "# Calculae FLOPS\n",
    "flops = get_flops(model)\n",
    "print(f\"FLOPS: {flops / 10e6} G\")"
   ]
  },
  {
   "cell_type": "code",
   "execution_count": 9,
   "metadata": {
    "tags": []
   },
   "outputs": [
    {
     "name": "stdout",
     "output_type": "stream",
     "text": [
      "15/15 [==============================] - 0s 2ms/step - loss: 3.5939 - accuracy: 0.0889\n",
      "0.07089900970458984\n"
     ]
    }
   ],
   "source": [
    "start_time = time.time()\n",
    "model.evaluate(x_test, y_test, batch_size=64)\n",
    "end_time = time.time()\n",
    "# calculate the total training time\n",
    "total_time = end_time - start_time\n",
    "print(total_time)"
   ]
  },
  {
   "cell_type": "raw",
   "metadata": {},
   "source": [
    "_________________________________________________________________\n",
    "Epoch 1/30\n",
    "2023-05-21 19:31:23.291788: I tensorflow/stream_executor/cuda/cuda_dnn.cc:379] Loaded cuDNN version 8303\n",
    "2023-05-21 19:31:24.243961: I tensorflow/stream_executor/cuda/cuda_blas.cc:1804] TensorFloat-32 will be used for the matrix multiplication. This will only be logged once.\n",
    "31/31 [==============================] - 3s 25ms/step - loss: 3.9230 - accuracy: 0.0201 - val_loss: 3.9176 - val_accuracy: 0.0222\n",
    "Epoch 2/30\n",
    "31/31 [==============================] - 0s 14ms/step - loss: 3.9134 - accuracy: 0.0218 - val_loss: 3.9170 - val_accuracy: 0.0200\n",
    "Epoch 3/30\n",
    "31/31 [==============================] - 0s 11ms/step - loss: 3.9113 - accuracy: 0.0223 - val_loss: 3.9093 - val_accuracy: 0.0267\n",
    "Epoch 4/30\n",
    "31/31 [==============================] - 0s 11ms/step - loss: 3.8887 - accuracy: 0.0315 - val_loss: 3.8409 - val_accuracy: 0.0356\n",
    "Epoch 5/30\n",
    "31/31 [==============================] - 0s 11ms/step - loss: 3.7812 - accuracy: 0.0460 - val_loss: 3.7210 - val_accuracy: 0.0489\n",
    "Epoch 6/30\n",
    "31/31 [==============================] - 0s 10ms/step - loss: 3.7023 - accuracy: 0.0613 - val_loss: 3.6583 - val_accuracy: 0.0778\n",
    "Epoch 7/30\n",
    "31/31 [==============================] - 0s 10ms/step - loss: 3.6390 - accuracy: 0.0716 - val_loss: 3.6212 - val_accuracy: 0.0889\n",
    "Epoch 8/30\n",
    "31/31 [==============================] - 0s 10ms/step - loss: 3.6090 - accuracy: 0.0771 - val_loss: 3.6089 - val_accuracy: 0.0844\n",
    "Epoch 9/30\n",
    "31/31 [==============================] - 0s 10ms/step - loss: 3.5977 - accuracy: 0.0785 - val_loss: 3.5976 - val_accuracy: 0.1022\n",
    "Epoch 10/30\n",
    "31/31 [==============================] - 0s 10ms/step - loss: 3.5894 - accuracy: 0.0793 - val_loss: 3.5854 - val_accuracy: 0.0933\n",
    "Epoch 11/30\n",
    "31/31 [==============================] - 0s 10ms/step - loss: 3.5751 - accuracy: 0.0829 - val_loss: 3.5701 - val_accuracy: 0.0844\n",
    "Epoch 12/30\n",
    "31/31 [==============================] - 0s 10ms/step - loss: 3.5652 - accuracy: 0.0842 - val_loss: 3.5629 - val_accuracy: 0.0889\n",
    "Epoch 13/30\n",
    "31/31 [==============================] - 0s 11ms/step - loss: 3.5519 - accuracy: 0.0873 - val_loss: 3.5464 - val_accuracy: 0.0911\n",
    "Epoch 14/30\n",
    "31/31 [==============================] - 0s 10ms/step - loss: 3.5446 - accuracy: 0.0871 - val_loss: 3.5566 - val_accuracy: 0.0844\n",
    "Epoch 15/30\n",
    "31/31 [==============================] - 0s 10ms/step - loss: 3.5326 - accuracy: 0.0900 - val_loss: 3.5262 - val_accuracy: 0.1000\n",
    "Epoch 16/30\n",
    "31/31 [==============================] - 0s 10ms/step - loss: 3.5146 - accuracy: 0.0925 - val_loss: 3.5033 - val_accuracy: 0.0978\n",
    "Epoch 17/30\n",
    "31/31 [==============================] - 0s 10ms/step - loss: 3.5039 - accuracy: 0.0970 - val_loss: 3.5052 - val_accuracy: 0.0933\n",
    "Epoch 18/30\n",
    "31/31 [==============================] - 0s 10ms/step - loss: 3.4915 - accuracy: 0.0981 - val_loss: 3.4761 - val_accuracy: 0.1044\n",
    "Epoch 19/30\n",
    "31/31 [==============================] - 0s 10ms/step - loss: 3.4842 - accuracy: 0.1000 - val_loss: 3.4807 - val_accuracy: 0.1022\n",
    "Epoch 20/30\n",
    "31/31 [==============================] - 0s 10ms/step - loss: 3.4775 - accuracy: 0.1016 - val_loss: 3.4658 - val_accuracy: 0.1111\n",
    "Epoch 21/30\n",
    "31/31 [==============================] - 0s 10ms/step - loss: 3.4676 - accuracy: 0.1041 - val_loss: 3.4581 - val_accuracy: 0.1111\n",
    "Epoch 22/30\n",
    "31/31 [==============================] - 0s 10ms/step - loss: 3.4591 - accuracy: 0.1057 - val_loss: 3.4489 - val_accuracy: 0.1111\n",
    "Epoch 23/30\n",
    "31/31 [==============================] - 0s 10ms/step - loss: 3.4525 - accuracy: 0.1071 - val_loss: 3.4698 - val_accuracy: 0.1044\n",
    "Epoch 24/30\n",
    "31/31 [==============================] - 0s 10ms/step - loss: 3.4490 - accuracy: 0.1068 - val_loss: 3.4281 - val_accuracy: 0.1178\n",
    "Epoch 25/30\n",
    "31/31 [==============================] - 0s 10ms/step - loss: 3.4375 - accuracy: 0.1098 - val_loss: 3.4236 - val_accuracy: 0.1156\n",
    "Epoch 26/30\n",
    "31/31 [==============================] - 0s 10ms/step - loss: 3.4308 - accuracy: 0.1101 - val_loss: 3.4105 - val_accuracy: 0.1200\n",
    "Epoch 27/30\n",
    "31/31 [==============================] - 0s 10ms/step - loss: 3.4257 - accuracy: 0.1109 - val_loss: 3.4191 - val_accuracy: 0.1044\n",
    "Epoch 28/30\n",
    "31/31 [==============================] - 0s 10ms/step - loss: 3.4222 - accuracy: 0.1134 - val_loss: 3.4135 - val_accuracy: 0.1133\n",
    "Epoch 29/30\n",
    "31/31 [==============================] - 0s 10ms/step - loss: 3.4169 - accuracy: 0.1134 - val_loss: 3.3994 - val_accuracy: 0.1289\n",
    "Epoch 30/30\n",
    "31/31 [==============================] - 0s 10ms/step - loss: 3.4050 - accuracy: 0.1156 - val_loss: 3.3999 - val_accuracy: 0.1289\n",
    "Total training time: 12.85 seconds\n",
    "Average time per epoch: 0.43 seconds\n",
    "\n",
    "WARNING:tensorflow:From /usr/local/lib/python3.8/dist-packages/tensorflow/python/ops/nn_ops.py:5214: tensor_shape_from_node_def_name (from tensorflow.python.framework.graph_util_impl) is deprecated and will be removed in a future version.\n",
    "Instructions for updating:\n",
    "Use `tf.compat.v1.graph_util.tensor_shape_from_node_def_name`\n",
    "\n",
    "=========================Options=============================\n",
    "-max_depth                  10000\n",
    "-min_bytes                  0\n",
    "-min_peak_bytes             0\n",
    "-min_residual_bytes         0\n",
    "-min_output_bytes           0\n",
    "-min_micros                 0\n",
    "-min_accelerator_micros     0\n",
    "-min_cpu_micros             0\n",
    "-min_params                 0\n",
    "-min_float_ops              1\n",
    "-min_occurrence             0\n",
    "-step                       -1\n",
    "-order_by                   float_ops\n",
    "-account_type_regexes       .*\n",
    "-start_name_regexes         .*\n",
    "-trim_name_regexes          \n",
    "-show_name_regexes          .*\n",
    "-hide_name_regexes          \n",
    "-account_displayed_op_only  true\n",
    "-select                     float_ops\n",
    "-output                     stdout:\n",
    "\n",
    "==================Model Analysis Report======================\n",
    "\n",
    "Doc:\n",
    "scope: The nodes in the model graph are organized by their names, which is hierarchical like filesystem.\n",
    "flops: Number of float operations. Note: Please read the implementation for the math behind it.\n",
    "\n",
    "Profile:\n",
    "node name | # float_ops\n",
    "_TFProfRoot (--/1.32m flops)\n",
    "  sequential/conv2d/Conv2D (705.60k/705.60k flops)\n",
    "  sequential/conv2d_1/Conv2D (480.00k/480.00k flops)\n",
    "  sequential/conv2d_2/Conv2D (96.00k/96.00k flops)\n",
    "  sequential/dense/MatMul (20.16k/20.16k flops)\n",
    "  sequential/dense_1/MatMul (8.40k/8.40k flops)\n",
    "  sequential/average_pooling2d/AvgPool (4.70k/4.70k flops)\n",
    "  sequential/conv2d/BiasAdd (4.70k/4.70k flops)\n",
    "  sequential/average_pooling2d_1/AvgPool (1.60k/1.60k flops)\n",
    "  sequential/conv2d_1/BiasAdd (1.60k/1.60k flops)\n",
    "  sequential/dense_1/Softmax (250/250 flops)\n",
    "  sequential/conv2d_2/BiasAdd (120/120 flops)\n",
    "  sequential/dense/BiasAdd (84/84 flops)\n",
    "  sequential/dense_1/BiasAdd (50/50 flops)\n",
    "\n",
    "======================End of Report==========================\n",
    "FLOPS: 0.1323272 G\n",
    "8/8 [==============================] - 0s 7ms/step - loss: 3.4296 - accuracy: 0.1022\n",
    "0.10686111450195312"
   ]
  },
  {
   "cell_type": "code",
   "execution_count": null,
   "metadata": {},
   "outputs": [],
   "source": []
  }
 ],
 "metadata": {
  "accelerator": "GPU",
  "colab": {
   "name": "LeNet-5 TensorFlow 2.0 datahacker.ipynb",
   "provenance": []
  },
  "kernelspec": {
   "display_name": "Python 3 (ipykernel)",
   "language": "python",
   "name": "python3"
  },
  "language_info": {
   "codemirror_mode": {
    "name": "ipython",
    "version": 3
   },
   "file_extension": ".py",
   "mimetype": "text/x-python",
   "name": "python",
   "nbconvert_exporter": "python",
   "pygments_lexer": "ipython3",
   "version": "3.8.10"
  }
 },
 "nbformat": 4,
 "nbformat_minor": 4
}
