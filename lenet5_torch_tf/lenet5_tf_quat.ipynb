{
 "cells": [
  {
   "cell_type": "code",
   "execution_count": 1,
   "metadata": {
    "tags": []
   },
   "outputs": [
    {
     "name": "stderr",
     "output_type": "stream",
     "text": [
      "2023-05-21 21:31:12.699985: I tensorflow/tsl/cuda/cudart_stub.cc:28] Could not find cuda drivers on your machine, GPU will not be used.\n",
      "2023-05-21 21:31:12.735878: I tensorflow/tsl/cuda/cudart_stub.cc:28] Could not find cuda drivers on your machine, GPU will not be used.\n",
      "2023-05-21 21:31:12.736446: I tensorflow/core/platform/cpu_feature_guard.cc:182] This TensorFlow binary is optimized to use available CPU instructions in performance-critical operations.\n",
      "To enable the following instructions: AVX2 FMA, in other operations, rebuild TensorFlow with the appropriate compiler flags.\n",
      "2023-05-21 21:31:13.264492: W tensorflow/compiler/tf2tensorrt/utils/py_utils.cc:38] TF-TRT Warning: Could not find TensorRT\n"
     ]
    },
    {
     "name": "stdout",
     "output_type": "stream",
     "text": [
      "2.12.0\n",
      "Num GPUs Available:  0\n"
     ]
    },
    {
     "name": "stderr",
     "output_type": "stream",
     "text": [
      "2023-05-21 21:31:14.106174: I tensorflow/compiler/xla/stream_executor/cuda/cuda_gpu_executor.cc:996] successful NUMA node read from SysFS had negative value (-1), but there must be at least one NUMA node, so returning NUMA node zero. See more at https://github.com/torvalds/linux/blob/v6.0/Documentation/ABI/testing/sysfs-bus-pci#L344-L355\n",
      "2023-05-21 21:31:14.106490: I tensorflow/compiler/xla/stream_executor/cuda/cuda_gpu_executor.cc:996] successful NUMA node read from SysFS had negative value (-1), but there must be at least one NUMA node, so returning NUMA node zero. See more at https://github.com/torvalds/linux/blob/v6.0/Documentation/ABI/testing/sysfs-bus-pci#L344-L355\n",
      "2023-05-21 21:31:14.108889: W tensorflow/core/common_runtime/gpu/gpu_device.cc:1956] Cannot dlopen some GPU libraries. Please make sure the missing libraries mentioned above are installed properly if you would like to use GPU. Follow the guide at https://www.tensorflow.org/install/gpu for how to download and setup the required libraries for your platform.\n",
      "Skipping registering GPU devices...\n"
     ]
    }
   ],
   "source": [
    "import tensorflow as tf\n",
    "import matplotlib.pyplot as plt\n",
    "from tensorflow.keras import datasets, layers, models, losses\n",
    "import cv2\n",
    "import multiprocessing\n",
    "import numpy as np\n",
    "import random\n",
    "from tensorflow.keras import backend as K\n",
    "import time\n",
    "\n",
    "print(tf.__version__)\n",
    "print(\"Num GPUs Available: \", len(tf.config.experimental.list_physical_devices('GPU')))"
   ]
  },
  {
   "cell_type": "code",
   "execution_count": 2,
   "metadata": {
    "tags": []
   },
   "outputs": [],
   "source": [
    "def readDataset(image_path):\n",
    "    num_processes = 16\n",
    "    with multiprocessing.Pool(processes=num_processes) as pool:\n",
    "        results = pool.map(process_image, image_path)\n",
    "    return results\n",
    "\n",
    "def process_image(image_path):\n",
    "    im = cv2.imread(image_path)\n",
    "    # gray = cv2.cvtColor(im, cv2.COLOR_BGR2GRAY)\n",
    "    resized = cv2.resize(im, (32, 32), interpolation=cv2.INTER_AREA)\n",
    "    return resized\n",
    "\n",
    "def load_dataset(train_image, train_label):\n",
    "    train_image = readDataset(train_image)\n",
    "    train_image = np.array(train_image)\n",
    "    train_image = train_image/float(255)\n",
    "    train_image -= np.mean(train_image)\n",
    "    train_label = np.array(train_label)\n",
    "    return (train_image, train_label)\n",
    "\n",
    "\n",
    "def read_dataset(img_filename):\n",
    "    filename = []\n",
    "    label = []\n",
    "    with open(img_filename, 'r') as f:\n",
    "        for line in f.readlines():\n",
    "            s = line.split(' ')\n",
    "            filename.append(s[0])\n",
    "            label.append(int(s[1]))\n",
    "    dataset = []\n",
    "    for i in range(len(filename)):\n",
    "        dataset.append((filename[i],label[i]))   \n",
    "    random.shuffle(dataset)    \n",
    "    return dataset"
   ]
  },
  {
   "cell_type": "code",
   "execution_count": 3,
   "metadata": {
    "tags": []
   },
   "outputs": [],
   "source": [
    "dataset_train = read_dataset('train.txt')\n",
    "dataset_test = read_dataset('test.txt')\n",
    "dataset_val  = read_dataset('val.txt')\n",
    "\n",
    "image_paths_train, Y_train = zip(*dataset_train)\n",
    "image_paths_test, Y_test = zip(*dataset_test)\n",
    "image_paths_val, Y_val = zip(*dataset_val)\n",
    "\n",
    "(x_train, y_train) = load_dataset(image_paths_train, Y_train)\n",
    "(x_test, y_test)   = load_dataset(image_paths_test, Y_test)\n",
    "(x_valid, y_valid) = load_dataset(image_paths_val, Y_val)"
   ]
  },
  {
   "cell_type": "code",
   "execution_count": 4,
   "metadata": {
    "tags": []
   },
   "outputs": [
    {
     "data": {
      "text/plain": [
       "TensorShape([63325, 32, 32, 3])"
      ]
     },
     "execution_count": 4,
     "metadata": {},
     "output_type": "execute_result"
    }
   ],
   "source": [
    "x_train = tf.convert_to_tensor(x_train, dtype=tf.float32)\n",
    "x_test  = tf.convert_to_tensor(x_test,  dtype=tf.float32)\n",
    "x_valid = tf.convert_to_tensor(x_valid, dtype=tf.float32)\n",
    "x_train.shape"
   ]
  },
  {
   "cell_type": "code",
   "execution_count": 5,
   "metadata": {
    "tags": []
   },
   "outputs": [
    {
     "data": {
      "text/plain": [
       "TensorShape([32, 32, 3])"
      ]
     },
     "execution_count": 5,
     "metadata": {},
     "output_type": "execute_result"
    }
   ],
   "source": [
    "x_train.shape[1:]"
   ]
  },
  {
   "cell_type": "code",
   "execution_count": 6,
   "metadata": {
    "tags": []
   },
   "outputs": [
    {
     "name": "stdout",
     "output_type": "stream",
     "text": [
      "Model: \"sequential\"\n",
      "_________________________________________________________________\n",
      " Layer (type)                Output Shape              Param #   \n",
      "=================================================================\n",
      " conv2d (Conv2D)             (None, 28, 28, 6)         456       \n",
      "                                                                 \n",
      " average_pooling2d (AverageP  (None, 14, 14, 6)        0         \n",
      " ooling2D)                                                       \n",
      "                                                                 \n",
      " activation (Activation)     (None, 14, 14, 6)         0         \n",
      "                                                                 \n",
      " conv2d_1 (Conv2D)           (None, 10, 10, 16)        2416      \n",
      "                                                                 \n",
      " average_pooling2d_1 (Averag  (None, 5, 5, 16)         0         \n",
      " ePooling2D)                                                     \n",
      "                                                                 \n",
      " activation_1 (Activation)   (None, 5, 5, 16)          0         \n",
      "                                                                 \n",
      " conv2d_2 (Conv2D)           (None, 1, 1, 120)         48120     \n",
      "                                                                 \n",
      " flatten (Flatten)           (None, 120)               0         \n",
      "                                                                 \n",
      " dense (Dense)               (None, 84)                10164     \n",
      "                                                                 \n",
      " dense_1 (Dense)             (None, 50)                4250      \n",
      "                                                                 \n",
      "=================================================================\n",
      "Total params: 65,406\n",
      "Trainable params: 65,406\n",
      "Non-trainable params: 0\n",
      "_________________________________________________________________\n"
     ]
    }
   ],
   "source": [
    "model = models.Sequential()\n",
    "model.add(layers.Conv2D(6, 5, activation='tanh', input_shape=x_train.shape[1:]))\n",
    "model.add(layers.AveragePooling2D(2))\n",
    "model.add(layers.Activation('sigmoid'))\n",
    "model.add(layers.Conv2D(16, 5, activation='tanh'))\n",
    "model.add(layers.AveragePooling2D(2))\n",
    "model.add(layers.Activation('sigmoid'))\n",
    "model.add(layers.Conv2D(120, 5, activation='tanh'))\n",
    "model.add(layers.Flatten())\n",
    "model.add(layers.Dense(84, activation='tanh'))\n",
    "model.add(layers.Dense(50, activation='softmax'))\n",
    "model.summary()"
   ]
  },
  {
   "cell_type": "code",
   "execution_count": 8,
   "metadata": {
    "tags": []
   },
   "outputs": [],
   "source": [
    "import tensorflow_model_optimization as tfmot"
   ]
  },
  {
   "cell_type": "code",
   "execution_count": 9,
   "metadata": {
    "tags": []
   },
   "outputs": [
    {
     "name": "stdout",
     "output_type": "stream",
     "text": [
      "Model: \"sequential\"\n",
      "_________________________________________________________________\n",
      " Layer (type)                Output Shape              Param #   \n",
      "=================================================================\n",
      " quantize_layer (QuantizeLay  (None, 32, 32, 3)        3         \n",
      " er)                                                             \n",
      "                                                                 \n",
      " quant_conv2d (QuantizeWrapp  (None, 28, 28, 6)        471       \n",
      " erV2)                                                           \n",
      "                                                                 \n",
      " quant_average_pooling2d (Qu  (None, 14, 14, 6)        3         \n",
      " antizeWrapperV2)                                                \n",
      "                                                                 \n",
      " quant_activation (QuantizeW  (None, 14, 14, 6)        1         \n",
      " rapperV2)                                                       \n",
      "                                                                 \n",
      " quant_conv2d_1 (QuantizeWra  (None, 10, 10, 16)       2451      \n",
      " pperV2)                                                         \n",
      "                                                                 \n",
      " quant_average_pooling2d_1 (  (None, 5, 5, 16)         3         \n",
      " QuantizeWrapperV2)                                              \n",
      "                                                                 \n",
      " quant_activation_1 (Quantiz  (None, 5, 5, 16)         1         \n",
      " eWrapperV2)                                                     \n",
      "                                                                 \n",
      " quant_conv2d_2 (QuantizeWra  (None, 1, 1, 120)        48363     \n",
      " pperV2)                                                         \n",
      "                                                                 \n",
      " quant_flatten (QuantizeWrap  (None, 120)              1         \n",
      " perV2)                                                          \n",
      "                                                                 \n",
      " quant_dense (QuantizeWrappe  (None, 84)               10169     \n",
      " rV2)                                                            \n",
      "                                                                 \n",
      " quant_dense_1 (QuantizeWrap  (None, 50)               4255      \n",
      " perV2)                                                          \n",
      "                                                                 \n",
      "=================================================================\n",
      "Total params: 65,721\n",
      "Trainable params: 65,406\n",
      "Non-trainable params: 315\n",
      "_________________________________________________________________\n"
     ]
    }
   ],
   "source": [
    "quantize_model = tfmot.quantization.keras.quantize_model\n",
    "\n",
    "# q_aware stands for for quantization aware.\n",
    "q_aware_model = quantize_model(model)\n",
    "\n",
    "# `quantize_model` requires a recompile.\n",
    "q_aware_model.compile(optimizer='adam',\n",
    "              loss=tf.keras.losses.SparseCategoricalCrossentropy(from_logits=True),\n",
    "              metrics=['accuracy'])\n",
    "\n",
    "q_aware_model.summary()"
   ]
  },
  {
   "cell_type": "code",
   "execution_count": 10,
   "metadata": {
    "tags": []
   },
   "outputs": [
    {
     "name": "stdout",
     "output_type": "stream",
     "text": [
      "Epoch 1/30\n"
     ]
    },
    {
     "name": "stderr",
     "output_type": "stream",
     "text": [
      "/home/tailab_paipei/.local/lib/python3.8/site-packages/keras/backend.py:5612: UserWarning: \"`sparse_categorical_crossentropy` received `from_logits=True`, but the `output` argument was produced by a Softmax activation and thus does not represent logits. Was this intended?\n",
      "  output, from_logits = _get_logits(\n"
     ]
    },
    {
     "name": "stdout",
     "output_type": "stream",
     "text": [
      "31/31 [==============================] - 5s 140ms/step - loss: 3.9234 - accuracy: 0.0198 - val_loss: 3.9175 - val_accuracy: 0.0156\n",
      "Epoch 2/30\n",
      "31/31 [==============================] - 4s 134ms/step - loss: 3.9133 - accuracy: 0.0200 - val_loss: 3.9138 - val_accuracy: 0.0200\n",
      "Epoch 3/30\n",
      "31/31 [==============================] - 4s 134ms/step - loss: 3.8910 - accuracy: 0.0284 - val_loss: 3.8644 - val_accuracy: 0.0244\n",
      "Epoch 4/30\n",
      "31/31 [==============================] - 4s 135ms/step - loss: 3.8024 - accuracy: 0.0439 - val_loss: 3.7576 - val_accuracy: 0.0578\n",
      "Epoch 5/30\n",
      "31/31 [==============================] - 4s 134ms/step - loss: 3.7521 - accuracy: 0.0519 - val_loss: 3.7339 - val_accuracy: 0.0600\n",
      "Epoch 6/30\n",
      "31/31 [==============================] - 4s 135ms/step - loss: 3.7287 - accuracy: 0.0558 - val_loss: 3.7071 - val_accuracy: 0.0622\n",
      "Epoch 7/30\n",
      "31/31 [==============================] - 4s 135ms/step - loss: 3.7124 - accuracy: 0.0597 - val_loss: 3.6927 - val_accuracy: 0.0689\n",
      "Epoch 8/30\n",
      "31/31 [==============================] - 4s 132ms/step - loss: 3.6934 - accuracy: 0.0621 - val_loss: 3.6670 - val_accuracy: 0.0800\n",
      "Epoch 9/30\n",
      "31/31 [==============================] - 4s 135ms/step - loss: 3.6665 - accuracy: 0.0679 - val_loss: 3.6445 - val_accuracy: 0.0822\n",
      "Epoch 10/30\n",
      "31/31 [==============================] - 4s 136ms/step - loss: 3.6271 - accuracy: 0.0762 - val_loss: 3.6010 - val_accuracy: 0.0689\n",
      "Epoch 11/30\n",
      "31/31 [==============================] - 4s 133ms/step - loss: 3.5948 - accuracy: 0.0818 - val_loss: 3.5763 - val_accuracy: 0.0911\n",
      "Epoch 12/30\n",
      "31/31 [==============================] - 4s 135ms/step - loss: 3.5707 - accuracy: 0.0852 - val_loss: 3.5544 - val_accuracy: 0.0978\n",
      "Epoch 13/30\n",
      "31/31 [==============================] - 4s 135ms/step - loss: 3.5544 - accuracy: 0.0871 - val_loss: 3.5554 - val_accuracy: 0.0889\n",
      "Epoch 14/30\n",
      "31/31 [==============================] - 4s 136ms/step - loss: 3.5436 - accuracy: 0.0896 - val_loss: 3.5333 - val_accuracy: 0.1022\n",
      "Epoch 15/30\n",
      "31/31 [==============================] - 4s 135ms/step - loss: 3.5234 - accuracy: 0.0925 - val_loss: 3.5102 - val_accuracy: 0.1000\n",
      "Epoch 16/30\n",
      "31/31 [==============================] - 4s 134ms/step - loss: 3.5052 - accuracy: 0.0969 - val_loss: 3.5153 - val_accuracy: 0.0867\n",
      "Epoch 17/30\n",
      "31/31 [==============================] - 4s 134ms/step - loss: 3.4962 - accuracy: 0.0966 - val_loss: 3.4890 - val_accuracy: 0.1022\n",
      "Epoch 18/30\n",
      "31/31 [==============================] - 4s 135ms/step - loss: 3.4805 - accuracy: 0.1007 - val_loss: 3.4915 - val_accuracy: 0.1067\n",
      "Epoch 19/30\n",
      "31/31 [==============================] - 4s 135ms/step - loss: 3.4654 - accuracy: 0.1054 - val_loss: 3.4625 - val_accuracy: 0.1156\n",
      "Epoch 20/30\n",
      "31/31 [==============================] - 4s 133ms/step - loss: 3.4605 - accuracy: 0.1066 - val_loss: 3.4691 - val_accuracy: 0.1067\n",
      "Epoch 21/30\n",
      "31/31 [==============================] - 4s 135ms/step - loss: 3.4552 - accuracy: 0.1070 - val_loss: 3.4450 - val_accuracy: 0.1222\n",
      "Epoch 22/30\n",
      "31/31 [==============================] - 4s 137ms/step - loss: 3.4422 - accuracy: 0.1101 - val_loss: 3.4474 - val_accuracy: 0.0978\n",
      "Epoch 23/30\n",
      "31/31 [==============================] - 4s 135ms/step - loss: 3.4375 - accuracy: 0.1091 - val_loss: 3.4436 - val_accuracy: 0.1067\n",
      "Epoch 24/30\n",
      "31/31 [==============================] - 4s 137ms/step - loss: 3.4373 - accuracy: 0.1108 - val_loss: 3.4437 - val_accuracy: 0.1044\n",
      "Epoch 25/30\n",
      "31/31 [==============================] - 4s 140ms/step - loss: 3.4283 - accuracy: 0.1112 - val_loss: 3.4368 - val_accuracy: 0.1244\n",
      "Epoch 26/30\n",
      "31/31 [==============================] - 4s 137ms/step - loss: 3.4180 - accuracy: 0.1142 - val_loss: 3.4285 - val_accuracy: 0.1111\n",
      "Epoch 27/30\n",
      "31/31 [==============================] - 4s 135ms/step - loss: 3.4123 - accuracy: 0.1135 - val_loss: 3.4196 - val_accuracy: 0.1200\n",
      "Epoch 28/30\n",
      "31/31 [==============================] - 4s 134ms/step - loss: 3.4069 - accuracy: 0.1149 - val_loss: 3.4016 - val_accuracy: 0.1156\n",
      "Epoch 29/30\n",
      "31/31 [==============================] - 4s 133ms/step - loss: 3.3985 - accuracy: 0.1176 - val_loss: 3.4021 - val_accuracy: 0.1311\n",
      "Epoch 30/30\n",
      "31/31 [==============================] - 4s 135ms/step - loss: 3.3933 - accuracy: 0.1182 - val_loss: 3.3886 - val_accuracy: 0.1244\n",
      "Total training time: 126.69 seconds\n",
      "Average time per epoch: 4.22 seconds\n"
     ]
    }
   ],
   "source": [
    "start_time = time.time()\n",
    "\n",
    "history = q_aware_model.fit(x_train, y_train, batch_size=2048, epochs=30, validation_data=(x_valid, y_valid))\n",
    "\n",
    "end_time = time.time()\n",
    "\n",
    "# calculate the total training time\n",
    "total_time = end_time - start_time\n",
    "\n",
    "# calculate the average time per epoch\n",
    "avg_time_per_epoch = total_time / len(history.history['loss'])\n",
    "\n",
    "print(f'Total training time: {total_time:.2f} seconds')\n",
    "print(f'Average time per epoch: {avg_time_per_epoch:.2f} seconds')"
   ]
  },
  {
   "cell_type": "code",
   "execution_count": 13,
   "metadata": {
    "tags": []
   },
   "outputs": [
    {
     "data": {
      "image/png": "[encoded data removed]",
      "text/plain": [
       "<Figure size 500x700 with 2 Axes>"
      ]
     },
     "metadata": {},
     "output_type": "display_data"
    }
   ],
   "source": [
    "f = plt.figure(figsize=(4,6), dpi=100)\n",
    "ax = f.add_subplot(211)\n",
    "plt.title(\"TensorFlow Quantization\")\n",
    "plt.plot(history.history['loss'])\n",
    "plt.plot(history.history['val_loss'])\n",
    "plt.ylabel(\"Loss\")\n",
    "plt.xticks([])\n",
    "plt.legend(['Train', 'Valid'])\n",
    "\n",
    "ax = f.add_subplot(212)\n",
    "plt.plot(np.array(history.history['accuracy'])*100)\n",
    "plt.plot(np.array(history.history['val_accuracy'])*100)\n",
    "# plt.title(\"Accuracy\")\n",
    "plt.xlabel(\"Epoch\")\n",
    "plt.ylabel(\"Accuracy (%)\")\n",
    "plt.ylim([0, 14])\n",
    "\n",
    "plt.savefig('./pic/lenet5_tf_quant.png')"
   ]
  },
  {
   "cell_type": "code",
   "execution_count": null,
   "metadata": {},
   "outputs": [],
   "source": [
    "from keras_flops import get_flops\n",
    "# Calculae FLOPS\n",
    "flops = get_flops(model)\n",
    "print(f\"FLOPS: {flops / 10e6} G\")"
   ]
  },
  {
   "cell_type": "code",
   "execution_count": 14,
   "metadata": {
    "tags": []
   },
   "outputs": [
    {
     "name": "stdout",
     "output_type": "stream",
     "text": [
      "15/15 [==============================] - 0s 2ms/step - loss: 3.2194 - accuracy: 0.1489\n",
      "0.06072115898132324\n"
     ]
    }
   ],
   "source": [
    "start_time = time.time()\n",
    "q_aware_model.evaluate(x_test, y_test)\n",
    "end_time = time.time()\n",
    "# calculate the total training time\n",
    "total_time = end_time - start_time\n",
    "print(total_time)"
   ]
  },
  {
   "cell_type": "raw",
   "metadata": {},
   "source": [
    " Layer (type)                Output Shape        Param #   \n",
    "=================================================================\n",
    " quantize_layer             (None, 32, 32, 3)        3         \n",
    "                                                                                                    \n",
    " quant_conv2d               (None, 28, 28, 6)       471       \n",
    "                                                                                                   \n",
    " quant_average_pooling2d    (None, 14, 14, 6)        3         \n",
    "                                                                                                   \n",
    " quant_activation           (None, 14, 14, 6)        1         \n",
    "                                                                                                    \n",
    " quant_conv2d_1             (None, 10, 10, 16)      2451                                             \n",
    "                                                                 \n",
    " quant_average_pooling2d_1  (None, 5, 5, 16)         3                                               \n",
    "                                                                 \n",
    " quant_activation_1         (None, 5, 5, 16)         1                                                                                            \n",
    " quant_conv2d_2             (None, 1, 1, 120)      48363                                                                       \n",
    " quant_flatten              (None, 120)              1                                               \n",
    "                                                                 \n",
    " quant_dense                (None, 84)             10169                                             \n",
    "                                                                 \n",
    " quant_dense_1              (None, 50)              4255                                             \n",
    "=================================================================\n",
    "Total params: 65,721\n",
    "Trainable params: 65,406\n",
    "Non-trainable params: 315\n",
    "_________________________________________________________________\n",
    "Epoch 1/30\n",
    "/usr/local/lib/python3.8/dist-packages/tensorflow/python/util/dispatch.py:1082: UserWarning: \"`sparse_categorical_crossentropy` received `from_logits=True`, but the `output` argument was produced by a sigmoid or softmax activation and thus does not represent logits. Was this intended?\"\n",
    "  return dispatch_target(*args, **kwargs)\n",
    "2023-05-21 19:38:41.243659: I tensorflow/stream_executor/cuda/cuda_dnn.cc:379] Loaded cuDNN version 8303\n",
    "2023-05-21 19:38:42.205184: I tensorflow/stream_executor/cuda/cuda_blas.cc:1804] TensorFloat-32 will be used for the matrix multiplication. This will only be logged once.\n",
    "31/31 [==============================] - 4s 33ms/step - loss: 3.9233 - accuracy: 0.0203 - val_loss: 3.9200 - val_accuracy: 0.0200\n",
    "Epoch 2/30\n",
    "31/31 [==============================] - 1s 19ms/step - loss: 3.9133 - accuracy: 0.0217 - val_loss: 3.9070 - val_accuracy: 0.0222\n",
    "Epoch 3/30\n",
    "31/31 [==============================] - 0s 16ms/step - loss: 3.8705 - accuracy: 0.0328 - val_loss: 3.8258 - val_accuracy: 0.0311\n",
    "Epoch 4/30\n",
    "31/31 [==============================] - 0s 16ms/step - loss: 3.7860 - accuracy: 0.0467 - val_loss: 3.7476 - val_accuracy: 0.0622\n",
    "Epoch 5/30\n",
    "31/31 [==============================] - 0s 16ms/step - loss: 3.7474 - accuracy: 0.0523 - val_loss: 3.7245 - val_accuracy: 0.0556\n",
    "Epoch 6/30\n",
    "31/31 [==============================] - 0s 15ms/step - loss: 3.7320 - accuracy: 0.0558 - val_loss: 3.7081 - val_accuracy: 0.0667\n",
    "Epoch 7/30\n",
    "31/31 [==============================] - 0s 15ms/step - loss: 3.7153 - accuracy: 0.0583 - val_loss: 3.6935 - val_accuracy: 0.0556\n",
    "Epoch 8/30\n",
    "31/31 [==============================] - 0s 15ms/step - loss: 3.6972 - accuracy: 0.0633 - val_loss: 3.6703 - val_accuracy: 0.0733\n",
    "Epoch 9/30\n",
    "31/31 [==============================] - 0s 15ms/step - loss: 3.6627 - accuracy: 0.0695 - val_loss: 3.6278 - val_accuracy: 0.0844\n",
    "Epoch 10/30\n",
    "31/31 [==============================] - 0s 15ms/step - loss: 3.6207 - accuracy: 0.0750 - val_loss: 3.5963 - val_accuracy: 0.0711\n",
    "Epoch 11/30\n",
    "31/31 [==============================] - 0s 16ms/step - loss: 3.5939 - accuracy: 0.0809 - val_loss: 3.5894 - val_accuracy: 0.1000\n",
    "Epoch 12/30\n",
    "31/31 [==============================] - 0s 15ms/step - loss: 3.5773 - accuracy: 0.0841 - val_loss: 3.5635 - val_accuracy: 0.0933\n",
    "Epoch 13/30\n",
    "31/31 [==============================] - 0s 15ms/step - loss: 3.5585 - accuracy: 0.0884 - val_loss: 3.5325 - val_accuracy: 0.1089\n",
    "Epoch 14/30\n",
    "31/31 [==============================] - 0s 16ms/step - loss: 3.5340 - accuracy: 0.0927 - val_loss: 3.5121 - val_accuracy: 0.1133\n",
    "Epoch 15/30\n",
    "31/31 [==============================] - 0s 15ms/step - loss: 3.5138 - accuracy: 0.0964 - val_loss: 3.5015 - val_accuracy: 0.1000\n",
    "Epoch 16/30\n",
    "31/31 [==============================] - 0s 15ms/step - loss: 3.5025 - accuracy: 0.0990 - val_loss: 3.4669 - val_accuracy: 0.1022\n",
    "Epoch 17/30\n",
    "31/31 [==============================] - 0s 15ms/step - loss: 3.4809 - accuracy: 0.1022 - val_loss: 3.4744 - val_accuracy: 0.1067\n",
    "Epoch 18/30\n",
    "31/31 [==============================] - 0s 15ms/step - loss: 3.4681 - accuracy: 0.1059 - val_loss: 3.4513 - val_accuracy: 0.1000\n",
    "Epoch 19/30\n",
    "31/31 [==============================] - 0s 15ms/step - loss: 3.4634 - accuracy: 0.1069 - val_loss: 3.4485 - val_accuracy: 0.1200\n",
    "Epoch 20/30\n",
    "31/31 [==============================] - 0s 16ms/step - loss: 3.4468 - accuracy: 0.1089 - val_loss: 3.4345 - val_accuracy: 0.1133\n",
    "Epoch 21/30\n",
    "31/31 [==============================] - 0s 15ms/step - loss: 3.4343 - accuracy: 0.1127 - val_loss: 3.4246 - val_accuracy: 0.1311\n",
    "Epoch 22/30\n",
    "31/31 [==============================] - 0s 15ms/step - loss: 3.4303 - accuracy: 0.1117 - val_loss: 3.4389 - val_accuracy: 0.1089\n",
    "Epoch 23/30\n",
    "31/31 [==============================] - 0s 15ms/step - loss: 3.4190 - accuracy: 0.1141 - val_loss: 3.4059 - val_accuracy: 0.1311\n",
    "Epoch 24/30\n",
    "31/31 [==============================] - 0s 15ms/step - loss: 3.4238 - accuracy: 0.1132 - val_loss: 3.4124 - val_accuracy: 0.1222\n",
    "Epoch 25/30\n",
    "31/31 [==============================] - 0s 15ms/step - loss: 3.4063 - accuracy: 0.1179 - val_loss: 3.4053 - val_accuracy: 0.1133\n",
    "Epoch 26/30\n",
    "31/31 [==============================] - 0s 15ms/step - loss: 3.4022 - accuracy: 0.1184 - val_loss: 3.3999 - val_accuracy: 0.1178\n",
    "Epoch 27/30\n",
    "31/31 [==============================] - 0s 15ms/step - loss: 3.3896 - accuracy: 0.1206 - val_loss: 3.3864 - val_accuracy: 0.1244\n",
    "Epoch 28/30\n",
    "31/31 [==============================] - 0s 16ms/step - loss: 3.3831 - accuracy: 0.1213 - val_loss: 3.3857 - val_accuracy: 0.1311\n",
    "Epoch 29/30\n",
    "31/31 [==============================] - 0s 15ms/step - loss: 3.3790 - accuracy: 0.1212 - val_loss: 3.3760 - val_accuracy: 0.1333\n",
    "Epoch 30/30\n",
    "31/31 [==============================] - 0s 14ms/step - loss: 3.3750 - accuracy: 0.1223 - val_loss: 3.3664 - val_accuracy: 0.1467\n",
    "Total training time: 17.84 seconds\n",
    "Average time per epoch: 0.59 seconds\n",
    "15/15 [==============================] - 0s 9ms/step - loss: 3.3676 - accuracy: 0.1156\n",
    "0.18635797500610352"
   ]
  },
  {
   "cell_type": "code",
   "execution_count": null,
   "metadata": {},
   "outputs": [],
   "source": []
  },
  {
   "cell_type": "code",
   "execution_count": null,
   "metadata": {},
   "outputs": [],
   "source": []
  }
 ],
 "metadata": {
  "accelerator": "GPU",
  "colab": {
   "name": "LeNet-5 TensorFlow 2.0 datahacker.ipynb",
   "provenance": []
  },
  "kernelspec": {
   "display_name": "Python 3 (ipykernel)",
   "language": "python",
   "name": "python3"
  },
  "language_info": {
   "codemirror_mode": {
    "name": "ipython",
    "version": 3
   },
   "file_extension": ".py",
   "mimetype": "text/x-python",
   "name": "python",
   "nbconvert_exporter": "python",
   "pygments_lexer": "ipython3",
   "version": "3.8.10"
  }
 },
 "nbformat": 4,
 "nbformat_minor": 4
}
