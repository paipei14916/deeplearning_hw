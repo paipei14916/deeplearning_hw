{
 "cells": [
  {
   "cell_type": "code",
   "execution_count": 1,
   "id": "2f9ad0c9-8bab-4b4e-b410-fdaf79b03952",
   "metadata": {
    "tags": []
   },
   "outputs": [],
   "source": [
    "import pickle\n",
    "import random\n",
    "import numpy as np\n",
    "import matplotlib.pyplot as plt\n",
    "from abc import ABCMeta, abstractmethod\n",
    "import cv2\n",
    "import multiprocessing\n",
    "import math\n",
    "import time\n",
    "from tqdm import tqdm"
   ]
  },
  {
   "cell_type": "markdown",
   "id": "a42c936a-14c7-4908-8130-9f59b56c1075",
   "metadata": {},
   "source": [
    "# Define Function"
   ]
  },
  {
   "cell_type": "code",
   "execution_count": 2,
   "id": "416784b2-7432-425a-8ada-27636d498a99",
   "metadata": {
    "tags": []
   },
   "outputs": [],
   "source": [
    "def MakeOneHot(Y, D_out):\n",
    "    N = Y.shape[0]\n",
    "    Z = np.zeros((N, D_out))\n",
    "    Z[np.arange(N), Y] = 1\n",
    "    return Z"
   ]
  },
  {
   "cell_type": "code",
   "execution_count": 3,
   "id": "a5d11496-365f-494a-bb83-d5ce59322383",
   "metadata": {
    "tags": []
   },
   "outputs": [],
   "source": [
    "class FC():\n",
    "    \"\"\"\n",
    "    Fully connected layer\n",
    "    \"\"\"\n",
    "    def __init__(self, D_in, D_out):\n",
    "        #print(\"Build FC\")\n",
    "        self.cache = None\n",
    "        #self.W = {'val': np.random.randn(D_in, D_out), 'grad': 0}\n",
    "        self.W = {'val': np.random.normal(0.0, np.sqrt(2/D_in), (D_in,D_out)), 'grad': 0}\n",
    "        self.b = {'val': np.random.randn(D_out), 'grad': 0}\n",
    "\n",
    "    def _forward(self, X):\n",
    "        #print(\"FC: _forward\")\n",
    "        out = np.dot(X, self.W['val']) + self.b['val']\n",
    "        self.cache = X\n",
    "        return out\n",
    "\n",
    "    def _backward(self, dout):\n",
    "        #print(\"FC: _backward\")\n",
    "        X = self.cache\n",
    "        dX = np.dot(dout, self.W['val'].T).reshape(X.shape)\n",
    "        self.W['grad'] = np.dot(X.reshape(X.shape[0], np.prod(X.shape[1:])).T, dout)\n",
    "        self.b['grad'] = np.sum(dout, axis=0)\n",
    "        #self._update_params()\n",
    "        return dX\n",
    "\n",
    "    def _update_params(self, lr=0.001):\n",
    "        # Update the parameters\n",
    "        self.W['val'] -= lr*self.W['grad']\n",
    "        self.b['val'] -= lr*self.b['grad']"
   ]
  },
  {
   "cell_type": "code",
   "execution_count": 4,
   "id": "2951c98a-5f9a-408f-98a9-3d0abec36c01",
   "metadata": {
    "tags": []
   },
   "outputs": [],
   "source": [
    "class Conv():\n",
    "    \"\"\"\n",
    "    Conv layer\n",
    "    \"\"\"\n",
    "    def __init__(self, Cin, Cout, F, stride=1, padding=0, bias=True):\n",
    "        self.Cin = Cin\n",
    "        self.Cout = Cout\n",
    "        self.F = F\n",
    "        self.S = stride\n",
    "        #self.W = {'val': np.random.randn(Cout, Cin, F, F), 'grad': 0}\n",
    "        self.W = {'val': np.random.normal(0.0,np.sqrt(2/Cin),(Cout,Cin,F,F)), 'grad': 0} # Xavier Initialization\n",
    "        self.b = {'val': np.random.randn(Cout), 'grad': 0}\n",
    "        self.cache = None\n",
    "        self.pad = padding\n",
    "\n",
    "    def _forward(self, X):\n",
    "        X = np.pad(X, ((0,0),(0,0),(self.pad,self.pad),(self.pad,self.pad)), 'constant')\n",
    "        (N, Cin, H, W) = X.shape\n",
    "        H_ = H - self.F + self.S\n",
    "        W_ = W - self.F + self.S\n",
    "        Y = np.zeros((N, self.Cout, H_, W_))\n",
    "\n",
    "        for n in range(N):\n",
    "            for c in range(self.Cout):\n",
    "                for h in range(H_):\n",
    "                    for w in range(W_):\n",
    "                        Y[n, c, h, w] = np.sum(X[n, :, h:h+self.F, w:w+self.F] * self.W['val'][c, :, :, :]) + self.b['val'][c]\n",
    "\n",
    "        self.cache = X\n",
    "        return Y\n",
    "\n",
    "    def _backward(self, dout):\n",
    "        # dout (N,Cout,H_,W_)\n",
    "        # W (Cout, Cin, F, F)\n",
    "        X = self.cache\n",
    "        (N, Cin, H, W) = X.shape\n",
    "        H_ = H - self.F + self.S\n",
    "        W_ = W - self.F + self.S\n",
    "        W_rot = np.rot90(np.rot90(self.W['val']))\n",
    "\n",
    "        dX = np.zeros(X.shape)\n",
    "        dW = np.zeros(self.W['val'].shape)\n",
    "        db = np.zeros(self.b['val'].shape)\n",
    "\n",
    "        # dW\n",
    "        for co in range(self.Cout):\n",
    "            for ci in range(Cin):\n",
    "                for h in range(self.F):\n",
    "                    for w in range(self.F):\n",
    "                        dW[co, ci, h, w] = np.sum(X[:,ci,h:h+H_,w:w+W_] * dout[:,co,:,:])\n",
    "\n",
    "        # db\n",
    "        for co in range(self.Cout):\n",
    "            db[co] = np.sum(dout[:,co,:,:])\n",
    "\n",
    "        dout_pad = np.pad(dout, ((0,0),(0,0),(self.F,self.F),(self.F,self.F)), 'constant')\n",
    "        #print(\"dout_pad.shape: \" + str(dout_pad.shape))\n",
    "        # dX\n",
    "        for n in range(N):\n",
    "            for ci in range(Cin):\n",
    "                for h in range(H):\n",
    "                    for w in range(W):\n",
    "                        #print(\"self.F.shape: %s\", self.F)\n",
    "                        #print(\"%s, W_rot[:,ci,:,:].shape: %s, dout_pad[n,:,h:h+self.F,w:w+self.F].shape: %s\" % ((n,ci,h,w),W_rot[:,ci,:,:].shape, dout_pad[n,:,h:h+self.F,w:w+self.F].shape))\n",
    "                        dX[n, ci, h, w] = np.sum(W_rot[:,ci,:,:] * dout_pad[n, :, h:h+self.F,w:w+self.F])\n",
    "\n",
    "        return dX\n",
    "\n",
    "class MaxPool():\n",
    "    def __init__(self, F, stride):\n",
    "        self.F = F\n",
    "        self.S = stride\n",
    "        self.cache = None\n",
    "\n",
    "    def _forward(self, X):\n",
    "        # X: (N, Cin, H, W): maxpool along 3rd, 4th dim\n",
    "        (N,Cin,H,W) = X.shape\n",
    "        F = self.F\n",
    "        W_ = int(float(W)/F)\n",
    "        H_ = int(float(H)/F)\n",
    "        Y = np.zeros((N,Cin,W_,H_))\n",
    "        M = np.zeros(X.shape) # mask\n",
    "        for n in range(N):\n",
    "            for cin in range(Cin):\n",
    "                for w_ in range(W_):\n",
    "                    for h_ in range(H_):\n",
    "                        Y[n,cin,w_,h_] = np.max(X[n,cin,F*w_:F*(w_+1),F*h_:F*(h_+1)])\n",
    "                        i,j = np.unravel_index(X[n,cin,F*w_:F*(w_+1),F*h_:F*(h_+1)].argmax(), (F,F))\n",
    "                        M[n,cin,F*w_+i,F*h_+j] = 1\n",
    "        self.cache = M\n",
    "        return Y\n",
    "\n",
    "    def _backward(self, dout):\n",
    "        M = self.cache\n",
    "        (N,Cin,H,W) = M.shape\n",
    "        dout = np.array(dout)\n",
    "        #print(\"dout.shape: %s, M.shape: %s\" % (dout.shape, M.shape))\n",
    "        dX = np.zeros(M.shape)\n",
    "        for n in range(N):\n",
    "            for c in range(Cin):\n",
    "                #print(\"(n,c): (%s,%s)\" % (n,c))\n",
    "                dX[n,c,:,:] = dout[n,c,:,:].repeat(2, axis=0).repeat(2, axis=1)\n",
    "        return dX*M\n"
   ]
  },
  {
   "cell_type": "code",
   "execution_count": 5,
   "id": "077217d6-00fc-4c80-a0ac-c847fc032d3c",
   "metadata": {
    "tags": []
   },
   "outputs": [],
   "source": [
    "class Sigmoid():\n",
    "    \"\"\"\n",
    "    Sigmoid activation layer\n",
    "    \"\"\"\n",
    "    def __init__(self):\n",
    "        self.cache = None\n",
    "\n",
    "    def _forward(self, X):\n",
    "        X = np.clip(X, -500, 500)  # 限制X的範圍，避免exp計算時出現溢出\n",
    "        self.cache = X\n",
    "        return 1 / (1 + np.exp(-X))\n",
    "\n",
    "    def _backward(self, dout):\n",
    "        X = self.cache\n",
    "        dX = dout*X*(1-X)\n",
    "        return dX"
   ]
  },
  {
   "cell_type": "code",
   "execution_count": 6,
   "id": "36abc61a-61ec-468c-97d5-ecfe21f58b66",
   "metadata": {
    "tags": []
   },
   "outputs": [],
   "source": [
    "class Tanh():\n",
    "    \"\"\"\n",
    "    Tanh activation layer\n",
    "    \"\"\"\n",
    "    def __init__(self):\n",
    "        self.cache = None\n",
    "\n",
    "    def _forward(self, X):\n",
    "        self.cache = X\n",
    "        return np.tanh(X)\n",
    "\n",
    "    def _backward(self, dout):\n",
    "        X = self.cache\n",
    "        dX = dout * (1 - np.tanh(X)**2)\n",
    "        return dX"
   ]
  },
  {
   "cell_type": "code",
   "execution_count": 7,
   "id": "df0a4f93-18cd-4ec4-92e6-f6f71238f9a8",
   "metadata": {
    "tags": []
   },
   "outputs": [],
   "source": [
    "class Softmax():\n",
    "    \"\"\"\n",
    "    Softmax activation layer\n",
    "    \"\"\"\n",
    "    def __init__(self):\n",
    "        #print(\"Build Softmax\")\n",
    "        self.cache = None\n",
    "\n",
    "    def _forward(self, X):\n",
    "        #print(\"Softmax: _forward\")\n",
    "        maxes = np.amax(X, axis=1)\n",
    "        maxes = maxes.reshape(maxes.shape[0], 1)\n",
    "        Y = np.exp(X - maxes)\n",
    "        Z = Y / np.sum(Y, axis=1).reshape(Y.shape[0], 1)\n",
    "        self.cache = (X, Y, Z)\n",
    "        return Z # distribution\n",
    "\n",
    "    def _backward(self, dout):\n",
    "        X, Y, Z = self.cache\n",
    "        dZ = np.zeros(X.shape)\n",
    "        dY = np.zeros(X.shape)\n",
    "        dX = np.zeros(X.shape)\n",
    "        N = X.shape[0]\n",
    "        for n in range(N):\n",
    "            i = np.argmax(Z[n])\n",
    "            dZ[n,:] = np.diag(Z[n]) - np.outer(Z[n],Z[n])\n",
    "            M = np.zeros((N,N))\n",
    "            M[:,i] = 1\n",
    "            dY[n,:] = np.eye(N) - M\n",
    "        dX = np.dot(dout,dZ)\n",
    "        dX = np.dot(dX,dY)\n",
    "        return dX"
   ]
  },
  {
   "cell_type": "code",
   "execution_count": 8,
   "id": "a6e3a802-bc99-45a3-82d3-ec50b9ae4693",
   "metadata": {
    "tags": []
   },
   "outputs": [],
   "source": [
    "def NLLLoss(Y_pred, Y_true):\n",
    "    \"\"\"\n",
    "    Negative log likelihood loss\n",
    "    \"\"\"\n",
    "    loss = 0.0\n",
    "    N = Y_pred.shape[0]\n",
    "    M = np.sum(Y_pred*Y_true, axis=1)\n",
    "    for e in M:\n",
    "        #print(e)\n",
    "        if e == 0:\n",
    "            loss += 500\n",
    "        else:\n",
    "            loss += -np.log(e)\n",
    "    return loss/N\n",
    "\n",
    "class CrossEntropyLoss():\n",
    "    def __init__(self):\n",
    "        pass\n",
    "\n",
    "    def get(self, Y_pred, Y_true):\n",
    "        N = Y_pred.shape[0]\n",
    "        softmax = Softmax()\n",
    "        prob = softmax._forward(Y_pred)\n",
    "        loss = NLLLoss(prob, Y_true)\n",
    "        Y_serial = np.argmax(Y_true, axis=1)\n",
    "        # dout = prob.copy()\n",
    "        # dout[np.arange(N), Y_serial] -= 1\n",
    "        dout = prob - Y_true\n",
    "        return loss, dout"
   ]
  },
  {
   "cell_type": "code",
   "execution_count": 9,
   "id": "3ace15f7-3b83-471d-9cda-eb075163ce1c",
   "metadata": {
    "tags": []
   },
   "outputs": [],
   "source": [
    "class Net(metaclass=ABCMeta):\n",
    "    # Neural network super class\n",
    "\n",
    "    @abstractmethod\n",
    "    def __init__(self):\n",
    "        pass\n",
    "\n",
    "    @abstractmethod\n",
    "    def forward(self, X):\n",
    "        pass\n",
    "\n",
    "    @abstractmethod\n",
    "    def backward(self, dout):\n",
    "        pass\n",
    "\n",
    "    @abstractmethod\n",
    "    def get_params(self):\n",
    "        pass\n",
    "\n",
    "    @abstractmethod\n",
    "    def set_params(self, params):\n",
    "        pass"
   ]
  },
  {
   "cell_type": "code",
   "execution_count": 10,
   "id": "e3fccbaa-c3a3-4d3a-9c88-e0a45ff09b14",
   "metadata": {
    "tags": []
   },
   "outputs": [],
   "source": [
    "class SGDMomentum():\n",
    "    def __init__(self, params, lr=0.001, momentum=0.99, reg=0):\n",
    "        self.l = len(params)\n",
    "        self.parameters = params\n",
    "        self.velocities = []\n",
    "        for param in self.parameters:\n",
    "            self.velocities.append(np.zeros(param['val'].shape))\n",
    "        self.lr = lr\n",
    "        self.rho = momentum\n",
    "        self.reg = reg\n",
    "\n",
    "    def step(self):\n",
    "        for i in range(self.l):\n",
    "            self.velocities[i] = self.rho*self.velocities[i] + (1-self.rho)*self.parameters[i]['grad']\n",
    "            self.parameters[i]['val'] -= (self.lr*self.velocities[i] + self.reg*self.parameters[i]['val'])"
   ]
  },
  {
   "cell_type": "code",
   "execution_count": 11,
   "id": "ddad6e46-bab6-4edc-b131-5e5080608cc0",
   "metadata": {
    "tags": []
   },
   "outputs": [],
   "source": [
    "class Adam():\n",
    "    def __init__(self, params, lr=0.001, beta1=0.9, beta2=0.999, epsilon=1e-8, reg=0):\n",
    "        self.l = len(params)\n",
    "        self.parameters = params\n",
    "        self.momentums = []\n",
    "        self.velocities = []\n",
    "        for param in self.parameters:\n",
    "            self.momentums.append(np.zeros(param['val'].shape))\n",
    "            self.velocities.append(np.zeros(param['val'].shape))\n",
    "        self.lr = lr\n",
    "        self.beta1 = beta1\n",
    "        self.beta2 = beta2\n",
    "        self.epsilon = epsilon\n",
    "        self.reg = reg\n",
    "        self.t = 0\n",
    "\n",
    "    def step(self):\n",
    "        self.t += 1\n",
    "        for i in range(self.l):\n",
    "            self.momentums[i] = self.beta1 * self.momentums[i] + (1 - self.beta1) * self.parameters[i]['grad']\n",
    "            self.velocities[i] = self.beta2 * self.velocities[i] + (1 - self.beta2) * (self.parameters[i]['grad']**2)\n",
    "            momentums_corrected = self.momentums[i] / (1 - self.beta1**self.t)\n",
    "            velocities_corrected = self.velocities[i] / (1 - self.beta2**self.t)\n",
    "            self.parameters[i]['val'] -= (self.lr * momentums_corrected / (np.sqrt(velocities_corrected) + self.epsilon) + self.reg * self.parameters[i]['val'])\n"
   ]
  },
  {
   "cell_type": "code",
   "execution_count": 12,
   "id": "3f2d9016-8b99-4829-9109-6e01baca6f7e",
   "metadata": {
    "tags": []
   },
   "outputs": [],
   "source": [
    "def create_mini_batches(image, label, mini_batch_size = 64):\n",
    "    dataset_size = image.shape[0] # number of training examples\n",
    "    mini_batches = []\n",
    "    # partition (image, label). Minus the end case.\n",
    "    complete_minibatches_number = math.floor(dataset_size / mini_batch_size) # number of mini batches of size mini_batch_size in your partitionning\n",
    "    for k in range(0, complete_minibatches_number):\n",
    "        mini_batch_image = image[k * mini_batch_size: k * mini_batch_size + mini_batch_size, :, :, :]\n",
    "        mini_batch_label = label[k * mini_batch_size: k * mini_batch_size + mini_batch_size]\n",
    "        mini_batch = (mini_batch_image, mini_batch_label)\n",
    "        mini_batches.append(mini_batch)\n",
    "    # handle the end case (last mini-batch < mini_batch_size)\n",
    "    if dataset_size % mini_batch_size != 0:\n",
    "        mini_batch_image = image[complete_minibatches_number * mini_batch_size: dataset_size, :, :, :]\n",
    "        mini_batch_label = label[complete_minibatches_number * mini_batch_size: dataset_size]\n",
    "        mini_batch = (mini_batch_image, mini_batch_label)\n",
    "        mini_batches.append(mini_batch)\n",
    "    return mini_batches"
   ]
  },
  {
   "cell_type": "code",
   "execution_count": 13,
   "id": "b171846b-cc60-49ed-bd3e-8c65e2b3c8da",
   "metadata": {
    "tags": []
   },
   "outputs": [],
   "source": [
    "def readDataset(image_path):\n",
    "    num_processes = 16\n",
    "    with multiprocessing.Pool(processes=num_processes) as pool:\n",
    "        results = pool.map(process_image, image_path)\n",
    "    return results\n",
    "\n",
    "def process_image(image_path):\n",
    "    im = cv2.imread(image_path)\n",
    "    # gray = cv2.cvtColor(im, cv2.COLOR_BGR2GRAY)\n",
    "    resized = cv2.resize(im, (32, 32), interpolation=cv2.INTER_AREA)\n",
    "    return resized\n",
    "\n",
    "def load_dataset(train_image, train_label):\n",
    "    train_image = readDataset(train_image)\n",
    "    train_image = np.array(train_image)\n",
    "    train_image = train_image/float(255)\n",
    "    train_image -= np.mean(train_image)\n",
    "    train_label = np.array(train_label)\n",
    "    return (train_image, train_label)\n",
    "\n",
    "\n",
    "def read_dataset(img_filename):\n",
    "    filename = []\n",
    "    label = []\n",
    "    with open(img_filename, 'r') as f:\n",
    "        for line in f.readlines():\n",
    "            s = line.split(' ')\n",
    "            filename.append(s[0])\n",
    "            label.append(int(s[1]))\n",
    "    dataset = []\n",
    "    for i in range(len(filename)):\n",
    "        dataset.append((filename[i],label[i]))   \n",
    "    random.shuffle(dataset)    \n",
    "    return dataset"
   ]
  },
  {
   "cell_type": "markdown",
   "id": "7a98c77d-89d6-45d2-aea7-496b4504ca36",
   "metadata": {},
   "source": [
    "# Load Data"
   ]
  },
  {
   "cell_type": "code",
   "execution_count": 14,
   "id": "5eeb5110-5065-4bff-ae74-be3f98a5bd40",
   "metadata": {
    "tags": []
   },
   "outputs": [],
   "source": [
    "dataset_train = read_dataset('train.txt')\n",
    "dataset_test = read_dataset('test.txt')\n",
    "dataset_val  = read_dataset('val.txt')\n",
    "\n",
    "image_paths_train, Y_train = zip(*dataset_train)\n",
    "image_paths_test, Y_test = zip(*dataset_test)\n",
    "image_paths_val, Y_val = zip(*dataset_val)\n",
    "\n",
    "X_train = load_dataset(image_paths_train, Y_train)\n",
    "X_test  = load_dataset(image_paths_test, Y_test)\n",
    "X_val   = load_dataset(image_paths_val, Y_val)"
   ]
  },
  {
   "cell_type": "markdown",
   "id": "8d4f1bb5-94f9-401d-8126-dd77d703880f",
   "metadata": {},
   "source": [
    "# Model Setting"
   ]
  },
  {
   "cell_type": "code",
   "execution_count": 15,
   "id": "b75358db-224d-48a8-a691-61c587807535",
   "metadata": {
    "tags": []
   },
   "outputs": [],
   "source": [
    "class LeNet5(Net):\n",
    "    # LeNet5\n",
    "\n",
    "    def __init__(self):\n",
    "        self.conv1 = Conv(3, 6, 5)\n",
    "        self.Tanh1 = Tanh()\n",
    "        self.pool1 = MaxPool(2,2)\n",
    "        self.Sigmoid1 = Sigmoid()\n",
    "        self.conv2 = Conv(6, 16, 5)\n",
    "        self.Tanh2 = Tanh()\n",
    "        self.pool2 = MaxPool(2,2)\n",
    "        self.Sigmoid2 = Sigmoid()\n",
    "        self.FC1 = FC(16*5*5, 120) \n",
    "        self.Tanh3 = Tanh()\n",
    "        self.FC2 = FC(120, 84)\n",
    "        self.Tanh4 = Tanh()\n",
    "        self.FC3 = FC(84, 50)\n",
    "        self.Softmax = Softmax()\n",
    "\n",
    "        self.p2_shape = None\n",
    "\n",
    "    def forward(self, X):\n",
    "        h1 = self.conv1._forward(X)\n",
    "        a1 = self.Tanh1._forward(h1)\n",
    "        p1 = self.pool1._forward(a1)\n",
    "        s1 = self.Sigmoid1._forward(p1)\n",
    "        h2 = self.conv2._forward(s1)\n",
    "        a2 = self.Tanh2._forward(h2)\n",
    "        p2 = self.pool2._forward(a2)\n",
    "        s2 = self.Sigmoid2._forward(p2)\n",
    "        self.s2_shape = s2.shape\n",
    "        fl = s2.reshape(X.shape[0],-1) # Flatten\n",
    "        h3 = self.FC1._forward(fl)\n",
    "        a3 = self.Tanh3._forward(h3)\n",
    "        h4 = self.FC2._forward(a3)\n",
    "        a4 = self.Tanh4._forward(h4)\n",
    "        h5 = self.FC3._forward(a4)\n",
    "        a5 = self.Softmax._forward(h5)\n",
    "        return a5\n",
    "\n",
    "    def backward(self, dout):\n",
    "        #dout = self.Softmax._backward(dout)\n",
    "        dout = self.FC3._backward(dout)\n",
    "        dout = self.Tanh4._backward(dout)\n",
    "        dout = self.FC2._backward(dout)\n",
    "        dout = self.Tanh3._backward(dout)\n",
    "        dout = self.FC1._backward(dout)\n",
    "        dout = dout.reshape(self.s2_shape) # reshape\n",
    "        dout = self.Sigmoid2._backward(dout)\n",
    "        dout = self.pool2._backward(dout)\n",
    "        dout = self.Tanh2._backward(dout)\n",
    "        dout = self.conv2._backward(dout)\n",
    "        dout = self.Sigmoid1._backward(dout)\n",
    "        dout = self.pool1._backward(dout)\n",
    "        dout = self.Tanh1._backward(dout)\n",
    "        dout = self.conv1._backward(dout)\n",
    "        \n",
    "    def get_params(self):\n",
    "        return [self.conv1.W, self.conv1.b, self.conv2.W, self.conv2.b, self.FC1.W, self.FC1.b, self.FC2.W, self.FC2.b, self.FC3.W, self.FC3.b]\n",
    "\n",
    "    def set_params(self, params):\n",
    "        [self.conv1.W, self.conv1.b, self.conv2.W, self.conv2.b, self.FC1.W, self.FC1.b, self.FC2.W, self.FC2.b, self.FC3.W, self.FC3.b] = params\n",
    "        \n",
    "    def calculate_flops(self, input_shape):\n",
    "        # Calculate the number of FLOPs\n",
    "        input_size = np.prod(input_shape)\n",
    "        self.num_flops = (input_size * self.conv1.W['val'].size +\n",
    "                          self.conv1.b['val'].size +\n",
    "                          self.conv1.W['val'].size * self.conv2.W['val'].size +\n",
    "                          self.conv2.b['val'].size +\n",
    "                          self.conv2.W['val'].size * self.FC1.W['val'].size +\n",
    "                          self.FC1.b['val'].size +\n",
    "                          self.FC1.W['val'].size * self.FC2.W['val'].size +\n",
    "                          self.FC2.b['val'].size +\n",
    "                          self.FC2.W['val'].size * self.FC3.W['val'].size +\n",
    "                          self.FC3.b['val'].size)\n",
    "        return(self.num_flops)\n",
    "    \n",
    "    def calculate_params(self):\n",
    "        # Calculate the number of parameters\n",
    "        self.num_params = sum(param['val'].size for param in self.get_params())\n",
    "        return(self.num_params)\n"
   ]
  },
  {
   "cell_type": "code",
   "execution_count": 16,
   "id": "409740cf-0355-47fe-ba79-d008a0964c8b",
   "metadata": {
    "tags": []
   },
   "outputs": [
    {
     "name": "stdout",
     "output_type": "stream",
     "text": [
      "batch_size: 2048, Input shape: (63325, 32, 32, 3)\n"
     ]
    }
   ],
   "source": [
    "batch_size = 2048\n",
    "D_in = X_train[0].shape\n",
    "D_out = 50\n",
    "print(\"batch_size: \" + str(batch_size) + \", Input shape: \" + str(D_in))\n",
    "model = LeNet5()\n",
    "optim = Adam(model.get_params(), lr=0.001)\n",
    "criterion = CrossEntropyLoss()"
   ]
  },
  {
   "cell_type": "code",
   "execution_count": 17,
   "id": "4394d257-039d-4379-a7ad-26ae84277ce0",
   "metadata": {
    "tags": []
   },
   "outputs": [
    {
     "name": "stdout",
     "output_type": "stream",
     "text": [
      "---------- epoch 1 begin ----------\n",
      "Training:\n"
     ]
    },
    {
     "name": "stderr",
     "output_type": "stream",
     "text": [
      "100%|████████████████████████████████████████| 31/31 [1:12:14<00:00, 139.81s/it]\n"
     ]
    },
    {
     "name": "stdout",
     "output_type": "stream",
     "text": [
      "Validation:\n"
     ]
    },
    {
     "name": "stderr",
     "output_type": "stream",
     "text": [
      "100%|█████████████████████████████████████████████| 1/1 [00:19<00:00, 19.77s/it]\n"
     ]
    },
    {
     "name": "stdout",
     "output_type": "stream",
     "text": [
      "epoch: 1 / 30, Training loss: 4.043, Validation loss: 3.912\n",
      "Accuracy of Training Data    : 1.9439%\n",
      "Accuracy of Validation Data  : 2.0000%\n",
      "Time used: 4353.986224412918 sec\n",
      "---------- epoch 2 begin ----------\n",
      "Training:\n"
     ]
    },
    {
     "name": "stderr",
     "output_type": "stream",
     "text": [
      "100%|████████████████████████████████████████| 31/31 [1:13:01<00:00, 141.35s/it]\n"
     ]
    },
    {
     "name": "stdout",
     "output_type": "stream",
     "text": [
      "Validation:\n"
     ]
    },
    {
     "name": "stderr",
     "output_type": "stream",
     "text": [
      "100%|█████████████████████████████████████████████| 1/1 [00:19<00:00, 19.52s/it]\n"
     ]
    },
    {
     "name": "stdout",
     "output_type": "stream",
     "text": [
      "epoch: 2 / 30, Training loss: 4.042, Validation loss: 3.912\n",
      "Accuracy of Training Data    : 1.9771%\n",
      "Accuracy of Validation Data  : 2.0000%\n",
      "Time used: 4401.34635591507 sec\n",
      "---------- epoch 3 begin ----------\n",
      "Training:\n"
     ]
    },
    {
     "name": "stderr",
     "output_type": "stream",
     "text": [
      "100%|████████████████████████████████████████| 31/31 [1:12:43<00:00, 140.77s/it]\n"
     ]
    },
    {
     "name": "stdout",
     "output_type": "stream",
     "text": [
      "Validation:\n"
     ]
    },
    {
     "name": "stderr",
     "output_type": "stream",
     "text": [
      "100%|█████████████████████████████████████████████| 1/1 [00:19<00:00, 19.55s/it]\n"
     ]
    },
    {
     "name": "stdout",
     "output_type": "stream",
     "text": [
      "epoch: 3 / 30, Training loss: 4.042, Validation loss: 3.911\n",
      "Accuracy of Training Data    : 2.2077%\n",
      "Accuracy of Validation Data  : 1.7778%\n",
      "Time used: 4383.513080358505 sec\n",
      "---------- epoch 4 begin ----------\n",
      "Training:\n"
     ]
    },
    {
     "name": "stderr",
     "output_type": "stream",
     "text": [
      "100%|████████████████████████████████████████| 31/31 [1:12:34<00:00, 140.48s/it]\n"
     ]
    },
    {
     "name": "stdout",
     "output_type": "stream",
     "text": [
      "Validation:\n"
     ]
    },
    {
     "name": "stderr",
     "output_type": "stream",
     "text": [
      "100%|█████████████████████████████████████████████| 1/1 [00:19<00:00, 19.41s/it]\n"
     ]
    },
    {
     "name": "stdout",
     "output_type": "stream",
     "text": [
      "epoch: 4 / 30, Training loss: 4.040, Validation loss: 3.907\n",
      "Accuracy of Training Data    : 3.2057%\n",
      "Accuracy of Validation Data  : 4.6667%\n",
      "Time used: 4374.2162296772 sec\n",
      "---------- epoch 5 begin ----------\n",
      "Training:\n"
     ]
    },
    {
     "name": "stderr",
     "output_type": "stream",
     "text": [
      "100%|████████████████████████████████████████| 31/31 [1:12:17<00:00, 139.93s/it]\n"
     ]
    },
    {
     "name": "stdout",
     "output_type": "stream",
     "text": [
      "Validation:\n"
     ]
    },
    {
     "name": "stderr",
     "output_type": "stream",
     "text": [
      "100%|█████████████████████████████████████████████| 1/1 [00:19<00:00, 19.28s/it]\n"
     ]
    },
    {
     "name": "stdout",
     "output_type": "stream",
     "text": [
      "epoch: 5 / 30, Training loss: 4.035, Validation loss: 3.902\n",
      "Accuracy of Training Data    : 3.5736%\n",
      "Accuracy of Validation Data  : 4.0000%\n",
      "Time used: 4356.963879585266 sec\n",
      "---------- epoch 6 begin ----------\n",
      "Training:\n"
     ]
    },
    {
     "name": "stderr",
     "output_type": "stream",
     "text": [
      "100%|████████████████████████████████████████| 31/31 [1:12:50<00:00, 140.99s/it]\n"
     ]
    },
    {
     "name": "stdout",
     "output_type": "stream",
     "text": [
      "Validation:\n"
     ]
    },
    {
     "name": "stderr",
     "output_type": "stream",
     "text": [
      "100%|█████████████████████████████████████████████| 1/1 [00:19<00:00, 19.52s/it]\n"
     ]
    },
    {
     "name": "stdout",
     "output_type": "stream",
     "text": [
      "epoch: 6 / 30, Training loss: 4.031, Validation loss: 3.900\n",
      "Accuracy of Training Data    : 3.6163%\n",
      "Accuracy of Validation Data  : 4.0000%\n",
      "Time used: 4390.276053190231 sec\n",
      "---------- epoch 7 begin ----------\n",
      "Training:\n"
     ]
    },
    {
     "name": "stderr",
     "output_type": "stream",
     "text": [
      "100%|████████████████████████████████████████| 31/31 [1:12:42<00:00, 140.72s/it]\n"
     ]
    },
    {
     "name": "stdout",
     "output_type": "stream",
     "text": [
      "Validation:\n"
     ]
    },
    {
     "name": "stderr",
     "output_type": "stream",
     "text": [
      "100%|█████████████████████████████████████████████| 1/1 [00:19<00:00, 19.39s/it]\n"
     ]
    },
    {
     "name": "stdout",
     "output_type": "stream",
     "text": [
      "epoch: 7 / 30, Training loss: 4.029, Validation loss: 3.900\n",
      "Accuracy of Training Data    : 3.9621%\n",
      "Accuracy of Validation Data  : 3.7778%\n",
      "Time used: 4381.863862514496 sec\n",
      "---------- epoch 8 begin ----------\n",
      "Training:\n"
     ]
    },
    {
     "name": "stderr",
     "output_type": "stream",
     "text": [
      "100%|████████████████████████████████████████| 31/31 [1:12:25<00:00, 140.17s/it]\n"
     ]
    },
    {
     "name": "stdout",
     "output_type": "stream",
     "text": [
      "Validation:\n"
     ]
    },
    {
     "name": "stderr",
     "output_type": "stream",
     "text": [
      "100%|█████████████████████████████████████████████| 1/1 [00:19<00:00, 19.92s/it]\n"
     ]
    },
    {
     "name": "stdout",
     "output_type": "stream",
     "text": [
      "epoch: 8 / 30, Training loss: 4.029, Validation loss: 3.901\n",
      "Accuracy of Training Data    : 3.8184%\n",
      "Accuracy of Validation Data  : 2.6667%\n",
      "Time used: 4365.16571187973 sec\n",
      "---------- epoch 9 begin ----------\n",
      "Training:\n"
     ]
    },
    {
     "name": "stderr",
     "output_type": "stream",
     "text": [
      "100%|████████████████████████████████████████| 31/31 [1:13:05<00:00, 141.46s/it]\n"
     ]
    },
    {
     "name": "stdout",
     "output_type": "stream",
     "text": [
      "Validation:\n"
     ]
    },
    {
     "name": "stderr",
     "output_type": "stream",
     "text": [
      "100%|█████████████████████████████████████████████| 1/1 [00:19<00:00, 19.77s/it]\n"
     ]
    },
    {
     "name": "stdout",
     "output_type": "stream",
     "text": [
      "epoch: 9 / 30, Training loss: 4.028, Validation loss: 3.898\n",
      "Accuracy of Training Data    : 3.8737%\n",
      "Accuracy of Validation Data  : 3.5556%\n",
      "Time used: 4405.092926740646 sec\n",
      "---------- epoch 10 begin ----------\n",
      "Training:\n"
     ]
    },
    {
     "name": "stderr",
     "output_type": "stream",
     "text": [
      "100%|████████████████████████████████████████| 31/31 [1:11:52<00:00, 139.11s/it]\n"
     ]
    },
    {
     "name": "stdout",
     "output_type": "stream",
     "text": [
      "Validation:\n"
     ]
    },
    {
     "name": "stderr",
     "output_type": "stream",
     "text": [
      "100%|█████████████████████████████████████████████| 1/1 [00:19<00:00, 19.24s/it]\n"
     ]
    },
    {
     "name": "stdout",
     "output_type": "stream",
     "text": [
      "epoch: 10 / 30, Training loss: 4.028, Validation loss: 3.899\n",
      "Accuracy of Training Data    : 3.9905%\n",
      "Accuracy of Validation Data  : 4.2222%\n",
      "Time used: 4331.71816444397 sec\n",
      "---------- epoch 11 begin ----------\n",
      "Training:\n"
     ]
    },
    {
     "name": "stderr",
     "output_type": "stream",
     "text": [
      "100%|████████████████████████████████████████| 31/31 [1:11:47<00:00, 138.96s/it]\n"
     ]
    },
    {
     "name": "stdout",
     "output_type": "stream",
     "text": [
      "Validation:\n"
     ]
    },
    {
     "name": "stderr",
     "output_type": "stream",
     "text": [
      "100%|█████████████████████████████████████████████| 1/1 [00:19<00:00, 19.47s/it]\n"
     ]
    },
    {
     "name": "stdout",
     "output_type": "stream",
     "text": [
      "epoch: 11 / 30, Training loss: 4.028, Validation loss: 3.899\n",
      "Accuracy of Training Data    : 3.9842%\n",
      "Accuracy of Validation Data  : 4.2222%\n",
      "Time used: 4327.242390871048 sec\n",
      "---------- epoch 12 begin ----------\n",
      "Training:\n"
     ]
    },
    {
     "name": "stderr",
     "output_type": "stream",
     "text": [
      "100%|████████████████████████████████████████| 31/31 [1:12:04<00:00, 139.50s/it]\n"
     ]
    },
    {
     "name": "stdout",
     "output_type": "stream",
     "text": [
      "Validation:\n"
     ]
    },
    {
     "name": "stderr",
     "output_type": "stream",
     "text": [
      "100%|█████████████████████████████████████████████| 1/1 [00:19<00:00, 19.50s/it]\n"
     ]
    },
    {
     "name": "stdout",
     "output_type": "stream",
     "text": [
      "epoch: 12 / 30, Training loss: 4.029, Validation loss: 3.901\n",
      "Accuracy of Training Data    : 4.0853%\n",
      "Accuracy of Validation Data  : 3.7778%\n",
      "Time used: 4344.038365602493 sec\n",
      "---------- epoch 13 begin ----------\n",
      "Training:\n"
     ]
    },
    {
     "name": "stderr",
     "output_type": "stream",
     "text": [
      "100%|████████████████████████████████████████| 31/31 [1:12:11<00:00, 139.71s/it]\n"
     ]
    },
    {
     "name": "stdout",
     "output_type": "stream",
     "text": [
      "Validation:\n"
     ]
    },
    {
     "name": "stderr",
     "output_type": "stream",
     "text": [
      "100%|█████████████████████████████████████████████| 1/1 [00:19<00:00, 19.44s/it]\n"
     ]
    },
    {
     "name": "stdout",
     "output_type": "stream",
     "text": [
      "epoch: 13 / 30, Training loss: 4.030, Validation loss: 3.901\n",
      "Accuracy of Training Data    : 4.0063%\n",
      "Accuracy of Validation Data  : 3.5556%\n",
      "Time used: 4350.471807956696 sec\n",
      "---------- epoch 14 begin ----------\n",
      "Training:\n"
     ]
    },
    {
     "name": "stderr",
     "output_type": "stream",
     "text": [
      "100%|████████████████████████████████████████| 31/31 [1:13:04<00:00, 141.43s/it]\n"
     ]
    },
    {
     "name": "stdout",
     "output_type": "stream",
     "text": [
      "Validation:\n"
     ]
    },
    {
     "name": "stderr",
     "output_type": "stream",
     "text": [
      "100%|█████████████████████████████████████████████| 1/1 [00:20<00:00, 20.29s/it]\n"
     ]
    },
    {
     "name": "stdout",
     "output_type": "stream",
     "text": [
      "epoch: 14 / 30, Training loss: 4.030, Validation loss: 3.902\n",
      "Accuracy of Training Data    : 4.0584%\n",
      "Accuracy of Validation Data  : 4.2222%\n",
      "Time used: 4404.507824420929 sec\n",
      "---------- epoch 15 begin ----------\n",
      "Training:\n"
     ]
    },
    {
     "name": "stderr",
     "output_type": "stream",
     "text": [
      "100%|████████████████████████████████████████| 31/31 [1:12:14<00:00, 139.82s/it]\n"
     ]
    },
    {
     "name": "stdout",
     "output_type": "stream",
     "text": [
      "Validation:\n"
     ]
    },
    {
     "name": "stderr",
     "output_type": "stream",
     "text": [
      "100%|█████████████████████████████████████████████| 1/1 [00:19<00:00, 19.56s/it]\n"
     ]
    },
    {
     "name": "stdout",
     "output_type": "stream",
     "text": [
      "epoch: 15 / 30, Training loss: 4.030, Validation loss: 3.901\n",
      "Accuracy of Training Data    : 4.1042%\n",
      "Accuracy of Validation Data  : 4.6667%\n",
      "Time used: 4353.951660871506 sec\n",
      "---------- epoch 16 begin ----------\n",
      "Training:\n"
     ]
    },
    {
     "name": "stderr",
     "output_type": "stream",
     "text": [
      "100%|████████████████████████████████████████| 31/31 [1:12:15<00:00, 139.86s/it]\n"
     ]
    },
    {
     "name": "stdout",
     "output_type": "stream",
     "text": [
      "Validation:\n"
     ]
    },
    {
     "name": "stderr",
     "output_type": "stream",
     "text": [
      "100%|█████████████████████████████████████████████| 1/1 [00:19<00:00, 19.32s/it]\n"
     ]
    },
    {
     "name": "stdout",
     "output_type": "stream",
     "text": [
      "epoch: 16 / 30, Training loss: 4.030, Validation loss: 3.901\n",
      "Accuracy of Training Data    : 4.0916%\n",
      "Accuracy of Validation Data  : 5.1111%\n",
      "Time used: 4355.072715997696 sec\n",
      "---------- epoch 17 begin ----------\n",
      "Training:\n"
     ]
    },
    {
     "name": "stderr",
     "output_type": "stream",
     "text": [
      "100%|████████████████████████████████████████| 31/31 [1:12:04<00:00, 139.49s/it]\n"
     ]
    },
    {
     "name": "stdout",
     "output_type": "stream",
     "text": [
      "Validation:\n"
     ]
    },
    {
     "name": "stderr",
     "output_type": "stream",
     "text": [
      "100%|█████████████████████████████████████████████| 1/1 [00:19<00:00, 19.36s/it]\n"
     ]
    },
    {
     "name": "stdout",
     "output_type": "stream",
     "text": [
      "epoch: 17 / 30, Training loss: 4.030, Validation loss: 3.900\n",
      "Accuracy of Training Data    : 4.0884%\n",
      "Accuracy of Validation Data  : 4.4444%\n",
      "Time used: 4343.537234783173 sec\n",
      "---------- epoch 18 begin ----------\n",
      "Training:\n"
     ]
    },
    {
     "name": "stderr",
     "output_type": "stream",
     "text": [
      "100%|████████████████████████████████████████| 31/31 [1:12:13<00:00, 139.80s/it]\n"
     ]
    },
    {
     "name": "stdout",
     "output_type": "stream",
     "text": [
      "Validation:\n"
     ]
    },
    {
     "name": "stderr",
     "output_type": "stream",
     "text": [
      "100%|█████████████████████████████████████████████| 1/1 [00:19<00:00, 19.93s/it]\n"
     ]
    },
    {
     "name": "stdout",
     "output_type": "stream",
     "text": [
      "epoch: 18 / 30, Training loss: 4.030, Validation loss: 3.900\n",
      "Accuracy of Training Data    : 4.1026%\n",
      "Accuracy of Validation Data  : 4.6667%\n",
      "Time used: 4353.703147649765 sec\n",
      "---------- epoch 19 begin ----------\n",
      "Training:\n"
     ]
    },
    {
     "name": "stderr",
     "output_type": "stream",
     "text": [
      "100%|████████████████████████████████████████| 31/31 [1:12:00<00:00, 139.38s/it]\n"
     ]
    },
    {
     "name": "stdout",
     "output_type": "stream",
     "text": [
      "Validation:\n"
     ]
    },
    {
     "name": "stderr",
     "output_type": "stream",
     "text": [
      "100%|█████████████████████████████████████████████| 1/1 [00:19<00:00, 19.84s/it]\n"
     ]
    },
    {
     "name": "stdout",
     "output_type": "stream",
     "text": [
      "epoch: 19 / 30, Training loss: 4.030, Validation loss: 3.901\n",
      "Accuracy of Training Data    : 4.1500%\n",
      "Accuracy of Validation Data  : 5.5556%\n",
      "Time used: 4340.470392465591 sec\n",
      "---------- epoch 20 begin ----------\n",
      "Training:\n"
     ]
    },
    {
     "name": "stderr",
     "output_type": "stream",
     "text": [
      "100%|████████████████████████████████████████| 31/31 [1:11:37<00:00, 138.62s/it]\n"
     ]
    },
    {
     "name": "stdout",
     "output_type": "stream",
     "text": [
      "Validation:\n"
     ]
    },
    {
     "name": "stderr",
     "output_type": "stream",
     "text": [
      "100%|█████████████████████████████████████████████| 1/1 [00:19<00:00, 19.22s/it]\n"
     ]
    },
    {
     "name": "stdout",
     "output_type": "stream",
     "text": [
      "epoch: 20 / 30, Training loss: 4.029, Validation loss: 3.900\n",
      "Accuracy of Training Data    : 4.1642%\n",
      "Accuracy of Validation Data  : 5.5556%\n",
      "Time used: 4316.47399020195 sec\n",
      "---------- epoch 21 begin ----------\n",
      "Training:\n"
     ]
    },
    {
     "name": "stderr",
     "output_type": "stream",
     "text": [
      "100%|████████████████████████████████████████| 31/31 [1:11:26<00:00, 138.26s/it]\n"
     ]
    },
    {
     "name": "stdout",
     "output_type": "stream",
     "text": [
      "Validation:\n"
     ]
    },
    {
     "name": "stderr",
     "output_type": "stream",
     "text": [
      "100%|█████████████████████████████████████████████| 1/1 [00:19<00:00, 19.34s/it]\n"
     ]
    },
    {
     "name": "stdout",
     "output_type": "stream",
     "text": [
      "epoch: 21 / 30, Training loss: 4.028, Validation loss: 3.899\n",
      "Accuracy of Training Data    : 4.1721%\n",
      "Accuracy of Validation Data  : 5.3333%\n",
      "Time used: 4305.435661554337 sec\n",
      "---------- epoch 22 begin ----------\n",
      "Training:\n"
     ]
    },
    {
     "name": "stderr",
     "output_type": "stream",
     "text": [
      "100%|████████████████████████████████████████| 31/31 [1:12:07<00:00, 139.60s/it]\n"
     ]
    },
    {
     "name": "stdout",
     "output_type": "stream",
     "text": [
      "Validation:\n"
     ]
    },
    {
     "name": "stderr",
     "output_type": "stream",
     "text": [
      "100%|█████████████████████████████████████████████| 1/1 [00:19<00:00, 19.34s/it]\n"
     ]
    },
    {
     "name": "stdout",
     "output_type": "stream",
     "text": [
      "epoch: 22 / 30, Training loss: 4.028, Validation loss: 3.899\n",
      "Accuracy of Training Data    : 4.2021%\n",
      "Accuracy of Validation Data  : 5.3333%\n",
      "Time used: 4347.0691912174225 sec\n",
      "---------- epoch 23 begin ----------\n",
      "Training:\n"
     ]
    },
    {
     "name": "stderr",
     "output_type": "stream",
     "text": [
      "100%|████████████████████████████████████████| 31/31 [1:12:15<00:00, 139.84s/it]\n"
     ]
    },
    {
     "name": "stdout",
     "output_type": "stream",
     "text": [
      "Validation:\n"
     ]
    },
    {
     "name": "stderr",
     "output_type": "stream",
     "text": [
      "100%|█████████████████████████████████████████████| 1/1 [00:19<00:00, 19.75s/it]\n"
     ]
    },
    {
     "name": "stdout",
     "output_type": "stream",
     "text": [
      "epoch: 23 / 30, Training loss: 4.027, Validation loss: 3.897\n",
      "Accuracy of Training Data    : 4.2558%\n",
      "Accuracy of Validation Data  : 4.6667%\n",
      "Time used: 4354.799196481705 sec\n",
      "---------- epoch 24 begin ----------\n",
      "Training:\n"
     ]
    },
    {
     "name": "stderr",
     "output_type": "stream",
     "text": [
      "100%|████████████████████████████████████████| 31/31 [1:12:23<00:00, 140.11s/it]\n"
     ]
    },
    {
     "name": "stdout",
     "output_type": "stream",
     "text": [
      "Validation:\n"
     ]
    },
    {
     "name": "stderr",
     "output_type": "stream",
     "text": [
      "100%|█████████████████████████████████████████████| 1/1 [00:19<00:00, 19.41s/it]\n"
     ]
    },
    {
     "name": "stdout",
     "output_type": "stream",
     "text": [
      "epoch: 24 / 30, Training loss: 4.027, Validation loss: 3.897\n",
      "Accuracy of Training Data    : 4.2621%\n",
      "Accuracy of Validation Data  : 4.8889%\n",
      "Time used: 4362.92694401741 sec\n",
      "---------- epoch 25 begin ----------\n",
      "Training:\n"
     ]
    },
    {
     "name": "stderr",
     "output_type": "stream",
     "text": [
      "100%|████████████████████████████████████████| 31/31 [1:11:38<00:00, 138.66s/it]\n"
     ]
    },
    {
     "name": "stdout",
     "output_type": "stream",
     "text": [
      "Validation:\n"
     ]
    },
    {
     "name": "stderr",
     "output_type": "stream",
     "text": [
      "100%|█████████████████████████████████████████████| 1/1 [00:19<00:00, 19.23s/it]\n"
     ]
    },
    {
     "name": "stdout",
     "output_type": "stream",
     "text": [
      "epoch: 25 / 30, Training loss: 4.027, Validation loss: 3.897\n",
      "Accuracy of Training Data    : 4.2242%\n",
      "Accuracy of Validation Data  : 4.8889%\n",
      "Time used: 4317.569237470627 sec\n",
      "---------- epoch 26 begin ----------\n",
      "Training:\n"
     ]
    },
    {
     "name": "stderr",
     "output_type": "stream",
     "text": [
      "100%|████████████████████████████████████████| 31/31 [1:12:10<00:00, 139.69s/it]\n"
     ]
    },
    {
     "name": "stdout",
     "output_type": "stream",
     "text": [
      "Validation:\n"
     ]
    },
    {
     "name": "stderr",
     "output_type": "stream",
     "text": [
      "100%|█████████████████████████████████████████████| 1/1 [00:19<00:00, 19.14s/it]\n"
     ]
    },
    {
     "name": "stdout",
     "output_type": "stream",
     "text": [
      "epoch: 26 / 30, Training loss: 4.027, Validation loss: 3.897\n",
      "Accuracy of Training Data    : 4.1974%\n",
      "Accuracy of Validation Data  : 5.3333%\n",
      "Time used: 4349.533795595169 sec\n",
      "---------- epoch 27 begin ----------\n",
      "Training:\n"
     ]
    },
    {
     "name": "stderr",
     "output_type": "stream",
     "text": [
      "100%|████████████████████████████████████████| 31/31 [1:12:08<00:00, 139.62s/it]\n"
     ]
    },
    {
     "name": "stdout",
     "output_type": "stream",
     "text": [
      "Validation:\n"
     ]
    },
    {
     "name": "stderr",
     "output_type": "stream",
     "text": [
      "100%|█████████████████████████████████████████████| 1/1 [00:19<00:00, 19.50s/it]\n"
     ]
    },
    {
     "name": "stdout",
     "output_type": "stream",
     "text": [
      "epoch: 27 / 30, Training loss: 4.027, Validation loss: 3.897\n",
      "Accuracy of Training Data    : 4.2274%\n",
      "Accuracy of Validation Data  : 4.8889%\n",
      "Time used: 4347.71923160553 sec\n",
      "---------- epoch 28 begin ----------\n",
      "Training:\n"
     ]
    },
    {
     "name": "stderr",
     "output_type": "stream",
     "text": [
      "100%|████████████████████████████████████████| 31/31 [1:12:55<00:00, 141.16s/it]\n"
     ]
    },
    {
     "name": "stdout",
     "output_type": "stream",
     "text": [
      "Validation:\n"
     ]
    },
    {
     "name": "stderr",
     "output_type": "stream",
     "text": [
      "100%|█████████████████████████████████████████████| 1/1 [00:19<00:00, 19.60s/it]\n"
     ]
    },
    {
     "name": "stdout",
     "output_type": "stream",
     "text": [
      "epoch: 28 / 30, Training loss: 4.028, Validation loss: 3.897\n",
      "Accuracy of Training Data    : 4.2116%\n",
      "Accuracy of Validation Data  : 4.6667%\n",
      "Time used: 4395.599858760834 sec\n",
      "---------- epoch 29 begin ----------\n",
      "Training:\n"
     ]
    },
    {
     "name": "stderr",
     "output_type": "stream",
     "text": [
      "100%|████████████████████████████████████████| 31/31 [1:12:57<00:00, 141.20s/it]\n"
     ]
    },
    {
     "name": "stdout",
     "output_type": "stream",
     "text": [
      "Validation:\n"
     ]
    },
    {
     "name": "stderr",
     "output_type": "stream",
     "text": [
      "100%|█████████████████████████████████████████████| 1/1 [00:19<00:00, 19.68s/it]\n"
     ]
    },
    {
     "name": "stdout",
     "output_type": "stream",
     "text": [
      "epoch: 29 / 30, Training loss: 4.028, Validation loss: 3.897\n",
      "Accuracy of Training Data    : 4.2006%\n",
      "Accuracy of Validation Data  : 5.3333%\n",
      "Time used: 4396.979953527451 sec\n",
      "---------- epoch 30 begin ----------\n",
      "Training:\n"
     ]
    },
    {
     "name": "stderr",
     "output_type": "stream",
     "text": [
      "100%|████████████████████████████████████████| 31/31 [1:12:25<00:00, 140.17s/it]\n"
     ]
    },
    {
     "name": "stdout",
     "output_type": "stream",
     "text": [
      "Validation:\n"
     ]
    },
    {
     "name": "stderr",
     "output_type": "stream",
     "text": [
      "100%|█████████████████████████████████████████████| 1/1 [00:19<00:00, 19.88s/it]"
     ]
    },
    {
     "name": "stdout",
     "output_type": "stream",
     "text": [
      "epoch: 30 / 30, Training loss: 4.028, Validation loss: 3.898\n",
      "Accuracy of Training Data    : 4.2479%\n",
      "Accuracy of Validation Data  : 6.0000%\n",
      "Time used: 4365.146528244019 sec\n",
      "Total time used: 130776.39225268364 sec\n",
      "Total training time: 130776.39 seconds\n",
      "Average time per epoch: 32694.10 seconds\n"
     ]
    },
    {
     "name": "stderr",
     "output_type": "stream",
     "text": [
      "\n"
     ]
    }
   ],
   "source": [
    "# TRAIN\n",
    "epoch = 30\n",
    "start_time = time.time()\n",
    "error_acc_list = []\n",
    "for j in range(epoch):    \n",
    "    start_time_epoch = time.time()\n",
    "    loss_train = 0\n",
    "    loss_val   = 0\n",
    "    train_accuracy = 0\n",
    "    val_accuracy   = 0\n",
    "    \n",
    "    mini_batches_train = create_mini_batches(X_train[0], X_train[1], batch_size)\n",
    "    mini_batches_val   = create_mini_batches(X_val[0], X_val[1], batch_size)\n",
    "    print(\"---------- epoch\", j + 1, \"begin ----------\")\n",
    "    print(\"Training:\")\n",
    "    \n",
    "    for i in tqdm(range(len(mini_batches_train))):\n",
    "        X_batch, Y_batch = mini_batches_train[i]\n",
    "        Y_batch = MakeOneHot(Y_batch, D_out)\n",
    "        X_batch = X_batch.transpose(0, 3, 1, 2)\n",
    "        Y_pred = model.forward(X_batch)\n",
    "        loss, dout = criterion.get(Y_pred, Y_batch)\n",
    "        accuracy = np.sum(np.argmax(Y_pred, axis=1) == np.argmax(Y_batch, axis=1))\n",
    "        loss_train += loss\n",
    "        train_accuracy += accuracy  \n",
    "        model.backward(dout)\n",
    "        optim.step()\n",
    "        \n",
    "    print(\"Validation:\")\n",
    "    for ii in tqdm(range(len(mini_batches_val))):\n",
    "        X_batch, Y_batch = mini_batches_val[ii]\n",
    "        Y_batch = MakeOneHot(Y_batch, D_out)\n",
    "        X_batch = X_batch.transpose(0, 3, 1, 2)\n",
    "        Y_pred = model.forward(X_batch)\n",
    "        loss, dout = criterion.get(Y_pred, Y_batch)\n",
    "        accuracy = np.sum(np.argmax(Y_pred, axis=1) == np.argmax(Y_batch, axis=1))\n",
    "        loss_val += loss\n",
    "        val_accuracy += accuracy  \n",
    "        \n",
    "    loss_train = loss_train/i\n",
    "    loss_val   = loss_val/(ii+1)\n",
    "    train_accuracy = train_accuracy/len(X_train[1])*100\n",
    "    val_accuracy   = val_accuracy/len(X_val[1])*100\n",
    "\n",
    "    print(\"epoch: %s / %s, Training loss: %.3f, Validation loss: %.3f\" % (j+1,epoch, loss_train, loss_val))\n",
    "    print(\"Accuracy of Training Data    : %.4f%%\" % (train_accuracy))\n",
    "    print(\"Accuracy of Validation Data  : %.4f%%\" % (val_accuracy))\n",
    "    print(\"Time used:\", time.time() - start_time_epoch, \"sec\")\n",
    "    error_acc_list.append([loss_train, loss_val, train_accuracy, val_accuracy])\n",
    "\n",
    "# calculate the total training time\n",
    "total_time =  time.time() - start_time\n",
    "\n",
    "print(\"Total time used:\", total_time, \"sec\")\n",
    "\n",
    "\n",
    "# calculate the average time per epoch\n",
    "avg_time_per_epoch = total_time / len(error_acc_list[0])\n",
    "\n",
    "print(f'Total training time: {total_time:.2f} seconds')\n",
    "print(f'Average time per epoch: {avg_time_per_epoch:.2f} seconds')\n",
    "\n",
    "error_acc_list = np.array(error_acc_list).T"
   ]
  },
  {
   "cell_type": "code",
   "execution_count": 18,
   "id": "2a06438d-b89c-45f1-a80a-e703224e1a06",
   "metadata": {
    "tags": []
   },
   "outputs": [
    {
     "name": "stdout",
     "output_type": "stream",
     "text": [
      "Total FLOPs: 730929876\n",
      "Number of parameters: 65406\n"
     ]
    }
   ],
   "source": [
    "# Calculate FLOPs for a given input shape\n",
    "input_shape = (64 ,32, 32, 3)\n",
    "flops = model.calculate_flops(input_shape)\n",
    "print(\"Total FLOPs:\", flops)\n",
    "num_params = model.calculate_params()\n",
    "print(\"Number of parameters:\", num_params)"
   ]
  },
  {
   "cell_type": "code",
   "execution_count": 19,
   "id": "90983681-e272-4df8-936b-d36b7598a8ff",
   "metadata": {},
   "outputs": [
    {
     "ename": "FileNotFoundError",
     "evalue": "[Errno 2] No such file or directory: './params/lenet5_sigmoid_weights.pkl'",
     "output_type": "error",
     "traceback": [
      "\u001b[0;31m---------------------------------------------------------------------------\u001b[0m",
      "\u001b[0;31mFileNotFoundError\u001b[0m                         Traceback (most recent call last)",
      "Cell \u001b[0;32mIn[19], line 3\u001b[0m\n\u001b[1;32m      1\u001b[0m \u001b[38;5;66;03m# save params\u001b[39;00m\n\u001b[1;32m      2\u001b[0m weights \u001b[38;5;241m=\u001b[39m model\u001b[38;5;241m.\u001b[39mget_params()\n\u001b[0;32m----> 3\u001b[0m \u001b[38;5;28;01mwith\u001b[39;00m \u001b[38;5;28;43mopen\u001b[39;49m\u001b[43m(\u001b[49m\u001b[38;5;124;43m\"\u001b[39;49m\u001b[38;5;124;43m./params/lenet5_sigmoid_weights.pkl\u001b[39;49m\u001b[38;5;124;43m\"\u001b[39;49m\u001b[43m,\u001b[49m\u001b[38;5;124;43m\"\u001b[39;49m\u001b[38;5;124;43mwb\u001b[39;49m\u001b[38;5;124;43m\"\u001b[39;49m\u001b[43m)\u001b[49m \u001b[38;5;28;01mas\u001b[39;00m f:\n\u001b[1;32m      4\u001b[0m \tpickle\u001b[38;5;241m.\u001b[39mdump(weights, f)\n",
      "File \u001b[0;32m~/.local/lib/python3.8/site-packages/IPython/core/interactiveshell.py:282\u001b[0m, in \u001b[0;36m_modified_open\u001b[0;34m(file, *args, **kwargs)\u001b[0m\n\u001b[1;32m    275\u001b[0m \u001b[38;5;28;01mif\u001b[39;00m file \u001b[38;5;129;01min\u001b[39;00m {\u001b[38;5;241m0\u001b[39m, \u001b[38;5;241m1\u001b[39m, \u001b[38;5;241m2\u001b[39m}:\n\u001b[1;32m    276\u001b[0m     \u001b[38;5;28;01mraise\u001b[39;00m \u001b[38;5;167;01mValueError\u001b[39;00m(\n\u001b[1;32m    277\u001b[0m         \u001b[38;5;124mf\u001b[39m\u001b[38;5;124m\"\u001b[39m\u001b[38;5;124mIPython won\u001b[39m\u001b[38;5;124m'\u001b[39m\u001b[38;5;124mt let you open fd=\u001b[39m\u001b[38;5;132;01m{\u001b[39;00mfile\u001b[38;5;132;01m}\u001b[39;00m\u001b[38;5;124m by default \u001b[39m\u001b[38;5;124m\"\u001b[39m\n\u001b[1;32m    278\u001b[0m         \u001b[38;5;124m\"\u001b[39m\u001b[38;5;124mas it is likely to crash IPython. If you know what you are doing, \u001b[39m\u001b[38;5;124m\"\u001b[39m\n\u001b[1;32m    279\u001b[0m         \u001b[38;5;124m\"\u001b[39m\u001b[38;5;124myou can use builtins\u001b[39m\u001b[38;5;124m'\u001b[39m\u001b[38;5;124m open.\u001b[39m\u001b[38;5;124m\"\u001b[39m\n\u001b[1;32m    280\u001b[0m     )\n\u001b[0;32m--> 282\u001b[0m \u001b[38;5;28;01mreturn\u001b[39;00m \u001b[43mio_open\u001b[49m\u001b[43m(\u001b[49m\u001b[43mfile\u001b[49m\u001b[43m,\u001b[49m\u001b[43m \u001b[49m\u001b[38;5;241;43m*\u001b[39;49m\u001b[43margs\u001b[49m\u001b[43m,\u001b[49m\u001b[43m \u001b[49m\u001b[38;5;241;43m*\u001b[39;49m\u001b[38;5;241;43m*\u001b[39;49m\u001b[43mkwargs\u001b[49m\u001b[43m)\u001b[49m\n",
      "\u001b[0;31mFileNotFoundError\u001b[0m: [Errno 2] No such file or directory: './params/lenet5_sigmoid_weights.pkl'"
     ]
    }
   ],
   "source": [
    "# save params\n",
    "weights = model.get_params()\n",
    "with open(\"./params/lenet5_sigmoid_weights.pkl\",\"wb\") as f:\n",
    "\tpickle.dump(weights, f)"
   ]
  },
  {
   "cell_type": "markdown",
   "id": "8c13a38c-4aff-4859-8081-ccd313ef3463",
   "metadata": {
    "tags": []
   },
   "source": [
    "# Plot Results "
   ]
  },
  {
   "cell_type": "code",
   "execution_count": 20,
   "id": "d5d53e5c-9d92-4505-8659-dff3fcda182e",
   "metadata": {},
   "outputs": [
    {
     "data": {
      "image/png": "[encoded data removed]",
      "text/plain": [
       "<Figure size 400x600 with 2 Axes>"
      ]
     },
     "metadata": {},
     "output_type": "display_data"
    }
   ],
   "source": [
    "f = plt.figure(figsize=(4,6), dpi=100)\n",
    "ax = f.add_subplot(211)\n",
    "plt.title(\"Scratch\")\n",
    "plt.plot(error_acc_list[0])\n",
    "plt.plot(error_acc_list[1])\n",
    "plt.ylabel(\"Loss\")\n",
    "plt.xticks([])\n",
    "plt.legend(['Train', 'Valid'])\n",
    "\n",
    "ax = f.add_subplot(212)\n",
    "plt.plot(error_acc_list[2])\n",
    "plt.plot(error_acc_list[3])\n",
    "# plt.title(\"Accuracy\")\n",
    "plt.xlabel(\"Epoch\")\n",
    "plt.ylabel(\"Accuracy (%)\")\n",
    "plt.ylim([0, 14])\n",
    "\n",
    "plt.savefig('./pic/lenet5_scratch.png')"
   ]
  },
  {
   "cell_type": "code",
   "execution_count": 23,
   "id": "1eb02e9b-547e-486d-8784-80c6e85b9be1",
   "metadata": {},
   "outputs": [
    {
     "name": "stdout",
     "output_type": "stream",
     "text": [
      "Test --> Correct: 24 out of 450, acc=0.05333333333333334\n",
      "19.65289568901062\n"
     ]
    }
   ],
   "source": [
    "# TEST SET ACC\n",
    "start_time = time.time()\n",
    "Y_pred = model.forward(X_test[0].transpose(0, 3, 1, 2))\n",
    "result = np.argmax(Y_pred, axis=1) - Y_test\n",
    "result = list(result)\n",
    "end_time = time.time()\n",
    "# calculate the total training time\n",
    "total_time = end_time - start_time\n",
    "print(\"Test --> Correct: \" + str(result.count(0)) + \" out of \" + str(X_test[0].shape[0]) + \", acc=\" + str(result.count(0)/X_test[0].shape[0]))\n",
    "print(total_time)"
   ]
  },
  {
   "cell_type": "code",
   "execution_count": 22,
   "id": "316d7ea9-b55a-4886-be76-1956f9ee0c9c",
   "metadata": {},
   "outputs": [
    {
     "name": "stdout",
     "output_type": "stream",
     "text": [
      "Training Accuracy   = 4.247927358863008%\n",
      "Validation Accuracy = 6.0%\n"
     ]
    }
   ],
   "source": [
    "print(\"Training Accuracy   = \"+ str(error_acc_list[2][-1]) + \"%\")\n",
    "print(\"Validation Accuracy = \"+ str(error_acc_list[3][-1]) + \"%\")"
   ]
  },
  {
   "cell_type": "code",
   "execution_count": null,
   "id": "841491df-aa39-48a9-b773-bb5c75cf0ecc",
   "metadata": {},
   "outputs": [],
   "source": []
  }
 ],
 "metadata": {
  "kernelspec": {
   "display_name": "Python 3 (ipykernel)",
   "language": "python",
   "name": "python3"
  },
  "language_info": {
   "codemirror_mode": {
    "name": "ipython",
    "version": 3
   },
   "file_extension": ".py",
   "mimetype": "text/x-python",
   "name": "python",
   "nbconvert_exporter": "python",
   "pygments_lexer": "ipython3",
   "version": "3.8.10"
  }
 },
 "nbformat": 4,
 "nbformat_minor": 5
}
