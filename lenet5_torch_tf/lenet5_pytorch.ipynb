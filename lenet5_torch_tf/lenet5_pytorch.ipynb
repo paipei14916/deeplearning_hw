{
 "cells": [
  {
   "cell_type": "code",
   "execution_count": 2,
   "id": "c21a02af-d399-4c15-966c-669f8a15d881",
   "metadata": {
    "tags": []
   },
   "outputs": [],
   "source": [
    "import random\n",
    "import numpy as np\n",
    "import matplotlib.pyplot as plt\n",
    "import cv2\n",
    "import multiprocessing\n",
    "import math\n",
    "import time\n",
    "from tqdm import tqdm\n",
    "from datetime import datetime "
   ]
  },
  {
   "cell_type": "markdown",
   "id": "ddca9c0c-a150-471d-8163-aa6da99b0525",
   "metadata": {
    "tags": []
   },
   "source": [
    "# Load Dataset"
   ]
  },
  {
   "cell_type": "code",
   "execution_count": 3,
   "id": "fae51289-93dc-494b-a083-579df6967024",
   "metadata": {
    "tags": []
   },
   "outputs": [],
   "source": [
    "import torch.nn as nn\n",
    "import torch\n",
    "import torch.optim as optim\n",
    "import torch.nn.functional as F\n",
    "from torch.utils.data import Dataset, DataLoader, TensorDataset"
   ]
  },
  {
   "cell_type": "code",
   "execution_count": 4,
   "id": "834afea3-ed83-46cd-8a8e-c067be2ab741",
   "metadata": {
    "tags": []
   },
   "outputs": [],
   "source": [
    "def readDataset(image_path):\n",
    "    num_processes = 16\n",
    "    with multiprocessing.Pool(processes=num_processes) as pool:\n",
    "        results = pool.map(process_image, image_path)\n",
    "    return results\n",
    "\n",
    "def process_image(image_path):\n",
    "    im = cv2.imread(image_path)\n",
    "    # gray = cv2.cvtColor(im, cv2.COLOR_BGR2GRAY)\n",
    "    resized = cv2.resize(im, (32, 32), interpolation=cv2.INTER_AREA)\n",
    "    return resized\n",
    "\n",
    "def load_dataset(train_image, train_label):\n",
    "    train_image = readDataset(train_image)\n",
    "    train_image = np.array(train_image)\n",
    "    train_image = train_image/float(255)\n",
    "    train_image -= np.mean(train_image)\n",
    "    train_label = np.array(train_label)\n",
    "    return (train_image, train_label)\n",
    "\n",
    "\n",
    "def read_dataset(img_filename):\n",
    "    filename = []\n",
    "    label = []\n",
    "    with open(img_filename, 'r') as f:\n",
    "        for line in f.readlines():\n",
    "            s = line.split(' ')\n",
    "            filename.append(s[0])\n",
    "            label.append(int(s[1]))\n",
    "    dataset = []\n",
    "    for i in range(len(filename)):\n",
    "        dataset.append((filename[i],label[i]))   \n",
    "    random.shuffle(dataset)    \n",
    "    return dataset"
   ]
  },
  {
   "cell_type": "code",
   "execution_count": 5,
   "id": "1b08f435-cce3-48d1-9de1-bf20c36350e7",
   "metadata": {
    "tags": []
   },
   "outputs": [],
   "source": [
    "dataset_train = read_dataset('train.txt')\n",
    "dataset_test = read_dataset('test.txt')\n",
    "dataset_val  = read_dataset('val.txt')\n",
    "\n",
    "image_paths_train, Y_train = zip(*dataset_train)\n",
    "image_paths_test, Y_test = zip(*dataset_test)\n",
    "image_paths_val, Y_val = zip(*dataset_val)\n",
    "\n",
    "(x_train, y_train) = load_dataset(image_paths_train, Y_train)\n",
    "(x_test, y_test)   = load_dataset(image_paths_test, Y_test)\n",
    "(x_valid, y_valid) = load_dataset(image_paths_val, Y_val)\n",
    "x_train -= np.mean(x_train)\n",
    "x_valid -= np.mean(x_valid)\n",
    "x_test -= np.mean(x_test)"
   ]
  },
  {
   "cell_type": "code",
   "execution_count": 6,
   "id": "36b77351-442f-4039-a423-19a600a60d68",
   "metadata": {
    "tags": []
   },
   "outputs": [],
   "source": [
    "# TensorDataset\n",
    "x_train = torch.FloatTensor(x_train)\n",
    "x_valid = torch.FloatTensor(x_valid)\n",
    "x_test = torch.FloatTensor(x_test)\n",
    "x_train = x_train.permute(0, 3, 1, 2)\n",
    "x_valid = x_valid.permute(0, 3, 1, 2)\n",
    "x_test = x_test.permute(0, 3, 1, 2)\n",
    "\n",
    "y_train = torch.IntTensor(y_train)\n",
    "y_valid = torch.IntTensor(y_valid)\n",
    "y_test = torch.IntTensor(y_test)\n",
    "\n",
    "train_dataset = TensorDataset(x_train, y_train)\n",
    "val_dataset = TensorDataset(x_valid, y_valid)\n",
    "test_dataset = TensorDataset(x_test, y_test)"
   ]
  },
  {
   "cell_type": "code",
   "execution_count": 7,
   "id": "f2ae24ed-3e7b-4c2d-b01f-b5101356b797",
   "metadata": {
    "tags": []
   },
   "outputs": [
    {
     "name": "stdout",
     "output_type": "stream",
     "text": [
      "torch.Size([63325, 3, 32, 32])\n"
     ]
    }
   ],
   "source": [
    "print(x_train.shape)"
   ]
  },
  {
   "cell_type": "code",
   "execution_count": 8,
   "id": "c900305e-1de6-41eb-adfd-5680c17aad79",
   "metadata": {
    "tags": []
   },
   "outputs": [],
   "source": [
    "train_dataloader = DataLoader(dataset=train_dataset, batch_size=2048, shuffle=True)\n",
    "test_dataloader  = DataLoader(dataset=val_dataset, batch_size=64, shuffle=False)\n",
    "valid_dataloader = DataLoader(dataset=test_dataset, batch_size=64, shuffle=False)"
   ]
  },
  {
   "cell_type": "markdown",
   "id": "2453bb8d-dd11-47c8-88cf-688ddc47cbd1",
   "metadata": {
    "tags": []
   },
   "source": [
    "# Define Model"
   ]
  },
  {
   "cell_type": "code",
   "execution_count": 9,
   "id": "595434ea-fece-4509-af39-f6d3af2e023d",
   "metadata": {
    "tags": []
   },
   "outputs": [],
   "source": [
    "class LeNet5(nn.Module):\n",
    "    def __init__(self):\n",
    "        super(LeNet5, self).__init__()\n",
    "        self.conv1 = nn.Conv2d(3, 6, kernel_size=5)\n",
    "        self.activ11 = nn.Tanh()\n",
    "        self.pool1 = nn.MaxPool2d(kernel_size=2)\n",
    "        self.activ12 = nn.Sigmoid()\n",
    "        self.conv2 = nn.Conv2d(6, 16, kernel_size=5)\n",
    "        self.activ21 = nn.Tanh()\n",
    "        self.pool2 = nn.MaxPool2d(kernel_size=2)\n",
    "        self.activ22 = nn.Sigmoid()\n",
    "        self.fc1 = nn.Linear(16*5*5, 120)\n",
    "        self.activ31 = nn.Tanh()\n",
    "        self.fc2 = nn.Linear(120, 84)\n",
    "        self.activ32 = nn.Tanh()\n",
    "        self.fc3 = nn.Linear(84, 50)\n",
    "        self.softmax = nn.Softmax(dim=1)\n",
    "\n",
    "    def forward(self, x):\n",
    "        x = self.activ11(self.conv1(x))\n",
    "        x = self.activ12(self.pool1(x))\n",
    "        x = self.activ21(self.conv2(x))\n",
    "        x = self.activ22(self.pool2(x))\n",
    "        x = x.view(x.size(0), -1)\n",
    "        x = self.activ31(self.fc1(x))\n",
    "        x = self.activ32(self.fc2(x))\n",
    "        x = self.softmax(self.fc3(x))\n",
    "        return x"
   ]
  },
  {
   "cell_type": "code",
   "execution_count": 10,
   "id": "5dadc774-d20f-4eaa-9ace-52de86f23274",
   "metadata": {
    "tags": []
   },
   "outputs": [],
   "source": [
    "def gt_accuracy(predictions, labels):\n",
    "    correct = torch.eq(predictions, labels).sum().item()\n",
    "    accuracy = correct / labels.size(0) * 100\n",
    "    return accuracy\n",
    "\n",
    "def train(model, train_dataloader, valid_dataloader, loss_fcn, optimizer, n_epochs):\n",
    "    train_loss_list, train_acc_list = [], []\n",
    "    val_loss_list, val_acc_list = [], []\n",
    "\n",
    "    for epoch in range(n_epochs):\n",
    "        train_loss, val_loss = 0.0, 0.0\n",
    "        train_acc, val_acc = 0.0, 0.0\n",
    "\n",
    "        model.train()\n",
    "        with tqdm(total=len(train_dataloader)) as pbar:\n",
    "            for imgs, labels in train_dataloader:\n",
    "                imgs, labels = imgs.to(device), labels.type(torch.LongTensor).to(device)\n",
    "                optimizer.zero_grad()\n",
    "                outputs = model(imgs)\n",
    "                preds = torch.argmax(outputs, dim=1)\n",
    "                train_acc += gt_accuracy(preds, labels)\n",
    "                loss = loss_fcn(outputs, labels)\n",
    "                train_loss += loss\n",
    "                loss.backward()\n",
    "                optimizer.step()\n",
    "                pbar.update(1)\n",
    "\n",
    "        train_loss /= len(train_dataloader)\n",
    "        train_acc /= len(train_dataloader)\n",
    "        train_loss_list.append(train_loss)\n",
    "        train_acc_list.append(train_acc)\n",
    "        if epoch % 1 == 0:\n",
    "            print(f\"Epoch: {epoch + 1} | Train loss: {train_loss:.4f} | Train acc: {train_acc:.4f} %\")\n",
    "\n",
    "        model.eval()\n",
    "        with torch.no_grad():\n",
    "            for X, y in valid_dataloader:\n",
    "                X, y = X.to(device), y.type(torch.LongTensor).to(device)\n",
    "                val_prob = model(X)\n",
    "                val_pred = torch.argmax(val_prob, dim=1)\n",
    "                val_loss += loss_fcn(val_prob, y)\n",
    "                val_acc += gt_accuracy(val_pred, y)\n",
    "\n",
    "            val_loss /= len(valid_dataloader)\n",
    "            val_acc /= len(valid_dataloader)\n",
    "            val_loss_list.append(val_loss)\n",
    "            val_acc_list.append(val_acc)\n",
    "            print(f\"Epoch: {epoch + 1} | Valid loss: {val_loss:.4f} | Valid acc: {val_acc:.4f} %\")\n",
    "\n",
    "    return (train_loss_list, val_loss_list), (train_acc_list, val_acc_list)"
   ]
  },
  {
   "cell_type": "markdown",
   "id": "67e5fc82-6af6-4f85-93fc-8f8a2fcb7f4a",
   "metadata": {},
   "source": [
    "### select device : GPU or CPU"
   ]
  },
  {
   "cell_type": "code",
   "execution_count": 11,
   "id": "bb97bbf8-223c-40e4-a5c9-aa0adf5a92e1",
   "metadata": {
    "tags": []
   },
   "outputs": [
    {
     "name": "stdout",
     "output_type": "stream",
     "text": [
      "Training on cuda:1.\n"
     ]
    }
   ],
   "source": [
    "device = torch.device('cuda:1') if torch.cuda.is_available() else torch.device('cpu')\n",
    "print(f\"Training on {device}.\")"
   ]
  },
  {
   "cell_type": "markdown",
   "id": "25405a66-9f7d-4e34-8304-c3cb7679e296",
   "metadata": {},
   "source": [
    "## Start Training"
   ]
  },
  {
   "cell_type": "code",
   "execution_count": 12,
   "id": "ebe60c38-46b2-48bd-8355-03bbdd645a69",
   "metadata": {
    "tags": []
   },
   "outputs": [
    {
     "name": "stderr",
     "output_type": "stream",
     "text": [
      "100%|███████████████████████████████████████████| 31/31 [00:01<00:00, 16.50it/s]\n"
     ]
    },
    {
     "name": "stdout",
     "output_type": "stream",
     "text": [
      "Epoch: 1 | Train loss: 3.9120 | Train acc: 1.9143 %\n",
      "Epoch: 1 | Valid loss: 3.9117 | Valid acc: 1.7578 %\n"
     ]
    },
    {
     "name": "stderr",
     "output_type": "stream",
     "text": [
      "100%|███████████████████████████████████████████| 31/31 [00:00<00:00, 37.69it/s]\n"
     ]
    },
    {
     "name": "stdout",
     "output_type": "stream",
     "text": [
      "Epoch: 2 | Train loss: 3.9119 | Train acc: 1.9497 %\n",
      "Epoch: 2 | Valid loss: 3.9113 | Valid acc: 1.7578 %\n"
     ]
    },
    {
     "name": "stderr",
     "output_type": "stream",
     "text": [
      "100%|███████████████████████████████████████████| 31/31 [00:00<00:00, 37.17it/s]\n"
     ]
    },
    {
     "name": "stdout",
     "output_type": "stream",
     "text": [
      "Epoch: 3 | Train loss: 3.9107 | Train acc: 2.4029 %\n",
      "Epoch: 3 | Valid loss: 3.9080 | Valid acc: 2.9297 %\n"
     ]
    },
    {
     "name": "stderr",
     "output_type": "stream",
     "text": [
      "100%|███████████████████████████████████████████| 31/31 [00:00<00:00, 40.15it/s]\n"
     ]
    },
    {
     "name": "stdout",
     "output_type": "stream",
     "text": [
      "Epoch: 4 | Train loss: 3.9022 | Train acc: 3.4755 %\n",
      "Epoch: 4 | Valid loss: 3.8966 | Valid acc: 4.1016 %\n"
     ]
    },
    {
     "name": "stderr",
     "output_type": "stream",
     "text": [
      "100%|███████████████████████████████████████████| 31/31 [00:00<00:00, 37.22it/s]\n"
     ]
    },
    {
     "name": "stdout",
     "output_type": "stream",
     "text": [
      "Epoch: 5 | Train loss: 3.8949 | Train acc: 4.4832 %\n",
      "Epoch: 5 | Valid loss: 3.8945 | Valid acc: 4.2969 %\n"
     ]
    },
    {
     "name": "stderr",
     "output_type": "stream",
     "text": [
      "100%|███████████████████████████████████████████| 31/31 [00:00<00:00, 41.05it/s]\n"
     ]
    },
    {
     "name": "stdout",
     "output_type": "stream",
     "text": [
      "Epoch: 6 | Train loss: 3.8900 | Train acc: 4.9918 %\n",
      "Epoch: 6 | Valid loss: 3.8902 | Valid acc: 4.2969 %\n"
     ]
    },
    {
     "name": "stderr",
     "output_type": "stream",
     "text": [
      "100%|███████████████████████████████████████████| 31/31 [00:00<00:00, 37.62it/s]\n"
     ]
    },
    {
     "name": "stdout",
     "output_type": "stream",
     "text": [
      "Epoch: 7 | Train loss: 3.8860 | Train acc: 5.5580 %\n",
      "Epoch: 7 | Valid loss: 3.8893 | Valid acc: 5.0781 %\n"
     ]
    },
    {
     "name": "stderr",
     "output_type": "stream",
     "text": [
      "100%|███████████████████████████████████████████| 31/31 [00:00<00:00, 37.38it/s]\n"
     ]
    },
    {
     "name": "stdout",
     "output_type": "stream",
     "text": [
      "Epoch: 8 | Train loss: 3.8826 | Train acc: 6.0097 %\n",
      "Epoch: 8 | Valid loss: 3.8818 | Valid acc: 6.4453 %\n"
     ]
    },
    {
     "name": "stderr",
     "output_type": "stream",
     "text": [
      "100%|███████████████████████████████████████████| 31/31 [00:00<00:00, 37.94it/s]\n"
     ]
    },
    {
     "name": "stdout",
     "output_type": "stream",
     "text": [
      "Epoch: 9 | Train loss: 3.8804 | Train acc: 6.0570 %\n",
      "Epoch: 9 | Valid loss: 3.8825 | Valid acc: 5.8594 %\n"
     ]
    },
    {
     "name": "stderr",
     "output_type": "stream",
     "text": [
      "100%|███████████████████████████████████████████| 31/31 [00:00<00:00, 41.15it/s]\n"
     ]
    },
    {
     "name": "stdout",
     "output_type": "stream",
     "text": [
      "Epoch: 10 | Train loss: 3.8777 | Train acc: 6.3996 %\n",
      "Epoch: 10 | Valid loss: 3.8796 | Valid acc: 6.8359 %\n"
     ]
    },
    {
     "name": "stderr",
     "output_type": "stream",
     "text": [
      "100%|███████████████████████████████████████████| 31/31 [00:00<00:00, 38.20it/s]\n"
     ]
    },
    {
     "name": "stdout",
     "output_type": "stream",
     "text": [
      "Epoch: 11 | Train loss: 3.8759 | Train acc: 6.6418 %\n",
      "Epoch: 11 | Valid loss: 3.8815 | Valid acc: 5.0781 %\n"
     ]
    },
    {
     "name": "stderr",
     "output_type": "stream",
     "text": [
      "100%|███████████████████████████████████████████| 31/31 [00:00<00:00, 37.40it/s]\n"
     ]
    },
    {
     "name": "stdout",
     "output_type": "stream",
     "text": [
      "Epoch: 12 | Train loss: 3.8743 | Train acc: 6.8168 %\n",
      "Epoch: 12 | Valid loss: 3.8818 | Valid acc: 5.0781 %\n"
     ]
    },
    {
     "name": "stderr",
     "output_type": "stream",
     "text": [
      "100%|███████████████████████████████████████████| 31/31 [00:00<00:00, 39.75it/s]\n"
     ]
    },
    {
     "name": "stdout",
     "output_type": "stream",
     "text": [
      "Epoch: 13 | Train loss: 3.8747 | Train acc: 6.7145 %\n",
      "Epoch: 13 | Valid loss: 3.8787 | Valid acc: 6.2500 %\n"
     ]
    },
    {
     "name": "stderr",
     "output_type": "stream",
     "text": [
      "100%|███████████████████████████████████████████| 31/31 [00:00<00:00, 36.30it/s]\n"
     ]
    },
    {
     "name": "stdout",
     "output_type": "stream",
     "text": [
      "Epoch: 14 | Train loss: 3.8722 | Train acc: 7.0151 %\n",
      "Epoch: 14 | Valid loss: 3.8822 | Valid acc: 6.0547 %\n"
     ]
    },
    {
     "name": "stderr",
     "output_type": "stream",
     "text": [
      "100%|███████████████████████████████████████████| 31/31 [00:00<00:00, 36.26it/s]\n"
     ]
    },
    {
     "name": "stdout",
     "output_type": "stream",
     "text": [
      "Epoch: 15 | Train loss: 3.8698 | Train acc: 7.4032 %\n",
      "Epoch: 15 | Valid loss: 3.8765 | Valid acc: 6.4453 %\n"
     ]
    },
    {
     "name": "stderr",
     "output_type": "stream",
     "text": [
      "100%|███████████████████████████████████████████| 31/31 [00:00<00:00, 40.35it/s]\n"
     ]
    },
    {
     "name": "stdout",
     "output_type": "stream",
     "text": [
      "Epoch: 16 | Train loss: 3.8678 | Train acc: 7.5550 %\n",
      "Epoch: 16 | Valid loss: 3.8728 | Valid acc: 6.6406 %\n"
     ]
    },
    {
     "name": "stderr",
     "output_type": "stream",
     "text": [
      "100%|███████████████████████████████████████████| 31/31 [00:00<00:00, 36.38it/s]\n"
     ]
    },
    {
     "name": "stdout",
     "output_type": "stream",
     "text": [
      "Epoch: 17 | Train loss: 3.8669 | Train acc: 7.6309 %\n",
      "Epoch: 17 | Valid loss: 3.8705 | Valid acc: 7.0312 %\n"
     ]
    },
    {
     "name": "stderr",
     "output_type": "stream",
     "text": [
      "100%|███████████████████████████████████████████| 31/31 [00:00<00:00, 36.14it/s]\n"
     ]
    },
    {
     "name": "stdout",
     "output_type": "stream",
     "text": [
      "Epoch: 18 | Train loss: 3.8655 | Train acc: 7.8103 %\n",
      "Epoch: 18 | Valid loss: 3.8699 | Valid acc: 7.0312 %\n"
     ]
    },
    {
     "name": "stderr",
     "output_type": "stream",
     "text": [
      "100%|███████████████████████████████████████████| 31/31 [00:00<00:00, 40.34it/s]\n"
     ]
    },
    {
     "name": "stdout",
     "output_type": "stream",
     "text": [
      "Epoch: 19 | Train loss: 3.8647 | Train acc: 7.9061 %\n",
      "Epoch: 19 | Valid loss: 3.8684 | Valid acc: 7.8125 %\n"
     ]
    },
    {
     "name": "stderr",
     "output_type": "stream",
     "text": [
      "100%|███████████████████████████████████████████| 31/31 [00:00<00:00, 36.48it/s]\n"
     ]
    },
    {
     "name": "stdout",
     "output_type": "stream",
     "text": [
      "Epoch: 20 | Train loss: 3.8629 | Train acc: 8.1146 %\n",
      "Epoch: 20 | Valid loss: 3.8672 | Valid acc: 7.0312 %\n"
     ]
    },
    {
     "name": "stderr",
     "output_type": "stream",
     "text": [
      "100%|███████████████████████████████████████████| 31/31 [00:00<00:00, 37.31it/s]\n"
     ]
    },
    {
     "name": "stdout",
     "output_type": "stream",
     "text": [
      "Epoch: 21 | Train loss: 3.8620 | Train acc: 8.1189 %\n",
      "Epoch: 21 | Valid loss: 3.8677 | Valid acc: 8.5938 %\n"
     ]
    },
    {
     "name": "stderr",
     "output_type": "stream",
     "text": [
      "100%|███████████████████████████████████████████| 31/31 [00:00<00:00, 40.29it/s]\n"
     ]
    },
    {
     "name": "stdout",
     "output_type": "stream",
     "text": [
      "Epoch: 22 | Train loss: 3.8633 | Train acc: 7.9985 %\n",
      "Epoch: 22 | Valid loss: 3.8682 | Valid acc: 7.8125 %\n"
     ]
    },
    {
     "name": "stderr",
     "output_type": "stream",
     "text": [
      "100%|███████████████████████████████████████████| 31/31 [00:00<00:00, 37.27it/s]\n"
     ]
    },
    {
     "name": "stdout",
     "output_type": "stream",
     "text": [
      "Epoch: 23 | Train loss: 3.8602 | Train acc: 8.2941 %\n",
      "Epoch: 23 | Valid loss: 3.8607 | Valid acc: 8.3984 %\n"
     ]
    },
    {
     "name": "stderr",
     "output_type": "stream",
     "text": [
      "100%|███████████████████████████████████████████| 31/31 [00:00<00:00, 37.15it/s]\n"
     ]
    },
    {
     "name": "stdout",
     "output_type": "stream",
     "text": [
      "Epoch: 24 | Train loss: 3.8589 | Train acc: 8.4653 %\n",
      "Epoch: 24 | Valid loss: 3.8428 | Valid acc: 15.2344 %\n"
     ]
    },
    {
     "name": "stderr",
     "output_type": "stream",
     "text": [
      "100%|███████████████████████████████████████████| 31/31 [00:00<00:00, 37.12it/s]\n"
     ]
    },
    {
     "name": "stdout",
     "output_type": "stream",
     "text": [
      "Epoch: 25 | Train loss: 3.8580 | Train acc: 8.5626 %\n",
      "Epoch: 25 | Valid loss: 3.8517 | Valid acc: 8.0078 %\n"
     ]
    },
    {
     "name": "stderr",
     "output_type": "stream",
     "text": [
      "100%|███████████████████████████████████████████| 31/31 [00:00<00:00, 40.71it/s]\n"
     ]
    },
    {
     "name": "stdout",
     "output_type": "stream",
     "text": [
      "Epoch: 26 | Train loss: 3.8563 | Train acc: 8.8568 %\n",
      "Epoch: 26 | Valid loss: 3.8497 | Valid acc: 8.9844 %\n"
     ]
    },
    {
     "name": "stderr",
     "output_type": "stream",
     "text": [
      "100%|███████████████████████████████████████████| 31/31 [00:00<00:00, 37.47it/s]\n"
     ]
    },
    {
     "name": "stdout",
     "output_type": "stream",
     "text": [
      "Epoch: 27 | Train loss: 3.8563 | Train acc: 8.7231 %\n",
      "Epoch: 27 | Valid loss: 3.8595 | Valid acc: 8.2031 %\n"
     ]
    },
    {
     "name": "stderr",
     "output_type": "stream",
     "text": [
      "100%|███████████████████████████████████████████| 31/31 [00:00<00:00, 37.00it/s]\n"
     ]
    },
    {
     "name": "stdout",
     "output_type": "stream",
     "text": [
      "Epoch: 28 | Train loss: 3.8561 | Train acc: 8.7526 %\n",
      "Epoch: 28 | Valid loss: 3.8605 | Valid acc: 8.0078 %\n"
     ]
    },
    {
     "name": "stderr",
     "output_type": "stream",
     "text": [
      "100%|███████████████████████████████████████████| 31/31 [00:00<00:00, 40.15it/s]\n"
     ]
    },
    {
     "name": "stdout",
     "output_type": "stream",
     "text": [
      "Epoch: 29 | Train loss: 3.8555 | Train acc: 8.8441 %\n",
      "Epoch: 29 | Valid loss: 3.8535 | Valid acc: 9.1797 %\n"
     ]
    },
    {
     "name": "stderr",
     "output_type": "stream",
     "text": [
      "100%|███████████████████████████████████████████| 31/31 [00:00<00:00, 35.77it/s]"
     ]
    },
    {
     "name": "stdout",
     "output_type": "stream",
     "text": [
      "Epoch: 30 | Train loss: 3.8546 | Train acc: 8.9059 %\n",
      "Epoch: 30 | Valid loss: 3.8232 | Valid acc: 14.6484 %\n",
      "Total training time: 25.92 seconds\n",
      "Average time per epoch: 0.86 seconds\n"
     ]
    },
    {
     "name": "stderr",
     "output_type": "stream",
     "text": [
      "\n"
     ]
    }
   ],
   "source": [
    "model = LeNet5().to(device)\n",
    "EPOCHS = 30\n",
    "criterion = nn.CrossEntropyLoss()\n",
    "optimizer = optim.Adam(model.parameters(), lr=1e-3)\n",
    "\n",
    "start_time = time.time()\n",
    "loss_data, acc_data = train(\n",
    "    model=model,\n",
    "    train_dataloader=train_dataloader,\n",
    "    valid_dataloader=valid_dataloader,\n",
    "    loss_fcn=criterion,\n",
    "    optimizer=optimizer,\n",
    "    n_epochs=EPOCHS\n",
    ")\n",
    "\n",
    "end_time = time.time()\n",
    "\n",
    "# calculate the total training time\n",
    "total_time = end_time - start_time\n",
    "\n",
    "# calculate the average time per epoch\n",
    "avg_time_per_epoch = total_time / len(acc_data[0])\n",
    "\n",
    "print(f'Total training time: {total_time:.2f} seconds')\n",
    "print(f'Average time per epoch: {avg_time_per_epoch:.2f} seconds')"
   ]
  },
  {
   "cell_type": "markdown",
   "id": "43d427ec-3477-44ec-a754-7af7f46871f4",
   "metadata": {
    "tags": []
   },
   "source": [
    "### Plot the Results"
   ]
  },
  {
   "cell_type": "code",
   "execution_count": 13,
   "id": "b3aa208d-65f6-49d8-ab89-e06ea0f1ffb2",
   "metadata": {
    "tags": []
   },
   "outputs": [],
   "source": [
    "loss_data_train = [t.cpu().item() for t in loss_data[0]]\n",
    "loss_data_valid = [t.cpu().item() for t in loss_data[1]]"
   ]
  },
  {
   "cell_type": "code",
   "execution_count": 14,
   "id": "fbe3bfea-9724-40a7-aced-4646c8fe591e",
   "metadata": {
    "tags": []
   },
   "outputs": [
    {
     "data": {
      "image/png": "[encoded data removed]",
      "text/plain": [
       "<Figure size 400x600 with 2 Axes>"
      ]
     },
     "metadata": {},
     "output_type": "display_data"
    }
   ],
   "source": [
    "f = plt.figure(figsize=(4,6), dpi=100)\n",
    "ax = f.add_subplot(211)\n",
    "plt.title(\"PyTorch\")\n",
    "plt.plot(loss_data_train)\n",
    "plt.plot(loss_data_valid)\n",
    "plt.ylabel(\"Loss\")\n",
    "plt.xticks([])\n",
    "plt.legend(['Train', 'Valid'])\n",
    "\n",
    "ax = f.add_subplot(212)\n",
    "plt.plot(acc_data[0])\n",
    "plt.plot(acc_data[1])\n",
    "# plt.title(\"Accuracy\")\n",
    "plt.xlabel(\"Epoch\")\n",
    "plt.ylabel(\"Accuracy (%)\")\n",
    "plt.ylim([0, 14])\n",
    "\n",
    "plt.savefig('./pic/lenet5_torch.png')"
   ]
  },
  {
   "cell_type": "markdown",
   "id": "3d70f172-6662-439d-b2da-fe949eb3d6cb",
   "metadata": {},
   "source": [
    "# Inference \n",
    "accuracy and time"
   ]
  },
  {
   "cell_type": "code",
   "execution_count": 1,
   "id": "3faf662d-6fea-4023-9743-8431f08e97fd",
   "metadata": {
    "tags": []
   },
   "outputs": [
    {
     "ename": "NameError",
     "evalue": "name 'time' is not defined",
     "output_type": "error",
     "traceback": [
      "\u001b[0;31m---------------------------------------------------------------------------\u001b[0m",
      "\u001b[0;31mNameError\u001b[0m                                 Traceback (most recent call last)",
      "Cell \u001b[0;32mIn[1], line 1\u001b[0m\n\u001b[0;32m----> 1\u001b[0m start_time \u001b[38;5;241m=\u001b[39m \u001b[43mtime\u001b[49m\u001b[38;5;241m.\u001b[39mtime()\n\u001b[1;32m      2\u001b[0m model\u001b[38;5;241m.\u001b[39meval()\n\u001b[1;32m      3\u001b[0m test_acc \u001b[38;5;241m=\u001b[39m \u001b[38;5;241m0\u001b[39m\n",
      "\u001b[0;31mNameError\u001b[0m: name 'time' is not defined"
     ]
    }
   ],
   "source": [
    "start_time = time.time()\n",
    "model.eval()\n",
    "test_acc = 0\n",
    "with torch.no_grad():\n",
    "    for X, y in valid_dataloader:\n",
    "        X, y = X.to(device), y.type(torch.LongTensor).to(device)\n",
    "        test_prob = model(X)\n",
    "        test_pred = torch.argmax(test_prob, dim=1)\n",
    "        test_acc += gt_accuracy(test_pred, y)\n",
    "    \n",
    "end_time = time.time()\n",
    "# calculate the total training time\n",
    "total_time = end_time - start_time\n",
    "print(total_time)\n",
    "print(test_acc /len(test_dataloader))"
   ]
  },
  {
   "cell_type": "markdown",
   "id": "2ffe1e01-f5c9-420a-ac53-54e1043bff27",
   "metadata": {},
   "source": [
    "# Profiling Model"
   ]
  },
  {
   "cell_type": "code",
   "execution_count": 37,
   "id": "8a6984a8-9c13-46d9-828b-44edb14a6e13",
   "metadata": {
    "tags": []
   },
   "outputs": [],
   "source": [
    "from thop import profile"
   ]
  },
  {
   "cell_type": "code",
   "execution_count": 38,
   "id": "5348844d-e955-496b-b1df-a230e414aee0",
   "metadata": {
    "tags": []
   },
   "outputs": [
    {
     "name": "stdout",
     "output_type": "stream",
     "text": [
      "[INFO] Register count_convNd() for <class 'torch.nn.modules.conv.Conv2d'>.\n",
      "[INFO] Register zero_ops() for <class 'torch.nn.modules.pooling.MaxPool2d'>.\n",
      "[INFO] Register count_linear() for <class 'torch.nn.modules.linear.Linear'>.\n",
      "[INFO] Register count_softmax() for <class 'torch.nn.modules.activation.Softmax'>.\n",
      "\n",
      "FLOPs: 0.655229 MFLOPs, params: 0.065406 M\n"
     ]
    }
   ],
   "source": [
    "input = torch.randn(1, 3, 32, 32).to(device)\n",
    "macs, params = profile(model, inputs=(input, ))\n",
    "print()\n",
    "print(f\"FLOPs: {macs/1e6} GFLOPs, params: {params/1e6} G\")"
   ]
  },
  {
   "cell_type": "code",
   "execution_count": null,
   "id": "75868df1-67b1-407c-800c-381badad388d",
   "metadata": {},
   "outputs": [],
   "source": []
  }
 ],
 "metadata": {
  "kernelspec": {
   "display_name": "Python 3 (ipykernel)",
   "language": "python",
   "name": "python3"
  },
  "language_info": {
   "codemirror_mode": {
    "name": "ipython",
    "version": 3
   },
   "file_extension": ".py",
   "mimetype": "text/x-python",
   "name": "python",
   "nbconvert_exporter": "python",
   "pygments_lexer": "ipython3",
   "version": "3.8.10"
  }
 },
 "nbformat": 4,
 "nbformat_minor": 5
}
