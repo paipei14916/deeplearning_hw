{
 "cells": [
  {
   "cell_type": "code",
   "execution_count": 1,
   "metadata": {
    "tags": []
   },
   "outputs": [
    {
     "name": "stderr",
     "output_type": "stream",
     "text": [
      "2023-05-22 02:35:21.173762: I tensorflow/tsl/cuda/cudart_stub.cc:28] Could not find cuda drivers on your machine, GPU will not be used.\n",
      "2023-05-22 02:35:21.210294: I tensorflow/tsl/cuda/cudart_stub.cc:28] Could not find cuda drivers on your machine, GPU will not be used.\n",
      "2023-05-22 02:35:21.210754: I tensorflow/core/platform/cpu_feature_guard.cc:182] This TensorFlow binary is optimized to use available CPU instructions in performance-critical operations.\n",
      "To enable the following instructions: AVX2 FMA, in other operations, rebuild TensorFlow with the appropriate compiler flags.\n",
      "2023-05-22 02:35:21.743211: W tensorflow/compiler/tf2tensorrt/utils/py_utils.cc:38] TF-TRT Warning: Could not find TensorRT\n"
     ]
    },
    {
     "name": "stdout",
     "output_type": "stream",
     "text": [
      "2.12.0\n",
      "Num GPUs Available:  0\n"
     ]
    },
    {
     "name": "stderr",
     "output_type": "stream",
     "text": [
      "2023-05-22 02:35:22.595086: I tensorflow/compiler/xla/stream_executor/cuda/cuda_gpu_executor.cc:996] successful NUMA node read from SysFS had negative value (-1), but there must be at least one NUMA node, so returning NUMA node zero. See more at https://github.com/torvalds/linux/blob/v6.0/Documentation/ABI/testing/sysfs-bus-pci#L344-L355\n",
      "2023-05-22 02:35:22.595291: I tensorflow/compiler/xla/stream_executor/cuda/cuda_gpu_executor.cc:996] successful NUMA node read from SysFS had negative value (-1), but there must be at least one NUMA node, so returning NUMA node zero. See more at https://github.com/torvalds/linux/blob/v6.0/Documentation/ABI/testing/sysfs-bus-pci#L344-L355\n",
      "2023-05-22 02:35:22.596776: W tensorflow/core/common_runtime/gpu/gpu_device.cc:1956] Cannot dlopen some GPU libraries. Please make sure the missing libraries mentioned above are installed properly if you would like to use GPU. Follow the guide at https://www.tensorflow.org/install/gpu for how to download and setup the required libraries for your platform.\n",
      "Skipping registering GPU devices...\n"
     ]
    }
   ],
   "source": [
    "import tensorflow as tf\n",
    "import matplotlib.pyplot as plt\n",
    "from tensorflow.keras import datasets, layers, models, losses\n",
    "import cv2\n",
    "import multiprocessing\n",
    "import numpy as np\n",
    "import random\n",
    "from tensorflow.keras import backend as K\n",
    "import time\n",
    "\n",
    "print(tf.__version__)\n",
    "print(\"Num GPUs Available: \", len(tf.config.experimental.list_physical_devices('GPU')))"
   ]
  },
  {
   "cell_type": "code",
   "execution_count": 2,
   "metadata": {
    "tags": []
   },
   "outputs": [],
   "source": [
    "def readDataset(image_path):\n",
    "    num_processes = 16\n",
    "    with multiprocessing.Pool(processes=num_processes) as pool:\n",
    "        results = pool.map(process_image, image_path)\n",
    "    return results\n",
    "\n",
    "def process_image(image_path):\n",
    "    im = cv2.imread(image_path)\n",
    "    # gray = cv2.cvtColor(im, cv2.COLOR_BGR2GRAY)\n",
    "    resized = cv2.resize(im, (32, 32), interpolation=cv2.INTER_AREA)\n",
    "    return resized\n",
    "\n",
    "def load_dataset(train_image, train_label):\n",
    "    train_image = readDataset(train_image)\n",
    "    train_image = np.array(train_image)\n",
    "    train_image = train_image/float(255)\n",
    "    train_image -= np.mean(train_image)\n",
    "    train_label = np.array(train_label)\n",
    "    return (train_image, train_label)\n",
    "\n",
    "\n",
    "def read_dataset(img_filename):\n",
    "    filename = []\n",
    "    label = []\n",
    "    with open(img_filename, 'r') as f:\n",
    "        for line in f.readlines():\n",
    "            s = line.split(' ')\n",
    "            filename.append(s[0])\n",
    "            label.append(int(s[1]))\n",
    "    dataset = []\n",
    "    for i in range(len(filename)):\n",
    "        dataset.append((filename[i],label[i]))   \n",
    "    random.shuffle(dataset)    \n",
    "    return dataset"
   ]
  },
  {
   "cell_type": "code",
   "execution_count": 3,
   "metadata": {
    "tags": []
   },
   "outputs": [],
   "source": [
    "dataset_train = read_dataset('train.txt')\n",
    "dataset_test = read_dataset('test.txt')\n",
    "dataset_val  = read_dataset('val.txt')\n",
    "\n",
    "image_paths_train, Y_train = zip(*dataset_train)\n",
    "image_paths_test, Y_test = zip(*dataset_test)\n",
    "image_paths_val, Y_val = zip(*dataset_val)\n",
    "\n",
    "(x_train, y_train) = load_dataset(image_paths_train, Y_train)\n",
    "(x_test, y_test)   = load_dataset(image_paths_test, Y_test)\n",
    "(x_valid, y_valid) = load_dataset(image_paths_val, Y_val)"
   ]
  },
  {
   "cell_type": "code",
   "execution_count": 4,
   "metadata": {
    "tags": []
   },
   "outputs": [
    {
     "data": {
      "text/plain": [
       "TensorShape([63325, 32, 32, 3])"
      ]
     },
     "execution_count": 4,
     "metadata": {},
     "output_type": "execute_result"
    }
   ],
   "source": [
    "x_train = tf.convert_to_tensor(x_train, dtype=tf.float32)\n",
    "x_test  = tf.convert_to_tensor(x_test,  dtype=tf.float32)\n",
    "x_valid = tf.convert_to_tensor(x_valid, dtype=tf.float32)\n",
    "x_train.shape"
   ]
  },
  {
   "cell_type": "code",
   "execution_count": 5,
   "metadata": {
    "tags": []
   },
   "outputs": [
    {
     "name": "stdout",
     "output_type": "stream",
     "text": [
      "Model: \"model\"\n",
      "_________________________________________________________________\n",
      " Layer (type)                Output Shape              Param #   \n",
      "=================================================================\n",
      " input_1 (InputLayer)        [(None, 32, 32, 3)]       0         \n",
      "                                                                 \n",
      " conv2d (Conv2D)             (None, 28, 28, 6)         456       \n",
      "                                                                 \n",
      " average_pooling2d (AverageP  (None, 14, 14, 6)        0         \n",
      " ooling2D)                                                       \n",
      "                                                                 \n",
      " activation (Activation)     (None, 14, 14, 6)         0         \n",
      "                                                                 \n",
      " conv2d_1 (Conv2D)           (None, 10, 10, 16)        2416      \n",
      "                                                                 \n",
      " average_pooling2d_1 (Averag  (None, 5, 5, 16)         0         \n",
      " ePooling2D)                                                     \n",
      "                                                                 \n",
      " activation_1 (Activation)   (None, 5, 5, 16)          0         \n",
      "                                                                 \n",
      " conv2d_2 (Conv2D)           (None, 1, 1, 120)         48120     \n",
      "                                                                 \n",
      " flatten (Flatten)           (None, 120)               0         \n",
      "                                                                 \n",
      " dense (Dense)               (None, 84)                10164     \n",
      "                                                                 \n",
      " dense_1 (Dense)             (None, 50)                4250      \n",
      "                                                                 \n",
      "=================================================================\n",
      "Total params: 65,406\n",
      "Trainable params: 65,406\n",
      "Non-trainable params: 0\n",
      "_________________________________________________________________\n"
     ]
    }
   ],
   "source": [
    "# Define the computational graph\n",
    "inputs = tf.keras.Input(shape=x_train.shape[1:])\n",
    "x = tf.keras.layers.Conv2D(6, 5, activation='tanh')(inputs)\n",
    "x = tf.keras.layers.AveragePooling2D(2)(x)\n",
    "x = tf.keras.layers.Activation('sigmoid')(x)\n",
    "x = tf.keras.layers.Conv2D(16, 5, activation='tanh')(x)\n",
    "x = tf.keras.layers.AveragePooling2D(2)(x)\n",
    "x = tf.keras.layers.Activation('sigmoid')(x)\n",
    "x = tf.keras.layers.Conv2D(120, 5, activation='tanh')(x)\n",
    "x = tf.keras.layers.Flatten()(x)\n",
    "x = tf.keras.layers.Dense(84, activation='tanh')(x)\n",
    "outputs = tf.keras.layers.Dense(50, activation='softmax')(x)\n",
    "\n",
    "model = tf.keras.Model(inputs=inputs, outputs=outputs)\n",
    "model.summary()"
   ]
  },
  {
   "cell_type": "code",
   "execution_count": 6,
   "metadata": {
    "tags": []
   },
   "outputs": [
    {
     "name": "stdout",
     "output_type": "stream",
     "text": [
      "------------------------------------------------------------\n",
      "Frozen model layers: \n",
      "x\n",
      "model/conv2d/Conv2D/ReadVariableOp/resource\n",
      "model/conv2d/BiasAdd/ReadVariableOp/resource\n",
      "model/conv2d_1/Conv2D/ReadVariableOp/resource\n",
      "model/conv2d_1/BiasAdd/ReadVariableOp/resource\n",
      "model/conv2d_2/Conv2D/ReadVariableOp/resource\n",
      "model/conv2d_2/BiasAdd/ReadVariableOp/resource\n",
      "model/flatten/Const\n",
      "model/dense/MatMul/ReadVariableOp/resource\n",
      "model/dense/BiasAdd/ReadVariableOp/resource\n",
      "model/dense_1/MatMul/ReadVariableOp/resource\n",
      "model/dense_1/BiasAdd/ReadVariableOp/resource\n",
      "model/conv2d/Conv2D/ReadVariableOp\n",
      "model/conv2d/Conv2D\n",
      "model/conv2d/BiasAdd/ReadVariableOp\n",
      "model/conv2d/BiasAdd\n",
      "model/conv2d/Tanh\n",
      "model/average_pooling2d/AvgPool\n",
      "model/activation/Sigmoid\n",
      "model/conv2d_1/Conv2D/ReadVariableOp\n",
      "model/conv2d_1/Conv2D\n",
      "model/conv2d_1/BiasAdd/ReadVariableOp\n",
      "model/conv2d_1/BiasAdd\n",
      "model/conv2d_1/Tanh\n",
      "model/average_pooling2d_1/AvgPool\n",
      "model/activation_1/Sigmoid\n",
      "model/conv2d_2/Conv2D/ReadVariableOp\n",
      "model/conv2d_2/Conv2D\n",
      "model/conv2d_2/BiasAdd/ReadVariableOp\n",
      "model/conv2d_2/BiasAdd\n",
      "model/conv2d_2/Tanh\n",
      "model/flatten/Reshape\n",
      "model/dense/MatMul/ReadVariableOp\n",
      "model/dense/MatMul\n",
      "model/dense/BiasAdd/ReadVariableOp\n",
      "model/dense/BiasAdd\n",
      "model/dense/Tanh\n",
      "model/dense_1/MatMul/ReadVariableOp\n",
      "model/dense_1/MatMul\n",
      "model/dense_1/BiasAdd/ReadVariableOp\n",
      "model/dense_1/BiasAdd\n",
      "model/dense_1/Softmax\n",
      "NoOp\n",
      "Identity\n",
      "------------------------------------------------------------\n",
      "Frozen model inputs: \n",
      "[<tf.Tensor 'x:0' shape=(None, 32, 32, 3) dtype=float32>]\n",
      "Frozen model outputs: \n",
      "[<tf.Tensor 'Identity:0' shape=(None, 50) dtype=float32>]\n"
     ]
    },
    {
     "name": "stderr",
     "output_type": "stream",
     "text": [
      "2023-05-22 02:35:33.113657: I tensorflow/compiler/xla/stream_executor/cuda/cuda_gpu_executor.cc:996] successful NUMA node read from SysFS had negative value (-1), but there must be at least one NUMA node, so returning NUMA node zero. See more at https://github.com/torvalds/linux/blob/v6.0/Documentation/ABI/testing/sysfs-bus-pci#L344-L355\n",
      "2023-05-22 02:35:33.113913: I tensorflow/compiler/xla/stream_executor/cuda/cuda_gpu_executor.cc:996] successful NUMA node read from SysFS had negative value (-1), but there must be at least one NUMA node, so returning NUMA node zero. See more at https://github.com/torvalds/linux/blob/v6.0/Documentation/ABI/testing/sysfs-bus-pci#L344-L355\n",
      "2023-05-22 02:35:33.114048: I tensorflow/core/grappler/devices.cc:66] Number of eligible GPUs (core count >= 8, compute capability >= 0.0): 2\n",
      "2023-05-22 02:35:33.114133: I tensorflow/core/grappler/clusters/single_machine.cc:358] Starting new session\n",
      "2023-05-22 02:35:33.233123: I tensorflow/compiler/xla/stream_executor/cuda/cuda_gpu_executor.cc:996] successful NUMA node read from SysFS had negative value (-1), but there must be at least one NUMA node, so returning NUMA node zero. See more at https://github.com/torvalds/linux/blob/v6.0/Documentation/ABI/testing/sysfs-bus-pci#L344-L355\n",
      "2023-05-22 02:35:33.233323: I tensorflow/compiler/xla/stream_executor/cuda/cuda_gpu_executor.cc:996] successful NUMA node read from SysFS had negative value (-1), but there must be at least one NUMA node, so returning NUMA node zero. See more at https://github.com/torvalds/linux/blob/v6.0/Documentation/ABI/testing/sysfs-bus-pci#L344-L355\n",
      "2023-05-22 02:35:33.233455: W tensorflow/core/common_runtime/gpu/gpu_device.cc:1956] Cannot dlopen some GPU libraries. Please make sure the missing libraries mentioned above are installed properly if you would like to use GPU. Follow the guide at https://www.tensorflow.org/install/gpu for how to download and setup the required libraries for your platform.\n",
      "Skipping registering GPU devices...\n"
     ]
    }
   ],
   "source": [
    "from tensorflow.python.framework.convert_to_constants import convert_variables_to_constants_v2\n",
    "\n",
    "# Convert Keras model to ConcreteFunction\n",
    "full_model = tf.function(lambda x: model(x))\n",
    "full_model = full_model.get_concrete_function(\n",
    "    tf.TensorSpec(model.inputs[0].shape, model.inputs[0].dtype))\n",
    "# Get frozen ConcreteFunction\n",
    "frozen_func = convert_variables_to_constants_v2(full_model)\n",
    "frozen_func.graph.as_graph_def()\n",
    "layers = [op.name for op in frozen_func.graph.get_operations()]\n",
    "print(\"-\" * 60)\n",
    "print(\"Frozen model layers: \")\n",
    "for layer in layers:\n",
    "    print(layer)\n",
    "print(\"-\" * 60)\n",
    "print(\"Frozen model inputs: \")\n",
    "print(frozen_func.inputs)\n",
    "print(\"Frozen model outputs: \")\n",
    "print(frozen_func.outputs)"
   ]
  },
  {
   "cell_type": "code",
   "execution_count": 7,
   "metadata": {
    "tags": []
   },
   "outputs": [
    {
     "name": "stdout",
     "output_type": "stream",
     "text": [
      "Epoch 1/10\n",
      "31/31 [==============================] - 4s 110ms/step - loss: 3.9238 - accuracy: 0.0197 - val_loss: 3.9200 - val_accuracy: 0.0200\n",
      "Epoch 2/10\n",
      "31/31 [==============================] - 3s 105ms/step - loss: 3.9144 - accuracy: 0.0196 - val_loss: 3.9196 - val_accuracy: 0.0200\n",
      "Epoch 3/10\n",
      "31/31 [==============================] - 3s 102ms/step - loss: 3.9134 - accuracy: 0.0217 - val_loss: 3.9170 - val_accuracy: 0.0356\n",
      "Epoch 4/10\n",
      "31/31 [==============================] - 3s 100ms/step - loss: 3.8961 - accuracy: 0.0274 - val_loss: 3.8631 - val_accuracy: 0.0489\n",
      "Epoch 5/10\n",
      "31/31 [==============================] - 3s 104ms/step - loss: 3.8001 - accuracy: 0.0418 - val_loss: 3.7486 - val_accuracy: 0.0467\n",
      "Epoch 6/10\n",
      "31/31 [==============================] - 3s 104ms/step - loss: 3.7392 - accuracy: 0.0539 - val_loss: 3.7118 - val_accuracy: 0.0600\n",
      "Epoch 7/10\n",
      "31/31 [==============================] - 3s 104ms/step - loss: 3.7095 - accuracy: 0.0598 - val_loss: 3.6712 - val_accuracy: 0.0756\n",
      "Epoch 8/10\n",
      "31/31 [==============================] - 3s 102ms/step - loss: 3.6470 - accuracy: 0.0703 - val_loss: 3.6142 - val_accuracy: 0.0733\n",
      "Epoch 9/10\n",
      "31/31 [==============================] - 3s 103ms/step - loss: 3.6087 - accuracy: 0.0776 - val_loss: 3.6013 - val_accuracy: 0.0956\n",
      "Epoch 10/10\n",
      "31/31 [==============================] - 3s 104ms/step - loss: 3.5932 - accuracy: 0.0795 - val_loss: 3.6008 - val_accuracy: 0.0844\n",
      "Total training time: 32.73 seconds\n",
      "Average time per epoch: 3.27 seconds\n"
     ]
    }
   ],
   "source": [
    "start_time = time.time()\n",
    "\n",
    "# compile and fit your model\n",
    "model.compile(optimizer='adam', loss=losses.sparse_categorical_crossentropy, metrics=['accuracy'])\n",
    "history = model.fit(x_train, y_train, batch_size=2048, epochs=30, validation_data=(x_valid, y_valid))\n",
    "\n",
    "end_time = time.time()\n",
    "\n",
    "# calculate the total training time\n",
    "total_time = end_time - start_time\n",
    "\n",
    "# calculate the average time per epoch\n",
    "avg_time_per_epoch = total_time / len(history.history['loss'])\n",
    "\n",
    "print(f'Total training time: {total_time:.2f} seconds')\n",
    "print(f'Average time per epoch: {avg_time_per_epoch:.2f} seconds')"
   ]
  },
  {
   "cell_type": "code",
   "execution_count": 8,
   "metadata": {
    "tags": []
   },
   "outputs": [
    {
     "name": "stdout",
     "output_type": "stream",
     "text": [
      "WARNING:tensorflow:From /home/tailab_paipei/.local/lib/python3.8/site-packages/tensorflow/python/ops/nn_ops.py:5250: tensor_shape_from_node_def_name (from tensorflow.python.framework.graph_util_impl) is deprecated and will be removed in a future version.\n",
      "Instructions for updating:\n",
      "This API was designed for TensorFlow v1. See https://www.tensorflow.org/guide/migrate for instructions on how to migrate your code to TensorFlow v2.\n",
      "\n",
      "=========================Options=============================\n",
      "-max_depth                  10000\n",
      "-min_bytes                  0\n",
      "-min_peak_bytes             0\n",
      "-min_residual_bytes         0\n",
      "-min_output_bytes           0\n",
      "-min_micros                 0\n",
      "-min_accelerator_micros     0\n",
      "-min_cpu_micros             0\n",
      "-min_params                 0\n",
      "-min_float_ops              1\n",
      "-min_occurrence             0\n",
      "-step                       -1\n",
      "-order_by                   float_ops\n",
      "-account_type_regexes       .*\n",
      "-start_name_regexes         .*\n",
      "-trim_name_regexes          \n",
      "-show_name_regexes          .*\n",
      "-hide_name_regexes          \n",
      "-account_displayed_op_only  true\n",
      "-select                     float_ops\n",
      "-output                     stdout:\n",
      "\n",
      "==================Model Analysis Report======================\n",
      "\n",
      "Doc:\n",
      "scope: The nodes in the model graph are organized by their names, which is hierarchical like filesystem.\n",
      "flops: Number of float operations. Note: Please read the implementation for the math behind it.\n",
      "\n",
      "Profile:\n",
      "node name | # float_ops\n",
      "_TFProfRoot (--/1.32m flops)\n",
      "  model/conv2d/Conv2D (705.60k/705.60k flops)\n",
      "  model/conv2d_1/Conv2D (480.00k/480.00k flops)\n",
      "  model/conv2d_2/Conv2D (96.00k/96.00k flops)\n",
      "  model/dense/MatMul (20.16k/20.16k flops)\n",
      "  model/dense_1/MatMul (8.40k/8.40k flops)\n",
      "  model/average_pooling2d/AvgPool (4.70k/4.70k flops)\n",
      "  model/conv2d/BiasAdd (4.70k/4.70k flops)\n",
      "  model/average_pooling2d_1/AvgPool (1.60k/1.60k flops)\n",
      "  model/conv2d_1/BiasAdd (1.60k/1.60k flops)\n",
      "  model/dense_1/Softmax (250/250 flops)\n",
      "  model/conv2d_2/BiasAdd (120/120 flops)\n",
      "  model/dense/BiasAdd (84/84 flops)\n",
      "  model/dense_1/BiasAdd (50/50 flops)\n",
      "\n",
      "======================End of Report==========================\n",
      "FLOPS: 0.00132 G\n"
     ]
    },
    {
     "name": "stderr",
     "output_type": "stream",
     "text": [
      "2023-05-22 02:36:20.037470: I tensorflow/compiler/xla/stream_executor/cuda/cuda_gpu_executor.cc:996] successful NUMA node read from SysFS had negative value (-1), but there must be at least one NUMA node, so returning NUMA node zero. See more at https://github.com/torvalds/linux/blob/v6.0/Documentation/ABI/testing/sysfs-bus-pci#L344-L355\n",
      "2023-05-22 02:36:20.037711: I tensorflow/compiler/xla/stream_executor/cuda/cuda_gpu_executor.cc:996] successful NUMA node read from SysFS had negative value (-1), but there must be at least one NUMA node, so returning NUMA node zero. See more at https://github.com/torvalds/linux/blob/v6.0/Documentation/ABI/testing/sysfs-bus-pci#L344-L355\n",
      "2023-05-22 02:36:20.037858: I tensorflow/core/grappler/devices.cc:66] Number of eligible GPUs (core count >= 8, compute capability >= 0.0): 2\n",
      "2023-05-22 02:36:20.037922: I tensorflow/core/grappler/clusters/single_machine.cc:358] Starting new session\n",
      "2023-05-22 02:36:20.038392: I tensorflow/compiler/xla/stream_executor/cuda/cuda_gpu_executor.cc:996] successful NUMA node read from SysFS had negative value (-1), but there must be at least one NUMA node, so returning NUMA node zero. See more at https://github.com/torvalds/linux/blob/v6.0/Documentation/ABI/testing/sysfs-bus-pci#L344-L355\n",
      "2023-05-22 02:36:20.038560: I tensorflow/compiler/xla/stream_executor/cuda/cuda_gpu_executor.cc:996] successful NUMA node read from SysFS had negative value (-1), but there must be at least one NUMA node, so returning NUMA node zero. See more at https://github.com/torvalds/linux/blob/v6.0/Documentation/ABI/testing/sysfs-bus-pci#L344-L355\n",
      "2023-05-22 02:36:20.038693: W tensorflow/core/common_runtime/gpu/gpu_device.cc:1956] Cannot dlopen some GPU libraries. Please make sure the missing libraries mentioned above are installed properly if you would like to use GPU. Follow the guide at https://www.tensorflow.org/install/gpu for how to download and setup the required libraries for your platform.\n",
      "Skipping registering GPU devices...\n"
     ]
    }
   ],
   "source": [
    "from keras_flops import get_flops\n",
    "# Calculae FLOPS\n",
    "flops = get_flops(model)\n",
    "print(f\"FLOPS: {flops / 10e6} G\")"
   ]
  },
  {
   "cell_type": "code",
   "execution_count": 30,
   "metadata": {
    "tags": []
   },
   "outputs": [
    {
     "data": {
      "text/plain": [
       "(0.0, 14.0)"
      ]
     },
     "execution_count": 30,
     "metadata": {},
     "output_type": "execute_result"
    },
    {
     "data": {
      "image/png": "[encoded data removed]",
      "text/plain": [
       "<Figure size 400x600 with 2 Axes>"
      ]
     },
     "metadata": {},
     "output_type": "display_data"
    }
   ],
   "source": [
    "f = plt.figure(figsize=(4,6), dpi=100)\n",
    "ax = f.add_subplot(211)\n",
    "plt.title(\"TF Static\")\n",
    "plt.plot(history.history['loss'])\n",
    "plt.plot(history.history['val_loss'])\n",
    "plt.ylabel(\"Loss\")\n",
    "plt.xticks([])\n",
    "plt.legend(['Train', 'Valid'])\n",
    "\n",
    "ax = f.add_subplot(212)\n",
    "plt.plot(np.array(history.history['accuracy'])*100)\n",
    "plt.plot(np.array(history.history['val_accuracy'])*100)\n",
    "# plt.title(\"Accuracy\")\n",
    "plt.xlabel(\"Epoch\")\n",
    "plt.ylabel(\"Accuracy (%)\")\n",
    "plt.ylim([0, 14])\n",
    "\n",
    "plt.savefig('./pic/lenet5_tf_static.png')"
   ]
  },
  {
   "cell_type": "code",
   "execution_count": 11,
   "metadata": {
    "tags": []
   },
   "outputs": [
    {
     "name": "stdout",
     "output_type": "stream",
     "text": [
      "15/15 [==============================] - 0s 2ms/step - loss: 3.5824 - accuracy: 0.0778\n"
     ]
    }
   ],
   "source": [
    "start_time = time.time()\n",
    "model.evaluate(x_test, y_test, batch_size=64)\n",
    "end_time = time.time()\n",
    "# calculate the total training time\n",
    "total_time = end_time - start_time"
   ]
  },
  {
   "cell_type": "code",
   "execution_count": 12,
   "metadata": {},
   "outputs": [
    {
     "name": "stdout",
     "output_type": "stream",
     "text": [
      "0.06358933448791504\n"
     ]
    }
   ],
   "source": [
    "print(total_time)"
   ]
  },
  {
   "cell_type": "code",
   "execution_count": 1,
   "metadata": {
    "tags": []
   },
   "outputs": [
    {
     "name": "stderr",
     "output_type": "stream",
     "text": [
      "2023-05-26 07:30:06.091145: I tensorflow/tsl/cuda/cudart_stub.cc:28] Could not find cuda drivers on your machine, GPU will not be used.\n",
      "2023-05-26 07:30:06.128392: I tensorflow/tsl/cuda/cudart_stub.cc:28] Could not find cuda drivers on your machine, GPU will not be used.\n",
      "2023-05-26 07:30:06.128923: I tensorflow/core/platform/cpu_feature_guard.cc:182] This TensorFlow binary is optimized to use available CPU instructions in performance-critical operations.\n",
      "To enable the following instructions: AVX2 FMA, in other operations, rebuild TensorFlow with the appropriate compiler flags.\n",
      "2023-05-26 07:30:06.676170: W tensorflow/compiler/tf2tensorrt/utils/py_utils.cc:38] TF-TRT Warning: Could not find TensorRT\n"
     ]
    },
    {
     "ename": "NameError",
     "evalue": "name 'model' is not defined",
     "output_type": "error",
     "traceback": [
      "\u001b[0;31m---------------------------------------------------------------------------\u001b[0m",
      "\u001b[0;31mNameError\u001b[0m                                 Traceback (most recent call last)",
      "Cell \u001b[0;32mIn[1], line 3\u001b[0m\n\u001b[1;32m      1\u001b[0m \u001b[38;5;28;01mfrom\u001b[39;00m \u001b[38;5;21;01mkeras_flops\u001b[39;00m \u001b[38;5;28;01mimport\u001b[39;00m get_flops\n\u001b[1;32m      2\u001b[0m \u001b[38;5;66;03m# Calculae FLOPS\u001b[39;00m\n\u001b[0;32m----> 3\u001b[0m flops \u001b[38;5;241m=\u001b[39m get_flops(\u001b[43mmodel\u001b[49m)\n\u001b[1;32m      4\u001b[0m \u001b[38;5;28mprint\u001b[39m(\u001b[38;5;124mf\u001b[39m\u001b[38;5;124m\"\u001b[39m\u001b[38;5;124mFLOPS: \u001b[39m\u001b[38;5;132;01m{\u001b[39;00mflops\u001b[38;5;250m \u001b[39m\u001b[38;5;241m/\u001b[39m\u001b[38;5;250m \u001b[39m\u001b[38;5;241m10e6\u001b[39m\u001b[38;5;132;01m}\u001b[39;00m\u001b[38;5;124m G\u001b[39m\u001b[38;5;124m\"\u001b[39m)\n",
      "\u001b[0;31mNameError\u001b[0m: name 'model' is not defined"
     ]
    }
   ],
   "source": [
    "from keras_flops import get_flops\n",
    "# Calculae FLOPS\n",
    "flops = get_flops(model)\n",
    "print(f\"FLOPS: {flops / 10e6} G\")"
   ]
  },
  {
   "cell_type": "raw",
   "metadata": {},
   "source": [
    "31/31 [==============================] - 3s 25ms/step - loss: 3.9251 - accuracy: 0.0202 - val_loss: 3.9200 - val_accuracy: 0.0200\n",
    "Epoch 2/30\n",
    "31/31 [==============================] - 0s 14ms/step - loss: 3.9140 - accuracy: 0.0211 - val_loss: 3.9181 - val_accuracy: 0.0200\n",
    "Epoch 3/30\n",
    "31/31 [==============================] - 0s 10ms/step - loss: 3.9145 - accuracy: 0.0204 - val_loss: 3.9171 - val_accuracy: 0.0200\n",
    "Epoch 4/30\n",
    "31/31 [==============================] - 0s 11ms/step - loss: 3.9141 - accuracy: 0.0208 - val_loss: 3.9141 - val_accuracy: 0.0222\n",
    "Epoch 5/30\n",
    "31/31 [==============================] - 0s 10ms/step - loss: 3.9019 - accuracy: 0.0252 - val_loss: 3.8799 - val_accuracy: 0.0378\n",
    "Epoch 6/30\n",
    "31/31 [==============================] - 0s 10ms/step - loss: 3.7786 - accuracy: 0.0516 - val_loss: 3.7111 - val_accuracy: 0.0622\n",
    "Epoch 7/30\n",
    "31/31 [==============================] - 0s 10ms/step - loss: 3.6590 - accuracy: 0.0675 - val_loss: 3.6242 - val_accuracy: 0.0822\n",
    "Epoch 8/30\n",
    "31/31 [==============================] - 0s 10ms/step - loss: 3.6174 - accuracy: 0.0746 - val_loss: 3.6052 - val_accuracy: 0.0822\n",
    "Epoch 9/30\n",
    "31/31 [==============================] - 0s 10ms/step - loss: 3.6021 - accuracy: 0.0784 - val_loss: 3.5967 - val_accuracy: 0.0822\n",
    "Epoch 10/30\n",
    "31/31 [==============================] - 0s 10ms/step - loss: 3.5903 - accuracy: 0.0805 - val_loss: 3.5753 - val_accuracy: 0.0911\n",
    "Epoch 11/30\n",
    "31/31 [==============================] - 0s 10ms/step - loss: 3.5722 - accuracy: 0.0842 - val_loss: 3.5553 - val_accuracy: 0.0956\n",
    "Epoch 12/30\n",
    "31/31 [==============================] - 0s 10ms/step - loss: 3.5577 - accuracy: 0.0866 - val_loss: 3.5412 - val_accuracy: 0.1089\n",
    "Epoch 13/30\n",
    "31/31 [==============================] - 0s 9ms/step - loss: 3.5493 - accuracy: 0.0883 - val_loss: 3.5178 - val_accuracy: 0.1044\n",
    "Epoch 14/30\n",
    "31/31 [==============================] - 0s 10ms/step - loss: 3.5318 - accuracy: 0.0923 - val_loss: 3.5037 - val_accuracy: 0.1178\n",
    "Epoch 15/30\n",
    "31/31 [==============================] - 0s 10ms/step - loss: 3.5224 - accuracy: 0.0945 - val_loss: 3.4986 - val_accuracy: 0.1000\n",
    "Epoch 16/30\n",
    "31/31 [==============================] - 0s 10ms/step - loss: 3.5105 - accuracy: 0.0957 - val_loss: 3.4777 - val_accuracy: 0.1000\n",
    "Epoch 17/30\n",
    "31/31 [==============================] - 0s 10ms/step - loss: 3.4957 - accuracy: 0.0986 - val_loss: 3.4633 - val_accuracy: 0.1000\n",
    "Epoch 18/30\n",
    "31/31 [==============================] - 0s 10ms/step - loss: 3.4852 - accuracy: 0.1001 - val_loss: 3.4572 - val_accuracy: 0.1156\n",
    "Epoch 19/30\n",
    "31/31 [==============================] - 0s 10ms/step - loss: 3.4848 - accuracy: 0.1007 - val_loss: 3.4492 - val_accuracy: 0.1022\n",
    "Epoch 20/30\n",
    "31/31 [==============================] - 0s 10ms/step - loss: 3.4656 - accuracy: 0.1030 - val_loss: 3.4407 - val_accuracy: 0.1044\n",
    "Epoch 21/30\n",
    "31/31 [==============================] - 0s 10ms/step - loss: 3.4572 - accuracy: 0.1054 - val_loss: 3.4352 - val_accuracy: 0.1022\n",
    "Epoch 22/30\n",
    "31/31 [==============================] - 0s 11ms/step - loss: 3.4509 - accuracy: 0.1059 - val_loss: 3.4230 - val_accuracy: 0.1022\n",
    "Epoch 23/30\n",
    "31/31 [==============================] - 0s 10ms/step - loss: 3.4388 - accuracy: 0.1083 - val_loss: 3.4254 - val_accuracy: 0.1000\n",
    "Epoch 24/30\n",
    "31/31 [==============================] - 0s 10ms/step - loss: 3.4293 - accuracy: 0.1111 - val_loss: 3.4093 - val_accuracy: 0.1044\n",
    "Epoch 25/30\n",
    "31/31 [==============================] - 0s 10ms/step - loss: 3.4233 - accuracy: 0.1130 - val_loss: 3.4207 - val_accuracy: 0.1089\n",
    "Epoch 26/30\n",
    "31/31 [==============================] - 0s 10ms/step - loss: 3.4210 - accuracy: 0.1116 - val_loss: 3.4071 - val_accuracy: 0.1178\n",
    "Epoch 27/30\n",
    "31/31 [==============================] - 0s 10ms/step - loss: 3.4064 - accuracy: 0.1146 - val_loss: 3.3913 - val_accuracy: 0.1067\n",
    "Epoch 28/30\n",
    "31/31 [==============================] - 0s 10ms/step - loss: 3.4005 - accuracy: 0.1184 - val_loss: 3.3816 - val_accuracy: 0.1222\n",
    "Epoch 29/30\n",
    "31/31 [==============================] - 0s 9ms/step - loss: 3.3936 - accuracy: 0.1173 - val_loss: 3.3737 - val_accuracy: 0.1222\n",
    "Epoch 30/30\n",
    "31/31 [==============================] - 0s 10ms/step - loss: 3.3827 - accuracy: 0.1193 - val_loss: 3.3690 - val_accuracy: 0.1333\n",
    "Total training time: 12.52 seconds\n",
    "Average time per epoch: 0.42 seconds\n",
    "\n",
    "WARNING:tensorflow:From /usr/local/lib/python3.8/dist-packages/tensorflow/python/ops/nn_ops.py:5214: tensor_shape_from_node_def_name (from tensorflow.python.framework.graph_util_impl) is deprecated and will be removed in a future version.\n",
    "Instructions for updating:\n",
    "Use `tf.compat.v1.graph_util.tensor_shape_from_node_def_name`\n",
    "\n",
    "=========================Options=============================\n",
    "-max_depth                  10000\n",
    "-min_bytes                  0\n",
    "-min_peak_bytes             0\n",
    "-min_residual_bytes         0\n",
    "-min_output_bytes           0\n",
    "-min_micros                 0\n",
    "-min_accelerator_micros     0\n",
    "-min_cpu_micros             0\n",
    "-min_params                 0\n",
    "-min_float_ops              1\n",
    "-min_occurrence             0\n",
    "-step                       -1\n",
    "-order_by                   float_ops\n",
    "-account_type_regexes       .*\n",
    "-start_name_regexes         .*\n",
    "-trim_name_regexes          \n",
    "-show_name_regexes          .*\n",
    "-hide_name_regexes          \n",
    "-account_displayed_op_only  true\n",
    "-select                     float_ops\n",
    "-output                     stdout:\n",
    "\n",
    "==================Model Analysis Report======================\n",
    "\n",
    "Doc:\n",
    "scope: The nodes in the model graph are organized by their names, which is hierarchical like filesystem.\n",
    "flops: Number of float operations. Note: Please read the implementation for the math behind it.\n",
    "\n",
    "Profile:\n",
    "node name | # float_ops\n",
    "_TFProfRoot (--/1.32m flops)\n",
    "  model/conv2d/Conv2D (705.60k/705.60k flops)\n",
    "  model/conv2d_1/Conv2D (480.00k/480.00k flops)\n",
    "  model/conv2d_2/Conv2D (96.00k/96.00k flops)\n",
    "  model/dense/MatMul (20.16k/20.16k flops)\n",
    "  model/dense_1/MatMul (8.40k/8.40k flops)\n",
    "  model/average_pooling2d/AvgPool (4.70k/4.70k flops)\n",
    "  model/conv2d/BiasAdd (4.70k/4.70k flops)\n",
    "  model/average_pooling2d_1/AvgPool (1.60k/1.60k flops)\n",
    "  model/conv2d_1/BiasAdd (1.60k/1.60k flops)\n",
    "  model/dense_1/Softmax (250/250 flops)\n",
    "  model/conv2d_2/BiasAdd (120/120 flops)\n",
    "  model/dense/BiasAdd (84/84 flops)\n",
    "  model/dense_1/BiasAdd (50/50 flops)\n",
    "\n",
    "======================End of Report==========================\n",
    "FLOPS: 0.1323272 G\n",
    "8/8 [==============================] - 0s 17ms/step - loss: 3.3792 - accuracy: 0.1289\n",
    "0.1701498031616211"
   ]
  },
  {
   "cell_type": "code",
   "execution_count": null,
   "metadata": {},
   "outputs": [],
   "source": []
  }
 ],
 "metadata": {
  "accelerator": "GPU",
  "colab": {
   "name": "LeNet-5 TensorFlow 2.0 datahacker.ipynb",
   "provenance": []
  },
  "kernelspec": {
   "display_name": "Python 3 (ipykernel)",
   "language": "python",
   "name": "python3"
  },
  "language_info": {
   "codemirror_mode": {
    "name": "ipython",
    "version": 3
   },
   "file_extension": ".py",
   "mimetype": "text/x-python",
   "name": "python",
   "nbconvert_exporter": "python",
   "pygments_lexer": "ipython3",
   "version": "3.8.10"
  }
 },
 "nbformat": 4,
 "nbformat_minor": 4
}
